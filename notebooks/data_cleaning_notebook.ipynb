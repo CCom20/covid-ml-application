{
 "cells": [
  {
   "cell_type": "code",
   "execution_count": 1,
   "metadata": {},
   "outputs": [],
   "source": [
    "# Import dependancies\n",
    "from bs4 import BeautifulSoup as bs\n",
    "from splinter import Browser\n",
    "import requests\n",
    "import csv\n",
    "import pandas as pd\n",
    "from selenium import webdriver\n",
    "from webdriver_manager.chrome import ChromeDriverManager\n",
    "import datetime as dt\n",
    "import matplotlib.pyplot as plt"
   ]
  },
  {
   "cell_type": "markdown",
   "metadata": {},
   "source": [
    "### Get Vaccine Data from CDC"
   ]
  },
  {
   "cell_type": "code",
   "execution_count": 2,
   "metadata": {},
   "outputs": [
    {
     "name": "stderr",
     "output_type": "stream",
     "text": [
      "[WDM] - Current google-chrome version is 89.0.4389\n",
      "[WDM] - Get LATEST driver version for 89.0.4389\n",
      "[WDM] - Driver [C:\\Users\\coled\\.wdm\\drivers\\chromedriver\\win32\\89.0.4389.23\\chromedriver.exe] found in cache\n"
     ]
    },
    {
     "name": "stdout",
     "output_type": "stream",
     "text": [
      " \n"
     ]
    }
   ],
   "source": [
    "# Get Vaccinations Table from CDC website\n",
    "executable_path = {'executable_path': ChromeDriverManager().install()}\n",
    "browser = Browser('chrome', **executable_path, headless=False)\n",
    "browser.visit(\"https://covid.cdc.gov/covid-data-tracker/#vaccinations\")\n",
    "vaccine_html = browser.html\n",
    "browser.click_link_by_id(\"vaccinations-table-toggle\")\n",
    "cdc_html = browser.html\n",
    "cdc_parsed = bs(cdc_html, \"html.parser\")\n",
    "table = cdc_parsed.select(\"table\")\n",
    "browser.quit()"
   ]
  },
  {
   "cell_type": "code",
   "execution_count": 3,
   "metadata": {},
   "outputs": [],
   "source": [
    "# Read the CDC Vaccine HTML Table\n",
    "vaccines_df = pd.read_html(str(table))[0]"
   ]
  },
  {
   "cell_type": "code",
   "execution_count": 4,
   "metadata": {},
   "outputs": [],
   "source": [
    "# Change \"New York State\" to \"New York\" for data merging\n",
    "vaccines_df.loc[vaccines_df[\"State/Territory/Federal Entity\"] == \"New York State\", \"State/Territory/Federal Entity\"] = \"New York\""
   ]
  },
  {
   "cell_type": "code",
   "execution_count": 5,
   "metadata": {},
   "outputs": [],
   "source": [
    "# Rename \"State/Territory/Federal Entity\" column to \"state\" for data merging\n",
    "vaccines_df = vaccines_df.rename(columns={\"State/Territory/Federal Entity\": \"state\"})"
   ]
  },
  {
   "cell_type": "markdown",
   "metadata": {},
   "source": [
    "## Daily COVID-19 - NYT / Rearc"
   ]
  },
  {
   "cell_type": "code",
   "execution_count": 167,
   "metadata": {},
   "outputs": [],
   "source": [
    "# Read Daily COVID-19 CSV from AWS S3 Bucket - Rearc / NY Times Data \n",
    "us_covid_cases_data = requests.get(\"https://covid19-lake.s3.us-east-2.amazonaws.com/rearc-covid-19-nyt-data-in-usa/csv/us-states/us-states.csv\", stream=True)"
   ]
  },
  {
   "cell_type": "code",
   "execution_count": 168,
   "metadata": {},
   "outputs": [],
   "source": [
    "# Overwrite the US COVID Data CSV with the latest one \n",
    "with open(\"../data/us-covid-data.csv\",  \"wb\") as file:\n",
    "    file.write(us_covid_cases_data.content)"
   ]
  },
  {
   "cell_type": "code",
   "execution_count": 169,
   "metadata": {},
   "outputs": [],
   "source": [
    "# Read US COVID Data CSV for data merging and cleaning \n",
    "us_covid_cases_df = pd.read_csv(\"../data/us-covid-data.csv\")"
   ]
  },
  {
   "cell_type": "markdown",
   "metadata": {},
   "source": [
    "# State Overview Data"
   ]
  },
  {
   "cell_type": "code",
   "execution_count": 9,
   "metadata": {},
   "outputs": [],
   "source": [
    "# Get yesterday's date, which is the latest data \n",
    "today = dt.date.today()\n",
    "yesterday = today - dt.timedelta(days = 1)\n",
    "latest_data = yesterday.strftime(\"%Y-%m-%d\")"
   ]
  },
  {
   "cell_type": "code",
   "execution_count": 10,
   "metadata": {},
   "outputs": [],
   "source": [
    "# Get latest total cases by state for latest date\n",
    "us_total_cases_to_date_df = us_covid_cases_df.groupby([\"date\", \"state\"]).sum()\n",
    "us_total_cases_to_date_df.reset_index(inplace=True)\n",
    "us_total_cases_to_date_df = us_total_cases_to_date_df.loc[us_total_cases_to_date_df[\"date\"] == latest_data]"
   ]
  },
  {
   "cell_type": "code",
   "execution_count": 11,
   "metadata": {},
   "outputs": [],
   "source": [
    "# Read State Lat-Lon CSV and rename columns for easier cleaning and merging\n",
    "state_latlons_df = pd.read_csv(\"../data/statelatlong.csv\")\n",
    "state_latlons_df.rename(columns={\"State\": \"abbr\", \"Latitude\": \"lat\", \"Longitude\": \"lon\", \"City\": \"state\"}, inplace=True)"
   ]
  },
  {
   "cell_type": "code",
   "execution_count": 12,
   "metadata": {
    "scrolled": true
   },
   "outputs": [],
   "source": [
    "# Read State Population CSV for cleaning and merging\n",
    "state_pop_df = pd.read_csv(\"../data/state_populations_cleaned.csv\")"
   ]
  },
  {
   "cell_type": "code",
   "execution_count": 13,
   "metadata": {},
   "outputs": [],
   "source": [
    "# Merge, rename, and focus on defined columns\n",
    "state_overview_master_df = pd.merge(state_pop_df, state_latlons_df, how=\"inner\", on=\"state\")\n",
    "state_overview_master_df = state_overview_master_df[[\"state\", \"abbr\", \"lat\", \"lon\", \"population\"]]"
   ]
  },
  {
   "cell_type": "code",
   "execution_count": 14,
   "metadata": {},
   "outputs": [],
   "source": [
    "# Merge with us_total_cases_to_date_df and focus on defined columns\n",
    "state_overview_master_df = pd.merge(state_overview_master_df, us_total_cases_to_date_df, how=\"inner\", on=\"state\")\n",
    "state_overview_master_df = state_overview_master_df[[\"date\", \"state\", \"abbr\", \"lat\", \"lon\", \"population\", \"fips\", \"cases\", \"deaths\"]]"
   ]
  },
  {
   "cell_type": "code",
   "execution_count": 15,
   "metadata": {},
   "outputs": [],
   "source": [
    "# Merge with Vaccination data, rename columns, focus data columns\n",
    "state_overview_master_df = pd.merge(state_overview_master_df, vaccines_df, how=\"inner\", on=\"state\")\n",
    "state_overview_master_df = state_overview_master_df.rename(columns={\"Total Doses Administered by State where Administered\": \"total_doses_administered\", \"Doses Administered per 100k by State where Administered\": \"doses_administered_per_100k\"})\n",
    "state_overview_master_df = state_overview_master_df[[\"date\", \"state\", \"abbr\", \"lat\", \"lon\", \"population\", \"fips\", \"cases\", \"deaths\", \"total_doses_administered\", \"doses_administered_per_100k\"]]"
   ]
  },
  {
   "cell_type": "code",
   "execution_count": 16,
   "metadata": {},
   "outputs": [],
   "source": [
    "# Add Empty Column for New Calculation\n",
    "state_overview_master_df[\"percent_vaccinated\"] = \"\""
   ]
  },
  {
   "cell_type": "code",
   "execution_count": 17,
   "metadata": {},
   "outputs": [],
   "source": [
    "# Calcuation for percent vaccinated by state\n",
    "for index, row in state_overview_master_df.iterrows():\n",
    "    population = row[\"population\"]\n",
    "    vaccinated = row[\"total_doses_administered\"]\n",
    "    percent_vaccinated = round((vaccinated / population) * 100, 2)\n",
    "    \n",
    "    state_overview_master_df.at[index, \"percent_vaccinated\"] = percent_vaccinated"
   ]
  },
  {
   "cell_type": "code",
   "execution_count": 18,
   "metadata": {},
   "outputs": [],
   "source": [
    "# Convert percent vaccinated into a float\n",
    "state_overview_master_df = state_overview_master_df.astype({\"percent_vaccinated\": 'float64'})"
   ]
  },
  {
   "cell_type": "code",
   "execution_count": 19,
   "metadata": {
    "scrolled": true
   },
   "outputs": [],
   "source": [
    "state_overview_master_df.to_csv(\"../data/state-master-data.csv\")"
   ]
  },
  {
   "cell_type": "code",
   "execution_count": 20,
   "metadata": {},
   "outputs": [],
   "source": [
    "state_overview_master_df[\"date\"] = pd.to_datetime(state_overview_master_df[\"date\"])"
   ]
  },
  {
   "cell_type": "markdown",
   "metadata": {},
   "source": [
    "# County Overview Data"
   ]
  },
  {
   "cell_type": "code",
   "execution_count": 21,
   "metadata": {},
   "outputs": [],
   "source": [
    "populations_county = pd.read_csv(\"../data/census-bureau-population-by-county.csv\")\n",
    "poverty_county = pd.read_csv(\"../data/poverty-and-median-household-income-data-by-us-county-2019.csv\")\n",
    "state_keys = pd.read_csv(\"../data/state-names-codes.csv\")"
   ]
  },
  {
   "cell_type": "code",
   "execution_count": 22,
   "metadata": {},
   "outputs": [],
   "source": [
    "poverty_county = poverty_county[[\"Postal Code\", \"county\", \"Poverty Estimate, All Ages\", \"Median Household Income\"]]\n",
    "poverty_county = poverty_county.rename(columns={\"Postal Code\": \"code\", \"Poverty Estimate, All Ages\": \"poverty_est_all_ages\", \n",
    "                                              \"Median Household Income\": \"median_household_income\"})\n",
    "poverty_county[\"county\"] = poverty_county[\"county\"].str.rstrip()"
   ]
  },
  {
   "cell_type": "code",
   "execution_count": 23,
   "metadata": {},
   "outputs": [],
   "source": [
    "state_keys = state_keys.rename(columns={\"Code\": \"code\", \"State\": \"state\"})\n",
    "state_keys = state_keys[[\"state\", \"code\"]]"
   ]
  },
  {
   "cell_type": "code",
   "execution_count": 24,
   "metadata": {},
   "outputs": [],
   "source": [
    "poverty_county = pd.merge(poverty_county, state_keys, how=\"inner\", on=\"code\")\n",
    "poverty_county.drop(columns={\"state\"}, inplace=True)"
   ]
  },
  {
   "cell_type": "code",
   "execution_count": 25,
   "metadata": {},
   "outputs": [],
   "source": [
    "populations_county = populations_county.merge(state_keys, how=\"inner\", on=\"state\")\n",
    "populations_county = populations_county[[\"code\", \"county\", \"state\", \"population_est\"]]\n",
    "populations_county[\"code\"] = populations_county[\"code\"].str.rstrip()\n",
    "populations_county[\"county\"] = populations_county[\"county\"].str.rstrip()"
   ]
  },
  {
   "cell_type": "code",
   "execution_count": 26,
   "metadata": {},
   "outputs": [],
   "source": [
    "merged_data = populations_county.merge(poverty_county, how='inner', left_on=[\"code\", \"county\"], right_on=[\"code\", \"county\"])"
   ]
  },
  {
   "cell_type": "code",
   "execution_count": 27,
   "metadata": {},
   "outputs": [],
   "source": [
    "merged_data.dropna(how=\"any\", inplace=True)"
   ]
  },
  {
   "cell_type": "code",
   "execution_count": 28,
   "metadata": {},
   "outputs": [
    {
     "data": {
      "text/html": [
       "<div>\n",
       "<style scoped>\n",
       "    .dataframe tbody tr th:only-of-type {\n",
       "        vertical-align: middle;\n",
       "    }\n",
       "\n",
       "    .dataframe tbody tr th {\n",
       "        vertical-align: top;\n",
       "    }\n",
       "\n",
       "    .dataframe thead th {\n",
       "        text-align: right;\n",
       "    }\n",
       "</style>\n",
       "<table border=\"1\" class=\"dataframe\">\n",
       "  <thead>\n",
       "    <tr style=\"text-align: right;\">\n",
       "      <th></th>\n",
       "      <th>code</th>\n",
       "      <th>county</th>\n",
       "      <th>state</th>\n",
       "      <th>population_est</th>\n",
       "      <th>poverty_est_all_ages</th>\n",
       "      <th>median_household_income</th>\n",
       "    </tr>\n",
       "  </thead>\n",
       "  <tbody>\n",
       "    <tr>\n",
       "      <th>0</th>\n",
       "      <td>AL</td>\n",
       "      <td>Alabama</td>\n",
       "      <td>Alabama</td>\n",
       "      <td>4903185</td>\n",
       "      <td>747478</td>\n",
       "      <td>51771</td>\n",
       "    </tr>\n",
       "    <tr>\n",
       "      <th>1</th>\n",
       "      <td>AL</td>\n",
       "      <td>Autauga</td>\n",
       "      <td>Alabama</td>\n",
       "      <td>55869</td>\n",
       "      <td>6723</td>\n",
       "      <td>58233</td>\n",
       "    </tr>\n",
       "    <tr>\n",
       "      <th>2</th>\n",
       "      <td>AL</td>\n",
       "      <td>Baldwin</td>\n",
       "      <td>Alabama</td>\n",
       "      <td>223234</td>\n",
       "      <td>22360</td>\n",
       "      <td>59871</td>\n",
       "    </tr>\n",
       "    <tr>\n",
       "      <th>3</th>\n",
       "      <td>AL</td>\n",
       "      <td>Barbour</td>\n",
       "      <td>Alabama</td>\n",
       "      <td>24686</td>\n",
       "      <td>5909</td>\n",
       "      <td>35972</td>\n",
       "    </tr>\n",
       "    <tr>\n",
       "      <th>4</th>\n",
       "      <td>AL</td>\n",
       "      <td>Bibb</td>\n",
       "      <td>Alabama</td>\n",
       "      <td>22394</td>\n",
       "      <td>4101</td>\n",
       "      <td>47918</td>\n",
       "    </tr>\n",
       "    <tr>\n",
       "      <th>...</th>\n",
       "      <td>...</td>\n",
       "      <td>...</td>\n",
       "      <td>...</td>\n",
       "      <td>...</td>\n",
       "      <td>...</td>\n",
       "      <td>...</td>\n",
       "    </tr>\n",
       "    <tr>\n",
       "      <th>3192</th>\n",
       "      <td>WY</td>\n",
       "      <td>Sweetwater</td>\n",
       "      <td>Wyoming</td>\n",
       "      <td>42343</td>\n",
       "      <td>3453</td>\n",
       "      <td>80639</td>\n",
       "    </tr>\n",
       "    <tr>\n",
       "      <th>3193</th>\n",
       "      <td>WY</td>\n",
       "      <td>Teton</td>\n",
       "      <td>Wyoming</td>\n",
       "      <td>23464</td>\n",
       "      <td>1396</td>\n",
       "      <td>98837</td>\n",
       "    </tr>\n",
       "    <tr>\n",
       "      <th>3194</th>\n",
       "      <td>WY</td>\n",
       "      <td>Uinta</td>\n",
       "      <td>Wyoming</td>\n",
       "      <td>20226</td>\n",
       "      <td>1699</td>\n",
       "      <td>70756</td>\n",
       "    </tr>\n",
       "    <tr>\n",
       "      <th>3195</th>\n",
       "      <td>WY</td>\n",
       "      <td>Washakie</td>\n",
       "      <td>Wyoming</td>\n",
       "      <td>7805</td>\n",
       "      <td>845</td>\n",
       "      <td>55122</td>\n",
       "    </tr>\n",
       "    <tr>\n",
       "      <th>3196</th>\n",
       "      <td>WY</td>\n",
       "      <td>Weston</td>\n",
       "      <td>Wyoming</td>\n",
       "      <td>6927</td>\n",
       "      <td>692</td>\n",
       "      <td>59410</td>\n",
       "    </tr>\n",
       "  </tbody>\n",
       "</table>\n",
       "<p>3197 rows × 6 columns</p>\n",
       "</div>"
      ],
      "text/plain": [
       "     code      county    state  population_est poverty_est_all_ages  \\\n",
       "0      AL     Alabama  Alabama         4903185               747478   \n",
       "1      AL     Autauga  Alabama           55869                 6723   \n",
       "2      AL     Baldwin  Alabama          223234                22360   \n",
       "3      AL     Barbour  Alabama           24686                 5909   \n",
       "4      AL        Bibb  Alabama           22394                 4101   \n",
       "...   ...         ...      ...             ...                  ...   \n",
       "3192   WY  Sweetwater  Wyoming           42343                 3453   \n",
       "3193   WY       Teton  Wyoming           23464                 1396   \n",
       "3194   WY       Uinta  Wyoming           20226                 1699   \n",
       "3195   WY    Washakie  Wyoming            7805                  845   \n",
       "3196   WY      Weston  Wyoming            6927                  692   \n",
       "\n",
       "     median_household_income  \n",
       "0                      51771  \n",
       "1                      58233  \n",
       "2                      59871  \n",
       "3                      35972  \n",
       "4                      47918  \n",
       "...                      ...  \n",
       "3192                   80639  \n",
       "3193                   98837  \n",
       "3194                   70756  \n",
       "3195                   55122  \n",
       "3196                   59410  \n",
       "\n",
       "[3197 rows x 6 columns]"
      ]
     },
     "execution_count": 28,
     "metadata": {},
     "output_type": "execute_result"
    }
   ],
   "source": [
    "merged_data"
   ]
  },
  {
   "cell_type": "markdown",
   "metadata": {},
   "source": [
    "### Retrieve County Cases Data"
   ]
  },
  {
   "cell_type": "code",
   "execution_count": 29,
   "metadata": {},
   "outputs": [],
   "source": [
    "county_cases = requests.get(\"https://covid19-lake.s3.us-east-2.amazonaws.com/rearc-covid-19-nyt-data-in-usa/csv/us-counties/us-counties.csv\", stream=True)"
   ]
  },
  {
   "cell_type": "code",
   "execution_count": 30,
   "metadata": {},
   "outputs": [],
   "source": [
    "# Overwrite the US COVID Data CSV with the latest one \n",
    "with open(\"../data/county-covid-data.csv\",  \"wb\") as file:\n",
    "    file.write(county_cases.content)"
   ]
  },
  {
   "cell_type": "code",
   "execution_count": 31,
   "metadata": {},
   "outputs": [],
   "source": [
    "# Read US COVID Data CSV for data merging and cleaning \n",
    "us_county_cases = pd.read_csv(\"../data/county-covid-data.csv\")"
   ]
  },
  {
   "cell_type": "code",
   "execution_count": 32,
   "metadata": {},
   "outputs": [],
   "source": [
    "us_county_cases = us_county_cases.groupby([\"date\", \"state\", \"county\"]).sum()\n",
    "us_county_cases.reset_index(inplace=True)"
   ]
  },
  {
   "cell_type": "code",
   "execution_count": 33,
   "metadata": {},
   "outputs": [],
   "source": [
    "us_county_cases = us_county_cases.merge(merged_data, how=\"left\")"
   ]
  },
  {
   "cell_type": "code",
   "execution_count": 34,
   "metadata": {},
   "outputs": [],
   "source": [
    "us_county_cases.to_csv(\"../data/county-cases-daily-master.csv\")"
   ]
  },
  {
   "cell_type": "code",
   "execution_count": 35,
   "metadata": {},
   "outputs": [],
   "source": [
    "us_county_cases[\"date\"] = pd.to_datetime(us_county_cases[\"date\"])"
   ]
  },
  {
   "cell_type": "code",
   "execution_count": 36,
   "metadata": {},
   "outputs": [],
   "source": [
    "latest_covid_cases = us_county_cases.loc[us_county_cases[\"date\"] == latest_data]"
   ]
  },
  {
   "cell_type": "code",
   "execution_count": 37,
   "metadata": {},
   "outputs": [
    {
     "name": "stderr",
     "output_type": "stream",
     "text": [
      "C:\\Users\\coled\\anaconda3\\envs\\PythonData\\lib\\site-packages\\ipykernel_launcher.py:1: SettingWithCopyWarning: \n",
      "A value is trying to be set on a copy of a slice from a DataFrame\n",
      "\n",
      "See the caveats in the documentation: https://pandas.pydata.org/pandas-docs/stable/user_guide/indexing.html#returning-a-view-versus-a-copy\n",
      "  \"\"\"Entry point for launching an IPython kernel.\n"
     ]
    }
   ],
   "source": [
    "latest_covid_cases.dropna(how=\"any\", inplace=True)"
   ]
  },
  {
   "cell_type": "code",
   "execution_count": 38,
   "metadata": {},
   "outputs": [],
   "source": [
    "for index, row in latest_covid_cases.iterrows():\n",
    "    latest_covid_cases.at[index, \"poverty_est_all_ages\"] = row[\"poverty_est_all_ages\"].replace('.', \"0\")\n",
    "    latest_covid_cases.at[index, \"median_household_income\"] = row[\"median_household_income\"].replace('.', \"0\")"
   ]
  },
  {
   "cell_type": "code",
   "execution_count": 39,
   "metadata": {},
   "outputs": [
    {
     "name": "stderr",
     "output_type": "stream",
     "text": [
      "C:\\Users\\coled\\anaconda3\\envs\\PythonData\\lib\\site-packages\\pandas\\core\\frame.py:4327: SettingWithCopyWarning: \n",
      "A value is trying to be set on a copy of a slice from a DataFrame\n",
      "\n",
      "See the caveats in the documentation: https://pandas.pydata.org/pandas-docs/stable/user_guide/indexing.html#returning-a-view-versus-a-copy\n",
      "  downcast=downcast,\n"
     ]
    }
   ],
   "source": [
    "latest_covid_cases.fillna(0, inplace=True)"
   ]
  },
  {
   "cell_type": "code",
   "execution_count": 40,
   "metadata": {},
   "outputs": [
    {
     "name": "stderr",
     "output_type": "stream",
     "text": [
      "C:\\Users\\coled\\anaconda3\\envs\\PythonData\\lib\\site-packages\\ipykernel_launcher.py:1: SettingWithCopyWarning: \n",
      "A value is trying to be set on a copy of a slice from a DataFrame.\n",
      "Try using .loc[row_indexer,col_indexer] = value instead\n",
      "\n",
      "See the caveats in the documentation: https://pandas.pydata.org/pandas-docs/stable/user_guide/indexing.html#returning-a-view-versus-a-copy\n",
      "  \"\"\"Entry point for launching an IPython kernel.\n",
      "C:\\Users\\coled\\anaconda3\\envs\\PythonData\\lib\\site-packages\\ipykernel_launcher.py:2: SettingWithCopyWarning: \n",
      "A value is trying to be set on a copy of a slice from a DataFrame.\n",
      "Try using .loc[row_indexer,col_indexer] = value instead\n",
      "\n",
      "See the caveats in the documentation: https://pandas.pydata.org/pandas-docs/stable/user_guide/indexing.html#returning-a-view-versus-a-copy\n",
      "  \n"
     ]
    }
   ],
   "source": [
    "latest_covid_cases[\"poverty_est_all_ages\"] = latest_covid_cases[\"poverty_est_all_ages\"].astype('int64')\n",
    "latest_covid_cases[\"median_household_income\"] = latest_covid_cases[\"median_household_income\"].astype('int64')"
   ]
  },
  {
   "cell_type": "code",
   "execution_count": 41,
   "metadata": {},
   "outputs": [],
   "source": [
    "education_data = pd.read_csv(\"../data/county-level-education-stats-2015-2019.csv\")"
   ]
  },
  {
   "cell_type": "code",
   "execution_count": 42,
   "metadata": {},
   "outputs": [],
   "source": [
    "education_data.rename(columns={\"state\": \"code\"}, inplace=True)"
   ]
  },
  {
   "cell_type": "code",
   "execution_count": 43,
   "metadata": {},
   "outputs": [],
   "source": [
    "education_data[\"county\"] = education_data[\"county\"].str.rstrip()"
   ]
  },
  {
   "cell_type": "code",
   "execution_count": 44,
   "metadata": {},
   "outputs": [],
   "source": [
    "latest_covid_cases = latest_covid_cases.merge(education_data, how='outer', left_on=[\"code\", \"county\"], right_on=[\"code\", \"county\"])"
   ]
  },
  {
   "cell_type": "code",
   "execution_count": 45,
   "metadata": {},
   "outputs": [],
   "source": [
    "latest_covid_cases.dropna(inplace=True)"
   ]
  },
  {
   "cell_type": "code",
   "execution_count": 46,
   "metadata": {},
   "outputs": [],
   "source": [
    "latest_covid_cases.to_csv(\"../data/county-cases-latest-master.csv\")"
   ]
  },
  {
   "cell_type": "markdown",
   "metadata": {},
   "source": [
    "## Daily Cases"
   ]
  },
  {
   "cell_type": "code",
   "execution_count": 170,
   "metadata": {},
   "outputs": [],
   "source": [
    "daily_vaccinations = pd.read_csv(\"https://raw.githubusercontent.com/owid/covid-19-data/master/public/data/vaccinations/us_state_vaccinations.csv\")"
   ]
  },
  {
   "cell_type": "code",
   "execution_count": 171,
   "metadata": {},
   "outputs": [],
   "source": [
    "daily_vaccs_cleaned = daily_vaccinations[[\"date\", \"location\", \"people_fully_vaccinated\"]]"
   ]
  },
  {
   "cell_type": "code",
   "execution_count": 172,
   "metadata": {},
   "outputs": [
    {
     "name": "stderr",
     "output_type": "stream",
     "text": [
      "C:\\Users\\coled\\anaconda3\\envs\\PythonData\\lib\\site-packages\\ipykernel_launcher.py:1: SettingWithCopyWarning: \n",
      "A value is trying to be set on a copy of a slice from a DataFrame.\n",
      "Try using .loc[row_indexer,col_indexer] = value instead\n",
      "\n",
      "See the caveats in the documentation: https://pandas.pydata.org/pandas-docs/stable/user_guide/indexing.html#returning-a-view-versus-a-copy\n",
      "  \"\"\"Entry point for launching an IPython kernel.\n"
     ]
    }
   ],
   "source": [
    "daily_vaccs_cleaned[\"date\"] = pd.to_datetime(daily_vaccs_cleaned[\"date\"])"
   ]
  },
  {
   "cell_type": "code",
   "execution_count": 173,
   "metadata": {},
   "outputs": [
    {
     "name": "stderr",
     "output_type": "stream",
     "text": [
      "C:\\Users\\coled\\anaconda3\\envs\\PythonData\\lib\\site-packages\\pandas\\core\\frame.py:4308: SettingWithCopyWarning: \n",
      "A value is trying to be set on a copy of a slice from a DataFrame\n",
      "\n",
      "See the caveats in the documentation: https://pandas.pydata.org/pandas-docs/stable/user_guide/indexing.html#returning-a-view-versus-a-copy\n",
      "  errors=errors,\n"
     ]
    }
   ],
   "source": [
    "daily_vaccs_cleaned.rename(columns={\"location\": \"state\"}, inplace=True)"
   ]
  },
  {
   "cell_type": "code",
   "execution_count": 174,
   "metadata": {},
   "outputs": [],
   "source": [
    "# Convert Dates to pd.Datetimes\n",
    "us_covid_cases_df[\"date\"] = pd.to_datetime(us_covid_cases_df[\"date\"])"
   ]
  },
  {
   "cell_type": "code",
   "execution_count": 175,
   "metadata": {},
   "outputs": [
    {
     "data": {
      "text/html": [
       "<div>\n",
       "<style scoped>\n",
       "    .dataframe tbody tr th:only-of-type {\n",
       "        vertical-align: middle;\n",
       "    }\n",
       "\n",
       "    .dataframe tbody tr th {\n",
       "        vertical-align: top;\n",
       "    }\n",
       "\n",
       "    .dataframe thead th {\n",
       "        text-align: right;\n",
       "    }\n",
       "</style>\n",
       "<table border=\"1\" class=\"dataframe\">\n",
       "  <thead>\n",
       "    <tr style=\"text-align: right;\">\n",
       "      <th></th>\n",
       "      <th>date</th>\n",
       "      <th>state</th>\n",
       "      <th>fips</th>\n",
       "      <th>cases</th>\n",
       "      <th>deaths</th>\n",
       "    </tr>\n",
       "  </thead>\n",
       "  <tbody>\n",
       "    <tr>\n",
       "      <th>0</th>\n",
       "      <td>2020-01-21</td>\n",
       "      <td>Washington</td>\n",
       "      <td>53</td>\n",
       "      <td>1</td>\n",
       "      <td>0</td>\n",
       "    </tr>\n",
       "    <tr>\n",
       "      <th>1</th>\n",
       "      <td>2020-01-22</td>\n",
       "      <td>Washington</td>\n",
       "      <td>53</td>\n",
       "      <td>1</td>\n",
       "      <td>0</td>\n",
       "    </tr>\n",
       "    <tr>\n",
       "      <th>2</th>\n",
       "      <td>2020-01-23</td>\n",
       "      <td>Washington</td>\n",
       "      <td>53</td>\n",
       "      <td>1</td>\n",
       "      <td>0</td>\n",
       "    </tr>\n",
       "    <tr>\n",
       "      <th>3</th>\n",
       "      <td>2020-01-24</td>\n",
       "      <td>Illinois</td>\n",
       "      <td>17</td>\n",
       "      <td>1</td>\n",
       "      <td>0</td>\n",
       "    </tr>\n",
       "    <tr>\n",
       "      <th>4</th>\n",
       "      <td>2020-01-24</td>\n",
       "      <td>Washington</td>\n",
       "      <td>53</td>\n",
       "      <td>1</td>\n",
       "      <td>0</td>\n",
       "    </tr>\n",
       "    <tr>\n",
       "      <th>...</th>\n",
       "      <td>...</td>\n",
       "      <td>...</td>\n",
       "      <td>...</td>\n",
       "      <td>...</td>\n",
       "      <td>...</td>\n",
       "    </tr>\n",
       "    <tr>\n",
       "      <th>20579</th>\n",
       "      <td>2021-03-11</td>\n",
       "      <td>Virginia</td>\n",
       "      <td>51</td>\n",
       "      <td>590625</td>\n",
       "      <td>9902</td>\n",
       "    </tr>\n",
       "    <tr>\n",
       "      <th>20580</th>\n",
       "      <td>2021-03-11</td>\n",
       "      <td>Washington</td>\n",
       "      <td>53</td>\n",
       "      <td>350661</td>\n",
       "      <td>5167</td>\n",
       "    </tr>\n",
       "    <tr>\n",
       "      <th>20581</th>\n",
       "      <td>2021-03-11</td>\n",
       "      <td>West Virginia</td>\n",
       "      <td>54</td>\n",
       "      <td>134496</td>\n",
       "      <td>2338</td>\n",
       "    </tr>\n",
       "    <tr>\n",
       "      <th>20582</th>\n",
       "      <td>2021-03-11</td>\n",
       "      <td>Wisconsin</td>\n",
       "      <td>55</td>\n",
       "      <td>623801</td>\n",
       "      <td>7162</td>\n",
       "    </tr>\n",
       "    <tr>\n",
       "      <th>20583</th>\n",
       "      <td>2021-03-11</td>\n",
       "      <td>Wyoming</td>\n",
       "      <td>56</td>\n",
       "      <td>55112</td>\n",
       "      <td>691</td>\n",
       "    </tr>\n",
       "  </tbody>\n",
       "</table>\n",
       "<p>20584 rows × 5 columns</p>\n",
       "</div>"
      ],
      "text/plain": [
       "            date          state  fips   cases  deaths\n",
       "0     2020-01-21     Washington    53       1       0\n",
       "1     2020-01-22     Washington    53       1       0\n",
       "2     2020-01-23     Washington    53       1       0\n",
       "3     2020-01-24       Illinois    17       1       0\n",
       "4     2020-01-24     Washington    53       1       0\n",
       "...          ...            ...   ...     ...     ...\n",
       "20579 2021-03-11       Virginia    51  590625    9902\n",
       "20580 2021-03-11     Washington    53  350661    5167\n",
       "20581 2021-03-11  West Virginia    54  134496    2338\n",
       "20582 2021-03-11      Wisconsin    55  623801    7162\n",
       "20583 2021-03-11        Wyoming    56   55112     691\n",
       "\n",
       "[20584 rows x 5 columns]"
      ]
     },
     "execution_count": 175,
     "metadata": {},
     "output_type": "execute_result"
    }
   ],
   "source": [
    "us_covid_cases_df"
   ]
  },
  {
   "cell_type": "code",
   "execution_count": 176,
   "metadata": {},
   "outputs": [],
   "source": [
    "us_covid_cases_df = us_covid_cases_df.merge(daily_vaccs_cleaned, how=\"left\", left_on=[\"date\", \"state\"], right_on=[\"date\", \"state\"])"
   ]
  },
  {
   "cell_type": "code",
   "execution_count": 177,
   "metadata": {},
   "outputs": [],
   "source": [
    "us_covid_cases_df.fillna(0, inplace=True)"
   ]
  },
  {
   "cell_type": "code",
   "execution_count": 194,
   "metadata": {},
   "outputs": [],
   "source": [
    "# Create Daily New Cases Dataframe\n",
    "daily_new_cases_df = us_covid_cases_df.groupby(\"date\").sum()"
   ]
  },
  {
   "cell_type": "code",
   "execution_count": 195,
   "metadata": {},
   "outputs": [],
   "source": [
    "daily_new_cases_df[\"daily_new_fully_vaccinated\"] = \"\""
   ]
  },
  {
   "cell_type": "code",
   "execution_count": 196,
   "metadata": {},
   "outputs": [],
   "source": [
    "# daily_new_cases_df[daily_new_cases_df[\"people_fully_vaccinated\"] != 0]\n",
    "previous_day_vaccinations = 0\n",
    "\n",
    "for index, row in daily_new_cases_df.iterrows():\n",
    "    \n",
    "#     if row[\"people_fully_vaccinated\"] == 0:\n",
    "#         previous_day_vaccinations = 0\n",
    "#         new_vaccinations = row[\"people_fully_vaccinated\"] - previous_day_vaccinations\n",
    "#         daily_new_cases_df.at[index, \"daily_new_fully_vaccinated\"] = new_vaccinations\n",
    "#     else:\n",
    "\n",
    "    if row[\"people_fully_vaccinated\"] == 0:\n",
    "        new_vaccinations = row[\"people_fully_vaccinated\"]\n",
    "        daily_new_cases_df.at[index, \"daily_new_fully_vaccinated\"] = new_vaccinations\n",
    "        \n",
    "    else:\n",
    "        new_vaccinations = row[\"people_fully_vaccinated\"] - previous_day_vaccinations\n",
    "        previous_day_vaccinations = row[\"people_fully_vaccinated\"]\n",
    "        daily_new_cases_df.at[index, \"daily_new_fully_vaccinated\"] = new_vaccinations\n",
    "    \n",
    "#     daily_new_cases_df.at[index, \"daily_new_fully_vaccinated\"] = new_vaccinations"
   ]
  },
  {
   "cell_type": "code",
   "execution_count": 197,
   "metadata": {},
   "outputs": [],
   "source": [
    "daily_new_cases_df.reset_index(inplace=True)"
   ]
  },
  {
   "cell_type": "code",
   "execution_count": 198,
   "metadata": {},
   "outputs": [
    {
     "data": {
      "text/html": [
       "<div>\n",
       "<style scoped>\n",
       "    .dataframe tbody tr th:only-of-type {\n",
       "        vertical-align: middle;\n",
       "    }\n",
       "\n",
       "    .dataframe tbody tr th {\n",
       "        vertical-align: top;\n",
       "    }\n",
       "\n",
       "    .dataframe thead th {\n",
       "        text-align: right;\n",
       "    }\n",
       "</style>\n",
       "<table border=\"1\" class=\"dataframe\">\n",
       "  <thead>\n",
       "    <tr style=\"text-align: right;\">\n",
       "      <th></th>\n",
       "      <th>date</th>\n",
       "      <th>fips</th>\n",
       "      <th>cases</th>\n",
       "      <th>deaths</th>\n",
       "      <th>people_fully_vaccinated</th>\n",
       "      <th>daily_new_fully_vaccinated</th>\n",
       "    </tr>\n",
       "  </thead>\n",
       "  <tbody>\n",
       "    <tr>\n",
       "      <th>387</th>\n",
       "      <td>2021-02-11</td>\n",
       "      <td>1762</td>\n",
       "      <td>27434981</td>\n",
       "      <td>475238</td>\n",
       "      <td>9915475.0</td>\n",
       "      <td>630731</td>\n",
       "    </tr>\n",
       "    <tr>\n",
       "      <th>388</th>\n",
       "      <td>2021-02-12</td>\n",
       "      <td>1762</td>\n",
       "      <td>27534539</td>\n",
       "      <td>480701</td>\n",
       "      <td>10714726.0</td>\n",
       "      <td>799251</td>\n",
       "    </tr>\n",
       "    <tr>\n",
       "      <th>389</th>\n",
       "      <td>2021-02-13</td>\n",
       "      <td>1762</td>\n",
       "      <td>27619266</td>\n",
       "      <td>484074</td>\n",
       "      <td>11606347.0</td>\n",
       "      <td>891621</td>\n",
       "    </tr>\n",
       "    <tr>\n",
       "      <th>390</th>\n",
       "      <td>2021-02-14</td>\n",
       "      <td>1762</td>\n",
       "      <td>27683116</td>\n",
       "      <td>485154</td>\n",
       "      <td>12486790.0</td>\n",
       "      <td>880443</td>\n",
       "    </tr>\n",
       "    <tr>\n",
       "      <th>391</th>\n",
       "      <td>2021-02-15</td>\n",
       "      <td>1762</td>\n",
       "      <td>27738488</td>\n",
       "      <td>486148</td>\n",
       "      <td>0.0</td>\n",
       "      <td>0</td>\n",
       "    </tr>\n",
       "    <tr>\n",
       "      <th>392</th>\n",
       "      <td>2021-02-16</td>\n",
       "      <td>1762</td>\n",
       "      <td>27802864</td>\n",
       "      <td>487855</td>\n",
       "      <td>13303348.0</td>\n",
       "      <td>816558</td>\n",
       "    </tr>\n",
       "    <tr>\n",
       "      <th>393</th>\n",
       "      <td>2021-02-17</td>\n",
       "      <td>1762</td>\n",
       "      <td>27873040</td>\n",
       "      <td>490326</td>\n",
       "      <td>13715176.0</td>\n",
       "      <td>411828</td>\n",
       "    </tr>\n",
       "    <tr>\n",
       "      <th>394</th>\n",
       "      <td>2021-02-18</td>\n",
       "      <td>1762</td>\n",
       "      <td>27944914</td>\n",
       "      <td>492951</td>\n",
       "      <td>14312898.0</td>\n",
       "      <td>597722</td>\n",
       "    </tr>\n",
       "    <tr>\n",
       "      <th>395</th>\n",
       "      <td>2021-02-19</td>\n",
       "      <td>1762</td>\n",
       "      <td>28022949</td>\n",
       "      <td>495572</td>\n",
       "      <td>15913379.0</td>\n",
       "      <td>1.60048e+06</td>\n",
       "    </tr>\n",
       "    <tr>\n",
       "      <th>396</th>\n",
       "      <td>2021-02-20</td>\n",
       "      <td>1762</td>\n",
       "      <td>28092672</td>\n",
       "      <td>497403</td>\n",
       "      <td>16716277.0</td>\n",
       "      <td>802898</td>\n",
       "    </tr>\n",
       "    <tr>\n",
       "      <th>397</th>\n",
       "      <td>2021-02-21</td>\n",
       "      <td>1762</td>\n",
       "      <td>28147867</td>\n",
       "      <td>498650</td>\n",
       "      <td>17630923.0</td>\n",
       "      <td>914646</td>\n",
       "    </tr>\n",
       "    <tr>\n",
       "      <th>398</th>\n",
       "      <td>2021-02-22</td>\n",
       "      <td>1762</td>\n",
       "      <td>28207329</td>\n",
       "      <td>500104</td>\n",
       "      <td>18152272.0</td>\n",
       "      <td>521349</td>\n",
       "    </tr>\n",
       "    <tr>\n",
       "      <th>399</th>\n",
       "      <td>2021-02-23</td>\n",
       "      <td>1762</td>\n",
       "      <td>28279131</td>\n",
       "      <td>502432</td>\n",
       "      <td>18559993.0</td>\n",
       "      <td>407721</td>\n",
       "    </tr>\n",
       "    <tr>\n",
       "      <th>400</th>\n",
       "      <td>2021-02-24</td>\n",
       "      <td>1762</td>\n",
       "      <td>28353261</td>\n",
       "      <td>505642</td>\n",
       "      <td>19257217.0</td>\n",
       "      <td>697224</td>\n",
       "    </tr>\n",
       "    <tr>\n",
       "      <th>401</th>\n",
       "      <td>2021-02-25</td>\n",
       "      <td>1762</td>\n",
       "      <td>28431065</td>\n",
       "      <td>508107</td>\n",
       "      <td>20177749.0</td>\n",
       "      <td>920532</td>\n",
       "    </tr>\n",
       "    <tr>\n",
       "      <th>402</th>\n",
       "      <td>2021-02-26</td>\n",
       "      <td>1762</td>\n",
       "      <td>28509327</td>\n",
       "      <td>510283</td>\n",
       "      <td>21199421.0</td>\n",
       "      <td>1.02167e+06</td>\n",
       "    </tr>\n",
       "    <tr>\n",
       "      <th>403</th>\n",
       "      <td>2021-02-27</td>\n",
       "      <td>1762</td>\n",
       "      <td>28572021</td>\n",
       "      <td>511850</td>\n",
       "      <td>22238381.0</td>\n",
       "      <td>1.03896e+06</td>\n",
       "    </tr>\n",
       "    <tr>\n",
       "      <th>404</th>\n",
       "      <td>2021-02-28</td>\n",
       "      <td>1762</td>\n",
       "      <td>28622946</td>\n",
       "      <td>512979</td>\n",
       "      <td>23251829.0</td>\n",
       "      <td>1.01345e+06</td>\n",
       "    </tr>\n",
       "    <tr>\n",
       "      <th>405</th>\n",
       "      <td>2021-03-01</td>\n",
       "      <td>1762</td>\n",
       "      <td>28679618</td>\n",
       "      <td>514404</td>\n",
       "      <td>23894251.0</td>\n",
       "      <td>642422</td>\n",
       "    </tr>\n",
       "    <tr>\n",
       "      <th>406</th>\n",
       "      <td>2021-03-02</td>\n",
       "      <td>1762</td>\n",
       "      <td>28737407</td>\n",
       "      <td>515710</td>\n",
       "      <td>24552499.0</td>\n",
       "      <td>658248</td>\n",
       "    </tr>\n",
       "    <tr>\n",
       "      <th>407</th>\n",
       "      <td>2021-03-03</td>\n",
       "      <td>1762</td>\n",
       "      <td>28804121</td>\n",
       "      <td>518079</td>\n",
       "      <td>25311888.0</td>\n",
       "      <td>759389</td>\n",
       "    </tr>\n",
       "    <tr>\n",
       "      <th>408</th>\n",
       "      <td>2021-03-04</td>\n",
       "      <td>1762</td>\n",
       "      <td>28871536</td>\n",
       "      <td>520028</td>\n",
       "      <td>26118543.0</td>\n",
       "      <td>806655</td>\n",
       "    </tr>\n",
       "    <tr>\n",
       "      <th>409</th>\n",
       "      <td>2021-03-05</td>\n",
       "      <td>1762</td>\n",
       "      <td>28937218</td>\n",
       "      <td>522511</td>\n",
       "      <td>26990505.0</td>\n",
       "      <td>871962</td>\n",
       "    </tr>\n",
       "    <tr>\n",
       "      <th>410</th>\n",
       "      <td>2021-03-06</td>\n",
       "      <td>1762</td>\n",
       "      <td>28993824</td>\n",
       "      <td>523970</td>\n",
       "      <td>28022808.0</td>\n",
       "      <td>1.0323e+06</td>\n",
       "    </tr>\n",
       "    <tr>\n",
       "      <th>411</th>\n",
       "      <td>2021-03-07</td>\n",
       "      <td>1762</td>\n",
       "      <td>29034160</td>\n",
       "      <td>524652</td>\n",
       "      <td>28881476.0</td>\n",
       "      <td>858668</td>\n",
       "    </tr>\n",
       "    <tr>\n",
       "      <th>412</th>\n",
       "      <td>2021-03-08</td>\n",
       "      <td>1762</td>\n",
       "      <td>29132673</td>\n",
       "      <td>525467</td>\n",
       "      <td>29528915.0</td>\n",
       "      <td>647439</td>\n",
       "    </tr>\n",
       "    <tr>\n",
       "      <th>413</th>\n",
       "      <td>2021-03-09</td>\n",
       "      <td>1762</td>\n",
       "      <td>29188505</td>\n",
       "      <td>527352</td>\n",
       "      <td>30056629.0</td>\n",
       "      <td>527714</td>\n",
       "    </tr>\n",
       "    <tr>\n",
       "      <th>414</th>\n",
       "      <td>2021-03-10</td>\n",
       "      <td>1762</td>\n",
       "      <td>29247035</td>\n",
       "      <td>528829</td>\n",
       "      <td>30802015.0</td>\n",
       "      <td>745386</td>\n",
       "    </tr>\n",
       "    <tr>\n",
       "      <th>415</th>\n",
       "      <td>2021-03-11</td>\n",
       "      <td>1762</td>\n",
       "      <td>29309724</td>\n",
       "      <td>530351</td>\n",
       "      <td>31699804.0</td>\n",
       "      <td>897789</td>\n",
       "    </tr>\n",
       "  </tbody>\n",
       "</table>\n",
       "</div>"
      ],
      "text/plain": [
       "          date  fips     cases  deaths  people_fully_vaccinated  \\\n",
       "387 2021-02-11  1762  27434981  475238                9915475.0   \n",
       "388 2021-02-12  1762  27534539  480701               10714726.0   \n",
       "389 2021-02-13  1762  27619266  484074               11606347.0   \n",
       "390 2021-02-14  1762  27683116  485154               12486790.0   \n",
       "391 2021-02-15  1762  27738488  486148                      0.0   \n",
       "392 2021-02-16  1762  27802864  487855               13303348.0   \n",
       "393 2021-02-17  1762  27873040  490326               13715176.0   \n",
       "394 2021-02-18  1762  27944914  492951               14312898.0   \n",
       "395 2021-02-19  1762  28022949  495572               15913379.0   \n",
       "396 2021-02-20  1762  28092672  497403               16716277.0   \n",
       "397 2021-02-21  1762  28147867  498650               17630923.0   \n",
       "398 2021-02-22  1762  28207329  500104               18152272.0   \n",
       "399 2021-02-23  1762  28279131  502432               18559993.0   \n",
       "400 2021-02-24  1762  28353261  505642               19257217.0   \n",
       "401 2021-02-25  1762  28431065  508107               20177749.0   \n",
       "402 2021-02-26  1762  28509327  510283               21199421.0   \n",
       "403 2021-02-27  1762  28572021  511850               22238381.0   \n",
       "404 2021-02-28  1762  28622946  512979               23251829.0   \n",
       "405 2021-03-01  1762  28679618  514404               23894251.0   \n",
       "406 2021-03-02  1762  28737407  515710               24552499.0   \n",
       "407 2021-03-03  1762  28804121  518079               25311888.0   \n",
       "408 2021-03-04  1762  28871536  520028               26118543.0   \n",
       "409 2021-03-05  1762  28937218  522511               26990505.0   \n",
       "410 2021-03-06  1762  28993824  523970               28022808.0   \n",
       "411 2021-03-07  1762  29034160  524652               28881476.0   \n",
       "412 2021-03-08  1762  29132673  525467               29528915.0   \n",
       "413 2021-03-09  1762  29188505  527352               30056629.0   \n",
       "414 2021-03-10  1762  29247035  528829               30802015.0   \n",
       "415 2021-03-11  1762  29309724  530351               31699804.0   \n",
       "\n",
       "    daily_new_fully_vaccinated  \n",
       "387                     630731  \n",
       "388                     799251  \n",
       "389                     891621  \n",
       "390                     880443  \n",
       "391                          0  \n",
       "392                     816558  \n",
       "393                     411828  \n",
       "394                     597722  \n",
       "395                1.60048e+06  \n",
       "396                     802898  \n",
       "397                     914646  \n",
       "398                     521349  \n",
       "399                     407721  \n",
       "400                     697224  \n",
       "401                     920532  \n",
       "402                1.02167e+06  \n",
       "403                1.03896e+06  \n",
       "404                1.01345e+06  \n",
       "405                     642422  \n",
       "406                     658248  \n",
       "407                     759389  \n",
       "408                     806655  \n",
       "409                     871962  \n",
       "410                 1.0323e+06  \n",
       "411                     858668  \n",
       "412                     647439  \n",
       "413                     527714  \n",
       "414                     745386  \n",
       "415                     897789  "
      ]
     },
     "execution_count": 198,
     "metadata": {},
     "output_type": "execute_result"
    }
   ],
   "source": [
    "daily_new_cases_df[daily_new_cases_df[\"date\"] > dt.datetime(2021, 2, 10)]"
   ]
  },
  {
   "cell_type": "code",
   "execution_count": 199,
   "metadata": {},
   "outputs": [],
   "source": [
    "# Add new Empty Columns for Daily New Cases and Deaths\n",
    "daily_new_cases_df[\"daily_new_cases\"] = \"\"\n",
    "daily_new_cases_df[\"daily_new_deaths\"] = \"\""
   ]
  },
  {
   "cell_type": "code",
   "execution_count": 200,
   "metadata": {},
   "outputs": [],
   "source": [
    "previous_day_cases = 0\n",
    "previous_day_deaths = 0\n",
    "    \n",
    "for index, row in daily_new_cases_df.iterrows():\n",
    "    \n",
    "    # Cases\n",
    "    new_cases = row[\"cases\"] - previous_day_cases\n",
    "    previous_day_cases = row[\"cases\"]\n",
    "    daily_new_cases_df.at[index, \"daily_new_cases\"] = new_cases\n",
    "    \n",
    "    # Deaths\n",
    "    new_deaths = row[\"deaths\"] - previous_day_deaths\n",
    "    previous_day_deaths = row[\"deaths\"]\n",
    "    daily_new_cases_df.at[index, \"daily_new_deaths\"] = new_deaths"
   ]
  },
  {
   "cell_type": "code",
   "execution_count": 201,
   "metadata": {},
   "outputs": [
    {
     "data": {
      "text/html": [
       "<div>\n",
       "<style scoped>\n",
       "    .dataframe tbody tr th:only-of-type {\n",
       "        vertical-align: middle;\n",
       "    }\n",
       "\n",
       "    .dataframe tbody tr th {\n",
       "        vertical-align: top;\n",
       "    }\n",
       "\n",
       "    .dataframe thead th {\n",
       "        text-align: right;\n",
       "    }\n",
       "</style>\n",
       "<table border=\"1\" class=\"dataframe\">\n",
       "  <thead>\n",
       "    <tr style=\"text-align: right;\">\n",
       "      <th></th>\n",
       "      <th>date</th>\n",
       "      <th>fips</th>\n",
       "      <th>cases</th>\n",
       "      <th>deaths</th>\n",
       "      <th>people_fully_vaccinated</th>\n",
       "      <th>daily_new_fully_vaccinated</th>\n",
       "      <th>daily_new_cases</th>\n",
       "      <th>daily_new_deaths</th>\n",
       "    </tr>\n",
       "  </thead>\n",
       "  <tbody>\n",
       "    <tr>\n",
       "      <th>0</th>\n",
       "      <td>2020-01-21</td>\n",
       "      <td>53</td>\n",
       "      <td>1</td>\n",
       "      <td>0</td>\n",
       "      <td>0.0</td>\n",
       "      <td>0</td>\n",
       "      <td>1</td>\n",
       "      <td>0</td>\n",
       "    </tr>\n",
       "    <tr>\n",
       "      <th>1</th>\n",
       "      <td>2020-01-22</td>\n",
       "      <td>53</td>\n",
       "      <td>1</td>\n",
       "      <td>0</td>\n",
       "      <td>0.0</td>\n",
       "      <td>0</td>\n",
       "      <td>0</td>\n",
       "      <td>0</td>\n",
       "    </tr>\n",
       "    <tr>\n",
       "      <th>2</th>\n",
       "      <td>2020-01-23</td>\n",
       "      <td>53</td>\n",
       "      <td>1</td>\n",
       "      <td>0</td>\n",
       "      <td>0.0</td>\n",
       "      <td>0</td>\n",
       "      <td>0</td>\n",
       "      <td>0</td>\n",
       "    </tr>\n",
       "    <tr>\n",
       "      <th>3</th>\n",
       "      <td>2020-01-24</td>\n",
       "      <td>70</td>\n",
       "      <td>2</td>\n",
       "      <td>0</td>\n",
       "      <td>0.0</td>\n",
       "      <td>0</td>\n",
       "      <td>1</td>\n",
       "      <td>0</td>\n",
       "    </tr>\n",
       "    <tr>\n",
       "      <th>4</th>\n",
       "      <td>2020-01-25</td>\n",
       "      <td>76</td>\n",
       "      <td>3</td>\n",
       "      <td>0</td>\n",
       "      <td>0.0</td>\n",
       "      <td>0</td>\n",
       "      <td>1</td>\n",
       "      <td>0</td>\n",
       "    </tr>\n",
       "    <tr>\n",
       "      <th>...</th>\n",
       "      <td>...</td>\n",
       "      <td>...</td>\n",
       "      <td>...</td>\n",
       "      <td>...</td>\n",
       "      <td>...</td>\n",
       "      <td>...</td>\n",
       "      <td>...</td>\n",
       "      <td>...</td>\n",
       "    </tr>\n",
       "    <tr>\n",
       "      <th>411</th>\n",
       "      <td>2021-03-07</td>\n",
       "      <td>1762</td>\n",
       "      <td>29034160</td>\n",
       "      <td>524652</td>\n",
       "      <td>28881476.0</td>\n",
       "      <td>858668</td>\n",
       "      <td>40336</td>\n",
       "      <td>682</td>\n",
       "    </tr>\n",
       "    <tr>\n",
       "      <th>412</th>\n",
       "      <td>2021-03-08</td>\n",
       "      <td>1762</td>\n",
       "      <td>29132673</td>\n",
       "      <td>525467</td>\n",
       "      <td>29528915.0</td>\n",
       "      <td>647439</td>\n",
       "      <td>98513</td>\n",
       "      <td>815</td>\n",
       "    </tr>\n",
       "    <tr>\n",
       "      <th>413</th>\n",
       "      <td>2021-03-09</td>\n",
       "      <td>1762</td>\n",
       "      <td>29188505</td>\n",
       "      <td>527352</td>\n",
       "      <td>30056629.0</td>\n",
       "      <td>527714</td>\n",
       "      <td>55832</td>\n",
       "      <td>1885</td>\n",
       "    </tr>\n",
       "    <tr>\n",
       "      <th>414</th>\n",
       "      <td>2021-03-10</td>\n",
       "      <td>1762</td>\n",
       "      <td>29247035</td>\n",
       "      <td>528829</td>\n",
       "      <td>30802015.0</td>\n",
       "      <td>745386</td>\n",
       "      <td>58530</td>\n",
       "      <td>1477</td>\n",
       "    </tr>\n",
       "    <tr>\n",
       "      <th>415</th>\n",
       "      <td>2021-03-11</td>\n",
       "      <td>1762</td>\n",
       "      <td>29309724</td>\n",
       "      <td>530351</td>\n",
       "      <td>31699804.0</td>\n",
       "      <td>897789</td>\n",
       "      <td>62689</td>\n",
       "      <td>1522</td>\n",
       "    </tr>\n",
       "  </tbody>\n",
       "</table>\n",
       "<p>416 rows × 8 columns</p>\n",
       "</div>"
      ],
      "text/plain": [
       "          date  fips     cases  deaths  people_fully_vaccinated  \\\n",
       "0   2020-01-21    53         1       0                      0.0   \n",
       "1   2020-01-22    53         1       0                      0.0   \n",
       "2   2020-01-23    53         1       0                      0.0   \n",
       "3   2020-01-24    70         2       0                      0.0   \n",
       "4   2020-01-25    76         3       0                      0.0   \n",
       "..         ...   ...       ...     ...                      ...   \n",
       "411 2021-03-07  1762  29034160  524652               28881476.0   \n",
       "412 2021-03-08  1762  29132673  525467               29528915.0   \n",
       "413 2021-03-09  1762  29188505  527352               30056629.0   \n",
       "414 2021-03-10  1762  29247035  528829               30802015.0   \n",
       "415 2021-03-11  1762  29309724  530351               31699804.0   \n",
       "\n",
       "    daily_new_fully_vaccinated daily_new_cases daily_new_deaths  \n",
       "0                            0               1                0  \n",
       "1                            0               0                0  \n",
       "2                            0               0                0  \n",
       "3                            0               1                0  \n",
       "4                            0               1                0  \n",
       "..                         ...             ...              ...  \n",
       "411                     858668           40336              682  \n",
       "412                     647439           98513              815  \n",
       "413                     527714           55832             1885  \n",
       "414                     745386           58530             1477  \n",
       "415                     897789           62689             1522  \n",
       "\n",
       "[416 rows x 8 columns]"
      ]
     },
     "execution_count": 201,
     "metadata": {},
     "output_type": "execute_result"
    }
   ],
   "source": [
    "daily_new_cases_df"
   ]
  },
  {
   "cell_type": "code",
   "execution_count": 202,
   "metadata": {},
   "outputs": [],
   "source": [
    "daily_new_cases_df[\"new_cases_shift\"] = daily_new_cases_df[\"daily_new_cases\"].shift(periods=14)\n",
    "daily_new_cases_df.fillna(0, inplace=True)"
   ]
  },
  {
   "cell_type": "code",
   "execution_count": 203,
   "metadata": {},
   "outputs": [],
   "source": [
    "daily_new_cases_df[\"3_month_immunity_est\"] = daily_new_cases_df[\"new_cases_shift\"].rolling(90).sum()"
   ]
  },
  {
   "cell_type": "code",
   "execution_count": 204,
   "metadata": {},
   "outputs": [
    {
     "data": {
      "text/html": [
       "<div>\n",
       "<style scoped>\n",
       "    .dataframe tbody tr th:only-of-type {\n",
       "        vertical-align: middle;\n",
       "    }\n",
       "\n",
       "    .dataframe tbody tr th {\n",
       "        vertical-align: top;\n",
       "    }\n",
       "\n",
       "    .dataframe thead th {\n",
       "        text-align: right;\n",
       "    }\n",
       "</style>\n",
       "<table border=\"1\" class=\"dataframe\">\n",
       "  <thead>\n",
       "    <tr style=\"text-align: right;\">\n",
       "      <th></th>\n",
       "      <th>date</th>\n",
       "      <th>fips</th>\n",
       "      <th>cases</th>\n",
       "      <th>deaths</th>\n",
       "      <th>people_fully_vaccinated</th>\n",
       "      <th>daily_new_fully_vaccinated</th>\n",
       "      <th>daily_new_cases</th>\n",
       "      <th>daily_new_deaths</th>\n",
       "      <th>new_cases_shift</th>\n",
       "      <th>3_month_immunity_est</th>\n",
       "    </tr>\n",
       "  </thead>\n",
       "  <tbody>\n",
       "    <tr>\n",
       "      <th>0</th>\n",
       "      <td>2020-01-21</td>\n",
       "      <td>53</td>\n",
       "      <td>1</td>\n",
       "      <td>0</td>\n",
       "      <td>0.0</td>\n",
       "      <td>0.0</td>\n",
       "      <td>1</td>\n",
       "      <td>0</td>\n",
       "      <td>0</td>\n",
       "      <td>NaN</td>\n",
       "    </tr>\n",
       "    <tr>\n",
       "      <th>1</th>\n",
       "      <td>2020-01-22</td>\n",
       "      <td>53</td>\n",
       "      <td>1</td>\n",
       "      <td>0</td>\n",
       "      <td>0.0</td>\n",
       "      <td>0.0</td>\n",
       "      <td>0</td>\n",
       "      <td>0</td>\n",
       "      <td>0</td>\n",
       "      <td>NaN</td>\n",
       "    </tr>\n",
       "    <tr>\n",
       "      <th>2</th>\n",
       "      <td>2020-01-23</td>\n",
       "      <td>53</td>\n",
       "      <td>1</td>\n",
       "      <td>0</td>\n",
       "      <td>0.0</td>\n",
       "      <td>0.0</td>\n",
       "      <td>0</td>\n",
       "      <td>0</td>\n",
       "      <td>0</td>\n",
       "      <td>NaN</td>\n",
       "    </tr>\n",
       "    <tr>\n",
       "      <th>3</th>\n",
       "      <td>2020-01-24</td>\n",
       "      <td>70</td>\n",
       "      <td>2</td>\n",
       "      <td>0</td>\n",
       "      <td>0.0</td>\n",
       "      <td>0.0</td>\n",
       "      <td>1</td>\n",
       "      <td>0</td>\n",
       "      <td>0</td>\n",
       "      <td>NaN</td>\n",
       "    </tr>\n",
       "    <tr>\n",
       "      <th>4</th>\n",
       "      <td>2020-01-25</td>\n",
       "      <td>76</td>\n",
       "      <td>3</td>\n",
       "      <td>0</td>\n",
       "      <td>0.0</td>\n",
       "      <td>0.0</td>\n",
       "      <td>1</td>\n",
       "      <td>0</td>\n",
       "      <td>0</td>\n",
       "      <td>NaN</td>\n",
       "    </tr>\n",
       "    <tr>\n",
       "      <th>...</th>\n",
       "      <td>...</td>\n",
       "      <td>...</td>\n",
       "      <td>...</td>\n",
       "      <td>...</td>\n",
       "      <td>...</td>\n",
       "      <td>...</td>\n",
       "      <td>...</td>\n",
       "      <td>...</td>\n",
       "      <td>...</td>\n",
       "      <td>...</td>\n",
       "    </tr>\n",
       "    <tr>\n",
       "      <th>411</th>\n",
       "      <td>2021-03-07</td>\n",
       "      <td>1762</td>\n",
       "      <td>29034160</td>\n",
       "      <td>524652</td>\n",
       "      <td>28881476.0</td>\n",
       "      <td>858668.0</td>\n",
       "      <td>40336</td>\n",
       "      <td>682</td>\n",
       "      <td>55195</td>\n",
       "      <td>15654839.0</td>\n",
       "    </tr>\n",
       "    <tr>\n",
       "      <th>412</th>\n",
       "      <td>2021-03-08</td>\n",
       "      <td>1762</td>\n",
       "      <td>29132673</td>\n",
       "      <td>525467</td>\n",
       "      <td>29528915.0</td>\n",
       "      <td>647439.0</td>\n",
       "      <td>98513</td>\n",
       "      <td>815</td>\n",
       "      <td>59462</td>\n",
       "      <td>15536398.0</td>\n",
       "    </tr>\n",
       "    <tr>\n",
       "      <th>413</th>\n",
       "      <td>2021-03-09</td>\n",
       "      <td>1762</td>\n",
       "      <td>29188505</td>\n",
       "      <td>527352</td>\n",
       "      <td>30056629.0</td>\n",
       "      <td>527714.0</td>\n",
       "      <td>55832</td>\n",
       "      <td>1885</td>\n",
       "      <td>71802</td>\n",
       "      <td>15427528.0</td>\n",
       "    </tr>\n",
       "    <tr>\n",
       "      <th>414</th>\n",
       "      <td>2021-03-10</td>\n",
       "      <td>1762</td>\n",
       "      <td>29247035</td>\n",
       "      <td>528829</td>\n",
       "      <td>30802015.0</td>\n",
       "      <td>745386.0</td>\n",
       "      <td>58530</td>\n",
       "      <td>1477</td>\n",
       "      <td>74130</td>\n",
       "      <td>15398765.0</td>\n",
       "    </tr>\n",
       "    <tr>\n",
       "      <th>415</th>\n",
       "      <td>2021-03-11</td>\n",
       "      <td>1762</td>\n",
       "      <td>29309724</td>\n",
       "      <td>530351</td>\n",
       "      <td>31699804.0</td>\n",
       "      <td>897789.0</td>\n",
       "      <td>62689</td>\n",
       "      <td>1522</td>\n",
       "      <td>77804</td>\n",
       "      <td>15270683.0</td>\n",
       "    </tr>\n",
       "  </tbody>\n",
       "</table>\n",
       "<p>416 rows × 10 columns</p>\n",
       "</div>"
      ],
      "text/plain": [
       "          date  fips     cases  deaths  people_fully_vaccinated  \\\n",
       "0   2020-01-21    53         1       0                      0.0   \n",
       "1   2020-01-22    53         1       0                      0.0   \n",
       "2   2020-01-23    53         1       0                      0.0   \n",
       "3   2020-01-24    70         2       0                      0.0   \n",
       "4   2020-01-25    76         3       0                      0.0   \n",
       "..         ...   ...       ...     ...                      ...   \n",
       "411 2021-03-07  1762  29034160  524652               28881476.0   \n",
       "412 2021-03-08  1762  29132673  525467               29528915.0   \n",
       "413 2021-03-09  1762  29188505  527352               30056629.0   \n",
       "414 2021-03-10  1762  29247035  528829               30802015.0   \n",
       "415 2021-03-11  1762  29309724  530351               31699804.0   \n",
       "\n",
       "     daily_new_fully_vaccinated  daily_new_cases  daily_new_deaths  \\\n",
       "0                           0.0                1                 0   \n",
       "1                           0.0                0                 0   \n",
       "2                           0.0                0                 0   \n",
       "3                           0.0                1                 0   \n",
       "4                           0.0                1                 0   \n",
       "..                          ...              ...               ...   \n",
       "411                    858668.0            40336               682   \n",
       "412                    647439.0            98513               815   \n",
       "413                    527714.0            55832              1885   \n",
       "414                    745386.0            58530              1477   \n",
       "415                    897789.0            62689              1522   \n",
       "\n",
       "     new_cases_shift  3_month_immunity_est  \n",
       "0                  0                   NaN  \n",
       "1                  0                   NaN  \n",
       "2                  0                   NaN  \n",
       "3                  0                   NaN  \n",
       "4                  0                   NaN  \n",
       "..               ...                   ...  \n",
       "411            55195            15654839.0  \n",
       "412            59462            15536398.0  \n",
       "413            71802            15427528.0  \n",
       "414            74130            15398765.0  \n",
       "415            77804            15270683.0  \n",
       "\n",
       "[416 rows x 10 columns]"
      ]
     },
     "execution_count": 204,
     "metadata": {},
     "output_type": "execute_result"
    }
   ],
   "source": [
    "daily_new_cases_df"
   ]
  },
  {
   "cell_type": "code",
   "execution_count": 205,
   "metadata": {},
   "outputs": [],
   "source": [
    "daily_new_cases_df[\"6_month_immunity_est\"] = daily_new_cases_df.rolling(180)[\"new_cases_shift\"].sum()"
   ]
  },
  {
   "cell_type": "code",
   "execution_count": 206,
   "metadata": {},
   "outputs": [],
   "source": [
    "daily_new_cases_df = daily_new_cases_df.fillna(0)"
   ]
  },
  {
   "cell_type": "code",
   "execution_count": 207,
   "metadata": {},
   "outputs": [
    {
     "data": {
      "text/html": [
       "<div>\n",
       "<style scoped>\n",
       "    .dataframe tbody tr th:only-of-type {\n",
       "        vertical-align: middle;\n",
       "    }\n",
       "\n",
       "    .dataframe tbody tr th {\n",
       "        vertical-align: top;\n",
       "    }\n",
       "\n",
       "    .dataframe thead th {\n",
       "        text-align: right;\n",
       "    }\n",
       "</style>\n",
       "<table border=\"1\" class=\"dataframe\">\n",
       "  <thead>\n",
       "    <tr style=\"text-align: right;\">\n",
       "      <th></th>\n",
       "      <th>date</th>\n",
       "      <th>fips</th>\n",
       "      <th>cases</th>\n",
       "      <th>deaths</th>\n",
       "      <th>people_fully_vaccinated</th>\n",
       "      <th>daily_new_fully_vaccinated</th>\n",
       "      <th>daily_new_cases</th>\n",
       "      <th>daily_new_deaths</th>\n",
       "      <th>new_cases_shift</th>\n",
       "      <th>3_month_immunity_est</th>\n",
       "      <th>6_month_immunity_est</th>\n",
       "    </tr>\n",
       "  </thead>\n",
       "  <tbody>\n",
       "    <tr>\n",
       "      <th>0</th>\n",
       "      <td>2020-01-21</td>\n",
       "      <td>53</td>\n",
       "      <td>1</td>\n",
       "      <td>0</td>\n",
       "      <td>0.0</td>\n",
       "      <td>0.0</td>\n",
       "      <td>1</td>\n",
       "      <td>0</td>\n",
       "      <td>0</td>\n",
       "      <td>0.0</td>\n",
       "      <td>0.0</td>\n",
       "    </tr>\n",
       "    <tr>\n",
       "      <th>1</th>\n",
       "      <td>2020-01-22</td>\n",
       "      <td>53</td>\n",
       "      <td>1</td>\n",
       "      <td>0</td>\n",
       "      <td>0.0</td>\n",
       "      <td>0.0</td>\n",
       "      <td>0</td>\n",
       "      <td>0</td>\n",
       "      <td>0</td>\n",
       "      <td>0.0</td>\n",
       "      <td>0.0</td>\n",
       "    </tr>\n",
       "    <tr>\n",
       "      <th>2</th>\n",
       "      <td>2020-01-23</td>\n",
       "      <td>53</td>\n",
       "      <td>1</td>\n",
       "      <td>0</td>\n",
       "      <td>0.0</td>\n",
       "      <td>0.0</td>\n",
       "      <td>0</td>\n",
       "      <td>0</td>\n",
       "      <td>0</td>\n",
       "      <td>0.0</td>\n",
       "      <td>0.0</td>\n",
       "    </tr>\n",
       "    <tr>\n",
       "      <th>3</th>\n",
       "      <td>2020-01-24</td>\n",
       "      <td>70</td>\n",
       "      <td>2</td>\n",
       "      <td>0</td>\n",
       "      <td>0.0</td>\n",
       "      <td>0.0</td>\n",
       "      <td>1</td>\n",
       "      <td>0</td>\n",
       "      <td>0</td>\n",
       "      <td>0.0</td>\n",
       "      <td>0.0</td>\n",
       "    </tr>\n",
       "    <tr>\n",
       "      <th>4</th>\n",
       "      <td>2020-01-25</td>\n",
       "      <td>76</td>\n",
       "      <td>3</td>\n",
       "      <td>0</td>\n",
       "      <td>0.0</td>\n",
       "      <td>0.0</td>\n",
       "      <td>1</td>\n",
       "      <td>0</td>\n",
       "      <td>0</td>\n",
       "      <td>0.0</td>\n",
       "      <td>0.0</td>\n",
       "    </tr>\n",
       "    <tr>\n",
       "      <th>...</th>\n",
       "      <td>...</td>\n",
       "      <td>...</td>\n",
       "      <td>...</td>\n",
       "      <td>...</td>\n",
       "      <td>...</td>\n",
       "      <td>...</td>\n",
       "      <td>...</td>\n",
       "      <td>...</td>\n",
       "      <td>...</td>\n",
       "      <td>...</td>\n",
       "      <td>...</td>\n",
       "    </tr>\n",
       "    <tr>\n",
       "      <th>411</th>\n",
       "      <td>2021-03-07</td>\n",
       "      <td>1762</td>\n",
       "      <td>29034160</td>\n",
       "      <td>524652</td>\n",
       "      <td>28881476.0</td>\n",
       "      <td>858668.0</td>\n",
       "      <td>40336</td>\n",
       "      <td>682</td>\n",
       "      <td>55195</td>\n",
       "      <td>15654839.0</td>\n",
       "      <td>22354430.0</td>\n",
       "    </tr>\n",
       "    <tr>\n",
       "      <th>412</th>\n",
       "      <td>2021-03-08</td>\n",
       "      <td>1762</td>\n",
       "      <td>29132673</td>\n",
       "      <td>525467</td>\n",
       "      <td>29528915.0</td>\n",
       "      <td>647439.0</td>\n",
       "      <td>98513</td>\n",
       "      <td>815</td>\n",
       "      <td>59462</td>\n",
       "      <td>15536398.0</td>\n",
       "      <td>22368573.0</td>\n",
       "    </tr>\n",
       "    <tr>\n",
       "      <th>413</th>\n",
       "      <td>2021-03-09</td>\n",
       "      <td>1762</td>\n",
       "      <td>29188505</td>\n",
       "      <td>527352</td>\n",
       "      <td>30056629.0</td>\n",
       "      <td>527714.0</td>\n",
       "      <td>55832</td>\n",
       "      <td>1885</td>\n",
       "      <td>71802</td>\n",
       "      <td>15427528.0</td>\n",
       "      <td>22394765.0</td>\n",
       "    </tr>\n",
       "    <tr>\n",
       "      <th>414</th>\n",
       "      <td>2021-03-10</td>\n",
       "      <td>1762</td>\n",
       "      <td>29247035</td>\n",
       "      <td>528829</td>\n",
       "      <td>30802015.0</td>\n",
       "      <td>745386.0</td>\n",
       "      <td>58530</td>\n",
       "      <td>1477</td>\n",
       "      <td>74130</td>\n",
       "      <td>15398765.0</td>\n",
       "      <td>22422331.0</td>\n",
       "    </tr>\n",
       "    <tr>\n",
       "      <th>415</th>\n",
       "      <td>2021-03-11</td>\n",
       "      <td>1762</td>\n",
       "      <td>29309724</td>\n",
       "      <td>530351</td>\n",
       "      <td>31699804.0</td>\n",
       "      <td>897789.0</td>\n",
       "      <td>62689</td>\n",
       "      <td>1522</td>\n",
       "      <td>77804</td>\n",
       "      <td>15270683.0</td>\n",
       "      <td>22455525.0</td>\n",
       "    </tr>\n",
       "  </tbody>\n",
       "</table>\n",
       "<p>416 rows × 11 columns</p>\n",
       "</div>"
      ],
      "text/plain": [
       "          date  fips     cases  deaths  people_fully_vaccinated  \\\n",
       "0   2020-01-21    53         1       0                      0.0   \n",
       "1   2020-01-22    53         1       0                      0.0   \n",
       "2   2020-01-23    53         1       0                      0.0   \n",
       "3   2020-01-24    70         2       0                      0.0   \n",
       "4   2020-01-25    76         3       0                      0.0   \n",
       "..         ...   ...       ...     ...                      ...   \n",
       "411 2021-03-07  1762  29034160  524652               28881476.0   \n",
       "412 2021-03-08  1762  29132673  525467               29528915.0   \n",
       "413 2021-03-09  1762  29188505  527352               30056629.0   \n",
       "414 2021-03-10  1762  29247035  528829               30802015.0   \n",
       "415 2021-03-11  1762  29309724  530351               31699804.0   \n",
       "\n",
       "     daily_new_fully_vaccinated  daily_new_cases  daily_new_deaths  \\\n",
       "0                           0.0                1                 0   \n",
       "1                           0.0                0                 0   \n",
       "2                           0.0                0                 0   \n",
       "3                           0.0                1                 0   \n",
       "4                           0.0                1                 0   \n",
       "..                          ...              ...               ...   \n",
       "411                    858668.0            40336               682   \n",
       "412                    647439.0            98513               815   \n",
       "413                    527714.0            55832              1885   \n",
       "414                    745386.0            58530              1477   \n",
       "415                    897789.0            62689              1522   \n",
       "\n",
       "     new_cases_shift  3_month_immunity_est  6_month_immunity_est  \n",
       "0                  0                   0.0                   0.0  \n",
       "1                  0                   0.0                   0.0  \n",
       "2                  0                   0.0                   0.0  \n",
       "3                  0                   0.0                   0.0  \n",
       "4                  0                   0.0                   0.0  \n",
       "..               ...                   ...                   ...  \n",
       "411            55195            15654839.0            22354430.0  \n",
       "412            59462            15536398.0            22368573.0  \n",
       "413            71802            15427528.0            22394765.0  \n",
       "414            74130            15398765.0            22422331.0  \n",
       "415            77804            15270683.0            22455525.0  \n",
       "\n",
       "[416 rows x 11 columns]"
      ]
     },
     "execution_count": 207,
     "metadata": {},
     "output_type": "execute_result"
    }
   ],
   "source": [
    "daily_new_cases_df"
   ]
  },
  {
   "cell_type": "code",
   "execution_count": 208,
   "metadata": {},
   "outputs": [],
   "source": [
    "for index, row in daily_new_cases_df.iterrows():\n",
    "    \n",
    "    # 3-month immunity\n",
    "    recovered = row[\"3_month_immunity_est\"]\n",
    "    fully_vaccinated = row[\"daily_new_fully_vaccinated\"]\n",
    "    \n",
    "    daily_new_cases_df.at[index, \"3_month_immunity_est\"] = recovered + fully_vaccinated\n",
    "    \n",
    "    # 6-month immunity\n",
    "    six_recovered = row[\"6_month_immunity_est\"]\n",
    "    \n",
    "    daily_new_cases_df.at[index, \"6_month_immunity_est\"] = six_recovered + fully_vaccinated"
   ]
  },
  {
   "cell_type": "code",
   "execution_count": 209,
   "metadata": {},
   "outputs": [
    {
     "data": {
      "text/html": [
       "<div>\n",
       "<style scoped>\n",
       "    .dataframe tbody tr th:only-of-type {\n",
       "        vertical-align: middle;\n",
       "    }\n",
       "\n",
       "    .dataframe tbody tr th {\n",
       "        vertical-align: top;\n",
       "    }\n",
       "\n",
       "    .dataframe thead th {\n",
       "        text-align: right;\n",
       "    }\n",
       "</style>\n",
       "<table border=\"1\" class=\"dataframe\">\n",
       "  <thead>\n",
       "    <tr style=\"text-align: right;\">\n",
       "      <th></th>\n",
       "      <th>date</th>\n",
       "      <th>fips</th>\n",
       "      <th>cases</th>\n",
       "      <th>deaths</th>\n",
       "      <th>people_fully_vaccinated</th>\n",
       "      <th>daily_new_fully_vaccinated</th>\n",
       "      <th>daily_new_cases</th>\n",
       "      <th>daily_new_deaths</th>\n",
       "      <th>new_cases_shift</th>\n",
       "      <th>3_month_immunity_est</th>\n",
       "      <th>6_month_immunity_est</th>\n",
       "    </tr>\n",
       "  </thead>\n",
       "  <tbody>\n",
       "    <tr>\n",
       "      <th>392</th>\n",
       "      <td>2021-02-16</td>\n",
       "      <td>1762</td>\n",
       "      <td>27802864</td>\n",
       "      <td>487855</td>\n",
       "      <td>13303348.0</td>\n",
       "      <td>816558.0</td>\n",
       "      <td>64376</td>\n",
       "      <td>1707</td>\n",
       "      <td>117903</td>\n",
       "      <td>17716262.0</td>\n",
       "      <td>22402398.0</td>\n",
       "    </tr>\n",
       "  </tbody>\n",
       "</table>\n",
       "</div>"
      ],
      "text/plain": [
       "          date  fips     cases  deaths  people_fully_vaccinated  \\\n",
       "392 2021-02-16  1762  27802864  487855               13303348.0   \n",
       "\n",
       "     daily_new_fully_vaccinated  daily_new_cases  daily_new_deaths  \\\n",
       "392                    816558.0            64376              1707   \n",
       "\n",
       "     new_cases_shift  3_month_immunity_est  6_month_immunity_est  \n",
       "392           117903            17716262.0            22402398.0  "
      ]
     },
     "execution_count": 209,
     "metadata": {},
     "output_type": "execute_result"
    }
   ],
   "source": [
    "daily_new_cases_df[daily_new_cases_df[\"date\"] == dt.datetime(2021, 2, 16)]"
   ]
  },
  {
   "cell_type": "code",
   "execution_count": 210,
   "metadata": {},
   "outputs": [
    {
     "name": "stdout",
     "output_type": "stream",
     "text": [
      "<class 'pandas.core.frame.DataFrame'>\n",
      "RangeIndex: 416 entries, 0 to 415\n",
      "Data columns (total 11 columns):\n",
      " #   Column                      Non-Null Count  Dtype         \n",
      "---  ------                      --------------  -----         \n",
      " 0   date                        416 non-null    datetime64[ns]\n",
      " 1   fips                        416 non-null    int64         \n",
      " 2   cases                       416 non-null    int64         \n",
      " 3   deaths                      416 non-null    int64         \n",
      " 4   people_fully_vaccinated     416 non-null    float64       \n",
      " 5   daily_new_fully_vaccinated  416 non-null    float64       \n",
      " 6   daily_new_cases             416 non-null    int64         \n",
      " 7   daily_new_deaths            416 non-null    int64         \n",
      " 8   new_cases_shift             416 non-null    int64         \n",
      " 9   3_month_immunity_est        416 non-null    float64       \n",
      " 10  6_month_immunity_est        416 non-null    float64       \n",
      "dtypes: datetime64[ns](1), float64(4), int64(6)\n",
      "memory usage: 35.9 KB\n"
     ]
    }
   ],
   "source": [
    "daily_new_cases_df.info()"
   ]
  },
  {
   "cell_type": "code",
   "execution_count": 211,
   "metadata": {},
   "outputs": [],
   "source": [
    "daily_new_cases_df.to_csv(\"../data/state-daily-stats.csv\")"
   ]
  },
  {
   "cell_type": "markdown",
   "metadata": {},
   "source": [
    "## Amazon RDS Updates"
   ]
  },
  {
   "cell_type": "code",
   "execution_count": 72,
   "metadata": {},
   "outputs": [],
   "source": [
    "# Config Variables, and SQLalchemy\n",
    "from config import endpoint, username, password\n",
    "from sqlalchemy import create_engine"
   ]
  },
  {
   "cell_type": "code",
   "execution_count": 73,
   "metadata": {},
   "outputs": [],
   "source": [
    "# Connect to AWS Database instance \n",
    "engine = create_engine(f'postgresql://uscovid:{password}@{endpoint}/us_covid_db')\n",
    "connection = engine.connect()"
   ]
  },
  {
   "cell_type": "code",
   "execution_count": 74,
   "metadata": {},
   "outputs": [
    {
     "data": {
      "text/plain": [
       "<sqlalchemy.engine.result.ResultProxy at 0x2450f73bd88>"
      ]
     },
     "execution_count": 74,
     "metadata": {},
     "output_type": "execute_result"
    }
   ],
   "source": [
    "# 50 States & D.C. Data\n",
    "state_overview_master_df.to_sql('master_table', index=False, if_exists='replace', con=connection)\n",
    "engine.execute('ALTER TABLE master_table ADD PRIMARY KEY (state);')"
   ]
  },
  {
   "cell_type": "code",
   "execution_count": 212,
   "metadata": {},
   "outputs": [
    {
     "data": {
      "text/plain": [
       "<sqlalchemy.engine.result.ResultProxy at 0x2450dee9608>"
      ]
     },
     "execution_count": 212,
     "metadata": {},
     "output_type": "execute_result"
    }
   ],
   "source": [
    "# Daily Cases Data\n",
    "daily_new_cases_df.to_sql(\"daily_new_cases\", index=False, if_exists='replace', con=connection)\n",
    "engine.execute('ALTER TABLE daily_new_cases ADD PRIMARY KEY (date);')"
   ]
  },
  {
   "cell_type": "code",
   "execution_count": 76,
   "metadata": {},
   "outputs": [
    {
     "data": {
      "text/plain": [
       "<sqlalchemy.engine.result.ResultProxy at 0x2450f7a05c8>"
      ]
     },
     "execution_count": 76,
     "metadata": {},
     "output_type": "execute_result"
    }
   ],
   "source": [
    "# County Data\n",
    "latest_covid_cases.to_sql(\"county_cases_latest\", index=True, if_exists='replace', con=connection)\n",
    "engine.execute('ALTER TABLE county_cases_latest ADD PRIMARY KEY (index);')"
   ]
  },
  {
   "cell_type": "code",
   "execution_count": 77,
   "metadata": {},
   "outputs": [
    {
     "data": {
      "text/plain": [
       "<sqlalchemy.engine.result.ResultProxy at 0x2450e028448>"
      ]
     },
     "execution_count": 77,
     "metadata": {},
     "output_type": "execute_result"
    }
   ],
   "source": [
    "# Raw NTY Data\n",
    "us_covid_cases_df.to_sql('nyt_table', index=True, if_exists='replace', con=connection)\n",
    "engine.execute('ALTER TABLE nyt_table ADD PRIMARY KEY (index);')"
   ]
  },
  {
   "cell_type": "code",
   "execution_count": null,
   "metadata": {},
   "outputs": [],
   "source": []
  }
 ],
 "metadata": {
  "kernelspec": {
   "display_name": "Python 3",
   "language": "python",
   "name": "python3"
  },
  "language_info": {
   "codemirror_mode": {
    "name": "ipython",
    "version": 3
   },
   "file_extension": ".py",
   "mimetype": "text/x-python",
   "name": "python",
   "nbconvert_exporter": "python",
   "pygments_lexer": "ipython3",
   "version": "3.7.8"
  }
 },
 "nbformat": 4,
 "nbformat_minor": 4
}
