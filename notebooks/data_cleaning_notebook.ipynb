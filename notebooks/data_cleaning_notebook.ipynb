{
 "cells": [
  {
   "cell_type": "code",
   "execution_count": 1,
   "metadata": {},
   "outputs": [],
   "source": [
    "# Import dependancies\n",
    "from bs4 import BeautifulSoup as bs\n",
    "from splinter import Browser\n",
    "import requests\n",
    "import csv\n",
    "import pandas as pd\n",
    "from selenium import webdriver\n",
    "from webdriver_manager.chrome import ChromeDriverManager\n",
    "import datetime as dt\n",
    "import matplotlib.pyplot as plt"
   ]
  },
  {
   "cell_type": "markdown",
   "metadata": {},
   "source": [
    "### Get Vaccine Data from CDC"
   ]
  },
  {
   "cell_type": "code",
   "execution_count": 2,
   "metadata": {},
   "outputs": [
    {
     "name": "stderr",
     "output_type": "stream",
     "text": [
      "[WDM] - Current google-chrome version is 89.0.4389\n",
      "[WDM] - Get LATEST driver version for 89.0.4389\n",
      "[WDM] - Get LATEST driver version for 89.0.4389\n",
      "[WDM] - Trying to download new driver from http://chromedriver.storage.googleapis.com/89.0.4389.23/chromedriver_win32.zip\n"
     ]
    },
    {
     "name": "stdout",
     "output_type": "stream",
     "text": [
      " \n"
     ]
    },
    {
     "name": "stderr",
     "output_type": "stream",
     "text": [
      "[WDM] - Driver has been saved in cache [C:\\Users\\coled\\.wdm\\drivers\\chromedriver\\win32\\89.0.4389.23]\n"
     ]
    }
   ],
   "source": [
    "# Get Vaccinations Table from CDC website\n",
    "executable_path = {'executable_path': ChromeDriverManager().install()}\n",
    "browser = Browser('chrome', **executable_path, headless=False)\n",
    "browser.visit(\"https://covid.cdc.gov/covid-data-tracker/#vaccinations\")\n",
    "vaccine_html = browser.html\n",
    "browser.click_link_by_id(\"vaccinations-table-toggle\")\n",
    "cdc_html = browser.html\n",
    "cdc_parsed = bs(cdc_html, \"html.parser\")\n",
    "table = cdc_parsed.select(\"table\")\n",
    "browser.quit()"
   ]
  },
  {
   "cell_type": "code",
   "execution_count": 3,
   "metadata": {},
   "outputs": [],
   "source": [
    "# Read the CDC Vaccine HTML Table\n",
    "vaccines_df = pd.read_html(str(table))[0]"
   ]
  },
  {
   "cell_type": "code",
   "execution_count": 4,
   "metadata": {},
   "outputs": [],
   "source": [
    "# Change \"New York State\" to \"New York\" for data merging\n",
    "vaccines_df.loc[vaccines_df[\"State/Territory/Federal Entity\"] == \"New York State\", \"State/Territory/Federal Entity\"] = \"New York\""
   ]
  },
  {
   "cell_type": "code",
   "execution_count": 5,
   "metadata": {},
   "outputs": [],
   "source": [
    "# Rename \"State/Territory/Federal Entity\" column to \"state\" for data merging\n",
    "vaccines_df = vaccines_df.rename(columns={\"State/Territory/Federal Entity\": \"state\"})"
   ]
  },
  {
   "cell_type": "markdown",
   "metadata": {},
   "source": [
    "## Daily COVID-19 - NYT / Rearc"
   ]
  },
  {
   "cell_type": "code",
   "execution_count": 6,
   "metadata": {},
   "outputs": [],
   "source": [
    "# Read Daily COVID-19 CSV from AWS S3 Bucket - Rearc / NY Times Data \n",
    "us_covid_cases_data = requests.get(\"https://covid19-lake.s3.us-east-2.amazonaws.com/rearc-covid-19-nyt-data-in-usa/csv/us-states/us-states.csv\", stream=True)"
   ]
  },
  {
   "cell_type": "code",
   "execution_count": 7,
   "metadata": {},
   "outputs": [],
   "source": [
    "# Overwrite the US COVID Data CSV with the latest one \n",
    "with open(\"../data/us-covid-data.csv\",  \"wb\") as file:\n",
    "    file.write(us_covid_cases_data.content)"
   ]
  },
  {
   "cell_type": "code",
   "execution_count": 8,
   "metadata": {},
   "outputs": [],
   "source": [
    "# Read US COVID Data CSV for data merging and cleaning \n",
    "us_covid_cases_df = pd.read_csv(\"../data/us-covid-data.csv\")"
   ]
  },
  {
   "cell_type": "markdown",
   "metadata": {},
   "source": [
    "# State Overview Data"
   ]
  },
  {
   "cell_type": "code",
   "execution_count": 9,
   "metadata": {},
   "outputs": [],
   "source": [
    "# Get yesterday's date, which is the latest data \n",
    "today = dt.date.today()\n",
    "yesterday = today - dt.timedelta(days = 1)\n",
    "latest_data = yesterday.strftime(\"%Y-%m-%d\")"
   ]
  },
  {
   "cell_type": "code",
   "execution_count": 10,
   "metadata": {},
   "outputs": [],
   "source": [
    "# Get latest total cases by state for latest date\n",
    "us_total_cases_to_date_df = us_covid_cases_df.groupby([\"date\", \"state\"]).sum()\n",
    "us_total_cases_to_date_df.reset_index(inplace=True)\n",
    "us_total_cases_to_date_df = us_total_cases_to_date_df.loc[us_total_cases_to_date_df[\"date\"] == latest_data]"
   ]
  },
  {
   "cell_type": "code",
   "execution_count": 11,
   "metadata": {},
   "outputs": [],
   "source": [
    "# Read State Lat-Lon CSV and rename columns for easier cleaning and merging\n",
    "state_latlons_df = pd.read_csv(\"../data/statelatlong.csv\")\n",
    "state_latlons_df.rename(columns={\"State\": \"abbr\", \"Latitude\": \"lat\", \"Longitude\": \"lon\", \"City\": \"state\"}, inplace=True)"
   ]
  },
  {
   "cell_type": "code",
   "execution_count": 12,
   "metadata": {
    "scrolled": true
   },
   "outputs": [],
   "source": [
    "# Read State Population CSV for cleaning and merging\n",
    "state_pop_df = pd.read_csv(\"../data/state_populations_cleaned.csv\")"
   ]
  },
  {
   "cell_type": "code",
   "execution_count": 13,
   "metadata": {},
   "outputs": [],
   "source": [
    "# Merge, rename, and focus on defined columns\n",
    "state_overview_master_df = pd.merge(state_pop_df, state_latlons_df, how=\"inner\", on=\"state\")\n",
    "state_overview_master_df = state_overview_master_df[[\"state\", \"abbr\", \"lat\", \"lon\", \"population\"]]"
   ]
  },
  {
   "cell_type": "code",
   "execution_count": 14,
   "metadata": {},
   "outputs": [],
   "source": [
    "# Merge with us_total_cases_to_date_df and focus on defined columns\n",
    "state_overview_master_df = pd.merge(state_overview_master_df, us_total_cases_to_date_df, how=\"inner\", on=\"state\")\n",
    "state_overview_master_df = state_overview_master_df[[\"date\", \"state\", \"abbr\", \"lat\", \"lon\", \"population\", \"fips\", \"cases\", \"deaths\"]]"
   ]
  },
  {
   "cell_type": "code",
   "execution_count": 15,
   "metadata": {},
   "outputs": [],
   "source": [
    "# Merge with Vaccination data, rename columns, focus data columns\n",
    "state_overview_master_df = pd.merge(state_overview_master_df, vaccines_df, how=\"inner\", on=\"state\")\n",
    "state_overview_master_df = state_overview_master_df.rename(columns={\"Total Doses Administered by State where Administered\": \"total_doses_administered\", \"Doses Administered per 100k by State where Administered\": \"doses_administered_per_100k\"})\n",
    "state_overview_master_df = state_overview_master_df[[\"date\", \"state\", \"abbr\", \"lat\", \"lon\", \"population\", \"fips\", \"cases\", \"deaths\", \"total_doses_administered\", \"doses_administered_per_100k\"]]"
   ]
  },
  {
   "cell_type": "code",
   "execution_count": 16,
   "metadata": {},
   "outputs": [],
   "source": [
    "# Add Empty Column for New Calculation\n",
    "state_overview_master_df[\"percent_vaccinated\"] = \"\""
   ]
  },
  {
   "cell_type": "code",
   "execution_count": 17,
   "metadata": {},
   "outputs": [],
   "source": [
    "# Calcuation for percent vaccinated by state\n",
    "for index, row in state_overview_master_df.iterrows():\n",
    "    population = row[\"population\"]\n",
    "    vaccinated = row[\"total_doses_administered\"]\n",
    "    percent_vaccinated = round((vaccinated / population) * 100, 2)\n",
    "    \n",
    "    state_overview_master_df.at[index, \"percent_vaccinated\"] = percent_vaccinated"
   ]
  },
  {
   "cell_type": "code",
   "execution_count": 18,
   "metadata": {},
   "outputs": [],
   "source": [
    "# Convert percent vaccinated into a float\n",
    "state_overview_master_df = state_overview_master_df.astype({\"percent_vaccinated\": 'float64'})"
   ]
  },
  {
   "cell_type": "code",
   "execution_count": 19,
   "metadata": {
    "scrolled": true
   },
   "outputs": [],
   "source": [
    "state_overview_master_df.to_csv(\"../data/state-master-data.csv\")"
   ]
  },
  {
   "cell_type": "code",
   "execution_count": 20,
   "metadata": {},
   "outputs": [],
   "source": [
    "state_overview_master_df[\"date\"] = pd.to_datetime(state_overview_master_df[\"date\"])"
   ]
  },
  {
   "cell_type": "markdown",
   "metadata": {},
   "source": [
    "# County Overview Data"
   ]
  },
  {
   "cell_type": "code",
   "execution_count": 21,
   "metadata": {},
   "outputs": [],
   "source": [
    "populations_county = pd.read_csv(\"../data/census-bureau-population-by-county.csv\")\n",
    "poverty_county = pd.read_csv(\"../data/poverty-and-median-household-income-data-by-us-county-2019.csv\")\n",
    "state_keys = pd.read_csv(\"../data/state-names-codes.csv\")"
   ]
  },
  {
   "cell_type": "code",
   "execution_count": 22,
   "metadata": {},
   "outputs": [],
   "source": [
    "poverty_county = poverty_county[[\"Postal Code\", \"county\", \"Poverty Estimate, All Ages\", \"Median Household Income\"]]\n",
    "poverty_county = poverty_county.rename(columns={\"Postal Code\": \"code\", \"Poverty Estimate, All Ages\": \"poverty_est_all_ages\", \n",
    "                                              \"Median Household Income\": \"median_household_income\"})\n",
    "poverty_county[\"county\"] = poverty_county[\"county\"].str.rstrip()"
   ]
  },
  {
   "cell_type": "code",
   "execution_count": 23,
   "metadata": {},
   "outputs": [],
   "source": [
    "state_keys = state_keys.rename(columns={\"Code\": \"code\", \"State\": \"state\"})\n",
    "state_keys = state_keys[[\"state\", \"code\"]]"
   ]
  },
  {
   "cell_type": "code",
   "execution_count": 24,
   "metadata": {},
   "outputs": [],
   "source": [
    "poverty_county = pd.merge(poverty_county, state_keys, how=\"inner\", on=\"code\")\n",
    "poverty_county.drop(columns={\"state\"}, inplace=True)"
   ]
  },
  {
   "cell_type": "code",
   "execution_count": 25,
   "metadata": {},
   "outputs": [],
   "source": [
    "populations_county = populations_county.merge(state_keys, how=\"inner\", on=\"state\")\n",
    "populations_county = populations_county[[\"code\", \"county\", \"state\", \"population_est\"]]\n",
    "populations_county[\"code\"] = populations_county[\"code\"].str.rstrip()\n",
    "populations_county[\"county\"] = populations_county[\"county\"].str.rstrip()"
   ]
  },
  {
   "cell_type": "code",
   "execution_count": 26,
   "metadata": {},
   "outputs": [],
   "source": [
    "merged_data = populations_county.merge(poverty_county, how='inner', left_on=[\"code\", \"county\"], right_on=[\"code\", \"county\"])"
   ]
  },
  {
   "cell_type": "code",
   "execution_count": 27,
   "metadata": {},
   "outputs": [],
   "source": [
    "merged_data.dropna(how=\"any\", inplace=True)"
   ]
  },
  {
   "cell_type": "code",
   "execution_count": 28,
   "metadata": {},
   "outputs": [
    {
     "data": {
      "text/html": [
       "<div>\n",
       "<style scoped>\n",
       "    .dataframe tbody tr th:only-of-type {\n",
       "        vertical-align: middle;\n",
       "    }\n",
       "\n",
       "    .dataframe tbody tr th {\n",
       "        vertical-align: top;\n",
       "    }\n",
       "\n",
       "    .dataframe thead th {\n",
       "        text-align: right;\n",
       "    }\n",
       "</style>\n",
       "<table border=\"1\" class=\"dataframe\">\n",
       "  <thead>\n",
       "    <tr style=\"text-align: right;\">\n",
       "      <th></th>\n",
       "      <th>code</th>\n",
       "      <th>county</th>\n",
       "      <th>state</th>\n",
       "      <th>population_est</th>\n",
       "      <th>poverty_est_all_ages</th>\n",
       "      <th>median_household_income</th>\n",
       "    </tr>\n",
       "  </thead>\n",
       "  <tbody>\n",
       "    <tr>\n",
       "      <th>0</th>\n",
       "      <td>AL</td>\n",
       "      <td>Alabama</td>\n",
       "      <td>Alabama</td>\n",
       "      <td>4903185</td>\n",
       "      <td>747478</td>\n",
       "      <td>51771</td>\n",
       "    </tr>\n",
       "    <tr>\n",
       "      <th>1</th>\n",
       "      <td>AL</td>\n",
       "      <td>Autauga</td>\n",
       "      <td>Alabama</td>\n",
       "      <td>55869</td>\n",
       "      <td>6723</td>\n",
       "      <td>58233</td>\n",
       "    </tr>\n",
       "    <tr>\n",
       "      <th>2</th>\n",
       "      <td>AL</td>\n",
       "      <td>Baldwin</td>\n",
       "      <td>Alabama</td>\n",
       "      <td>223234</td>\n",
       "      <td>22360</td>\n",
       "      <td>59871</td>\n",
       "    </tr>\n",
       "    <tr>\n",
       "      <th>3</th>\n",
       "      <td>AL</td>\n",
       "      <td>Barbour</td>\n",
       "      <td>Alabama</td>\n",
       "      <td>24686</td>\n",
       "      <td>5909</td>\n",
       "      <td>35972</td>\n",
       "    </tr>\n",
       "    <tr>\n",
       "      <th>4</th>\n",
       "      <td>AL</td>\n",
       "      <td>Bibb</td>\n",
       "      <td>Alabama</td>\n",
       "      <td>22394</td>\n",
       "      <td>4101</td>\n",
       "      <td>47918</td>\n",
       "    </tr>\n",
       "    <tr>\n",
       "      <th>...</th>\n",
       "      <td>...</td>\n",
       "      <td>...</td>\n",
       "      <td>...</td>\n",
       "      <td>...</td>\n",
       "      <td>...</td>\n",
       "      <td>...</td>\n",
       "    </tr>\n",
       "    <tr>\n",
       "      <th>3192</th>\n",
       "      <td>WY</td>\n",
       "      <td>Sweetwater</td>\n",
       "      <td>Wyoming</td>\n",
       "      <td>42343</td>\n",
       "      <td>3453</td>\n",
       "      <td>80639</td>\n",
       "    </tr>\n",
       "    <tr>\n",
       "      <th>3193</th>\n",
       "      <td>WY</td>\n",
       "      <td>Teton</td>\n",
       "      <td>Wyoming</td>\n",
       "      <td>23464</td>\n",
       "      <td>1396</td>\n",
       "      <td>98837</td>\n",
       "    </tr>\n",
       "    <tr>\n",
       "      <th>3194</th>\n",
       "      <td>WY</td>\n",
       "      <td>Uinta</td>\n",
       "      <td>Wyoming</td>\n",
       "      <td>20226</td>\n",
       "      <td>1699</td>\n",
       "      <td>70756</td>\n",
       "    </tr>\n",
       "    <tr>\n",
       "      <th>3195</th>\n",
       "      <td>WY</td>\n",
       "      <td>Washakie</td>\n",
       "      <td>Wyoming</td>\n",
       "      <td>7805</td>\n",
       "      <td>845</td>\n",
       "      <td>55122</td>\n",
       "    </tr>\n",
       "    <tr>\n",
       "      <th>3196</th>\n",
       "      <td>WY</td>\n",
       "      <td>Weston</td>\n",
       "      <td>Wyoming</td>\n",
       "      <td>6927</td>\n",
       "      <td>692</td>\n",
       "      <td>59410</td>\n",
       "    </tr>\n",
       "  </tbody>\n",
       "</table>\n",
       "<p>3197 rows × 6 columns</p>\n",
       "</div>"
      ],
      "text/plain": [
       "     code      county    state  population_est poverty_est_all_ages  \\\n",
       "0      AL     Alabama  Alabama         4903185               747478   \n",
       "1      AL     Autauga  Alabama           55869                 6723   \n",
       "2      AL     Baldwin  Alabama          223234                22360   \n",
       "3      AL     Barbour  Alabama           24686                 5909   \n",
       "4      AL        Bibb  Alabama           22394                 4101   \n",
       "...   ...         ...      ...             ...                  ...   \n",
       "3192   WY  Sweetwater  Wyoming           42343                 3453   \n",
       "3193   WY       Teton  Wyoming           23464                 1396   \n",
       "3194   WY       Uinta  Wyoming           20226                 1699   \n",
       "3195   WY    Washakie  Wyoming            7805                  845   \n",
       "3196   WY      Weston  Wyoming            6927                  692   \n",
       "\n",
       "     median_household_income  \n",
       "0                      51771  \n",
       "1                      58233  \n",
       "2                      59871  \n",
       "3                      35972  \n",
       "4                      47918  \n",
       "...                      ...  \n",
       "3192                   80639  \n",
       "3193                   98837  \n",
       "3194                   70756  \n",
       "3195                   55122  \n",
       "3196                   59410  \n",
       "\n",
       "[3197 rows x 6 columns]"
      ]
     },
     "execution_count": 28,
     "metadata": {},
     "output_type": "execute_result"
    }
   ],
   "source": [
    "merged_data"
   ]
  },
  {
   "cell_type": "markdown",
   "metadata": {},
   "source": [
    "### Retrieve County Cases Data"
   ]
  },
  {
   "cell_type": "code",
   "execution_count": 29,
   "metadata": {},
   "outputs": [],
   "source": [
    "county_cases = requests.get(\"https://covid19-lake.s3.us-east-2.amazonaws.com/rearc-covid-19-nyt-data-in-usa/csv/us-counties/us-counties.csv\", stream=True)"
   ]
  },
  {
   "cell_type": "code",
   "execution_count": 30,
   "metadata": {},
   "outputs": [],
   "source": [
    "# Overwrite the US COVID Data CSV with the latest one \n",
    "with open(\"../data/county-covid-data.csv\",  \"wb\") as file:\n",
    "    file.write(county_cases.content)"
   ]
  },
  {
   "cell_type": "code",
   "execution_count": 31,
   "metadata": {},
   "outputs": [],
   "source": [
    "# Read US COVID Data CSV for data merging and cleaning \n",
    "us_county_cases = pd.read_csv(\"../data/county-covid-data.csv\")"
   ]
  },
  {
   "cell_type": "code",
   "execution_count": 32,
   "metadata": {},
   "outputs": [],
   "source": [
    "us_county_cases = us_county_cases.groupby([\"date\", \"state\", \"county\"]).sum()\n",
    "us_county_cases.reset_index(inplace=True)"
   ]
  },
  {
   "cell_type": "code",
   "execution_count": 33,
   "metadata": {},
   "outputs": [],
   "source": [
    "us_county_cases = us_county_cases.merge(merged_data, how=\"left\")"
   ]
  },
  {
   "cell_type": "code",
   "execution_count": 34,
   "metadata": {},
   "outputs": [],
   "source": [
    "us_county_cases.to_csv(\"../data/county-cases-daily-master.csv\")"
   ]
  },
  {
   "cell_type": "code",
   "execution_count": 35,
   "metadata": {},
   "outputs": [],
   "source": [
    "us_county_cases[\"date\"] = pd.to_datetime(us_county_cases[\"date\"])"
   ]
  },
  {
   "cell_type": "code",
   "execution_count": 36,
   "metadata": {},
   "outputs": [],
   "source": [
    "latest_covid_cases = us_county_cases.loc[us_county_cases[\"date\"] == latest_data]"
   ]
  },
  {
   "cell_type": "code",
   "execution_count": 37,
   "metadata": {},
   "outputs": [
    {
     "name": "stderr",
     "output_type": "stream",
     "text": [
      "C:\\Users\\coled\\anaconda3\\envs\\PythonData\\lib\\site-packages\\ipykernel_launcher.py:1: SettingWithCopyWarning: \n",
      "A value is trying to be set on a copy of a slice from a DataFrame\n",
      "\n",
      "See the caveats in the documentation: https://pandas.pydata.org/pandas-docs/stable/user_guide/indexing.html#returning-a-view-versus-a-copy\n",
      "  \"\"\"Entry point for launching an IPython kernel.\n"
     ]
    }
   ],
   "source": [
    "latest_covid_cases.dropna(how=\"any\", inplace=True)"
   ]
  },
  {
   "cell_type": "code",
   "execution_count": 38,
   "metadata": {},
   "outputs": [],
   "source": [
    "for index, row in latest_covid_cases.iterrows():\n",
    "    latest_covid_cases.at[index, \"poverty_est_all_ages\"] = row[\"poverty_est_all_ages\"].replace('.', \"0\")\n",
    "    latest_covid_cases.at[index, \"median_household_income\"] = row[\"median_household_income\"].replace('.', \"0\")"
   ]
  },
  {
   "cell_type": "code",
   "execution_count": 39,
   "metadata": {},
   "outputs": [
    {
     "name": "stderr",
     "output_type": "stream",
     "text": [
      "C:\\Users\\coled\\anaconda3\\envs\\PythonData\\lib\\site-packages\\pandas\\core\\frame.py:4327: SettingWithCopyWarning: \n",
      "A value is trying to be set on a copy of a slice from a DataFrame\n",
      "\n",
      "See the caveats in the documentation: https://pandas.pydata.org/pandas-docs/stable/user_guide/indexing.html#returning-a-view-versus-a-copy\n",
      "  downcast=downcast,\n"
     ]
    }
   ],
   "source": [
    "latest_covid_cases.fillna(0, inplace=True)"
   ]
  },
  {
   "cell_type": "code",
   "execution_count": 40,
   "metadata": {},
   "outputs": [
    {
     "name": "stderr",
     "output_type": "stream",
     "text": [
      "C:\\Users\\coled\\anaconda3\\envs\\PythonData\\lib\\site-packages\\ipykernel_launcher.py:1: SettingWithCopyWarning: \n",
      "A value is trying to be set on a copy of a slice from a DataFrame.\n",
      "Try using .loc[row_indexer,col_indexer] = value instead\n",
      "\n",
      "See the caveats in the documentation: https://pandas.pydata.org/pandas-docs/stable/user_guide/indexing.html#returning-a-view-versus-a-copy\n",
      "  \"\"\"Entry point for launching an IPython kernel.\n",
      "C:\\Users\\coled\\anaconda3\\envs\\PythonData\\lib\\site-packages\\ipykernel_launcher.py:2: SettingWithCopyWarning: \n",
      "A value is trying to be set on a copy of a slice from a DataFrame.\n",
      "Try using .loc[row_indexer,col_indexer] = value instead\n",
      "\n",
      "See the caveats in the documentation: https://pandas.pydata.org/pandas-docs/stable/user_guide/indexing.html#returning-a-view-versus-a-copy\n",
      "  \n"
     ]
    }
   ],
   "source": [
    "latest_covid_cases[\"poverty_est_all_ages\"] = latest_covid_cases[\"poverty_est_all_ages\"].astype('int64')\n",
    "latest_covid_cases[\"median_household_income\"] = latest_covid_cases[\"median_household_income\"].astype('int64')"
   ]
  },
  {
   "cell_type": "code",
   "execution_count": 41,
   "metadata": {},
   "outputs": [],
   "source": [
    "education_data = pd.read_csv(\"../data/county-level-education-stats-2015-2019.csv\")"
   ]
  },
  {
   "cell_type": "code",
   "execution_count": 42,
   "metadata": {},
   "outputs": [],
   "source": [
    "education_data.rename(columns={\"state\": \"code\"}, inplace=True)"
   ]
  },
  {
   "cell_type": "code",
   "execution_count": 43,
   "metadata": {},
   "outputs": [],
   "source": [
    "education_data[\"county\"] = education_data[\"county\"].str.rstrip()"
   ]
  },
  {
   "cell_type": "code",
   "execution_count": 44,
   "metadata": {},
   "outputs": [],
   "source": [
    "latest_covid_cases = latest_covid_cases.merge(education_data, how='outer', left_on=[\"code\", \"county\"], right_on=[\"code\", \"county\"])"
   ]
  },
  {
   "cell_type": "code",
   "execution_count": 45,
   "metadata": {},
   "outputs": [],
   "source": [
    "latest_covid_cases.dropna(inplace=True)"
   ]
  },
  {
   "cell_type": "code",
   "execution_count": 55,
   "metadata": {},
   "outputs": [],
   "source": [
    "for index, row in latest_covid_cases.iterrows():\n",
    "    cases_per_100k = round((row[\"cases\"] / row[\"population_est\"]) * 100000)\n",
    "    \n",
    "    latest_covid_cases.at[index, \"cases_per_100k\"] = cases_per_100k"
   ]
  },
  {
   "cell_type": "code",
   "execution_count": 57,
   "metadata": {},
   "outputs": [],
   "source": [
    "latest_covid_cases.to_csv(\"../data/county-cases-latest-master.csv\")"
   ]
  },
  {
   "cell_type": "markdown",
   "metadata": {},
   "source": [
    "## Daily Cases"
   ]
  },
  {
   "cell_type": "code",
   "execution_count": 58,
   "metadata": {},
   "outputs": [],
   "source": [
    "daily_vaccinations = pd.read_csv(\"https://raw.githubusercontent.com/owid/covid-19-data/master/public/data/vaccinations/us_state_vaccinations.csv\")"
   ]
  },
  {
   "cell_type": "code",
   "execution_count": 59,
   "metadata": {},
   "outputs": [],
   "source": [
    "daily_vaccs_cleaned = daily_vaccinations[[\"date\", \"location\", \"people_fully_vaccinated\"]]"
   ]
  },
  {
   "cell_type": "code",
   "execution_count": 60,
   "metadata": {},
   "outputs": [
    {
     "name": "stderr",
     "output_type": "stream",
     "text": [
      "C:\\Users\\coled\\anaconda3\\envs\\PythonData\\lib\\site-packages\\ipykernel_launcher.py:1: SettingWithCopyWarning: \n",
      "A value is trying to be set on a copy of a slice from a DataFrame.\n",
      "Try using .loc[row_indexer,col_indexer] = value instead\n",
      "\n",
      "See the caveats in the documentation: https://pandas.pydata.org/pandas-docs/stable/user_guide/indexing.html#returning-a-view-versus-a-copy\n",
      "  \"\"\"Entry point for launching an IPython kernel.\n"
     ]
    }
   ],
   "source": [
    "daily_vaccs_cleaned[\"date\"] = pd.to_datetime(daily_vaccs_cleaned[\"date\"])"
   ]
  },
  {
   "cell_type": "code",
   "execution_count": 61,
   "metadata": {},
   "outputs": [
    {
     "name": "stderr",
     "output_type": "stream",
     "text": [
      "C:\\Users\\coled\\anaconda3\\envs\\PythonData\\lib\\site-packages\\pandas\\core\\frame.py:4308: SettingWithCopyWarning: \n",
      "A value is trying to be set on a copy of a slice from a DataFrame\n",
      "\n",
      "See the caveats in the documentation: https://pandas.pydata.org/pandas-docs/stable/user_guide/indexing.html#returning-a-view-versus-a-copy\n",
      "  errors=errors,\n"
     ]
    }
   ],
   "source": [
    "daily_vaccs_cleaned.rename(columns={\"location\": \"state\"}, inplace=True)"
   ]
  },
  {
   "cell_type": "code",
   "execution_count": 62,
   "metadata": {},
   "outputs": [],
   "source": [
    "# Convert Dates to pd.Datetimes\n",
    "us_covid_cases_df[\"date\"] = pd.to_datetime(us_covid_cases_df[\"date\"])"
   ]
  },
  {
   "cell_type": "code",
   "execution_count": 63,
   "metadata": {},
   "outputs": [
    {
     "data": {
      "text/html": [
       "<div>\n",
       "<style scoped>\n",
       "    .dataframe tbody tr th:only-of-type {\n",
       "        vertical-align: middle;\n",
       "    }\n",
       "\n",
       "    .dataframe tbody tr th {\n",
       "        vertical-align: top;\n",
       "    }\n",
       "\n",
       "    .dataframe thead th {\n",
       "        text-align: right;\n",
       "    }\n",
       "</style>\n",
       "<table border=\"1\" class=\"dataframe\">\n",
       "  <thead>\n",
       "    <tr style=\"text-align: right;\">\n",
       "      <th></th>\n",
       "      <th>date</th>\n",
       "      <th>state</th>\n",
       "      <th>fips</th>\n",
       "      <th>cases</th>\n",
       "      <th>deaths</th>\n",
       "    </tr>\n",
       "  </thead>\n",
       "  <tbody>\n",
       "    <tr>\n",
       "      <th>0</th>\n",
       "      <td>2020-01-21</td>\n",
       "      <td>Washington</td>\n",
       "      <td>53</td>\n",
       "      <td>1</td>\n",
       "      <td>0</td>\n",
       "    </tr>\n",
       "    <tr>\n",
       "      <th>1</th>\n",
       "      <td>2020-01-22</td>\n",
       "      <td>Washington</td>\n",
       "      <td>53</td>\n",
       "      <td>1</td>\n",
       "      <td>0</td>\n",
       "    </tr>\n",
       "    <tr>\n",
       "      <th>2</th>\n",
       "      <td>2020-01-23</td>\n",
       "      <td>Washington</td>\n",
       "      <td>53</td>\n",
       "      <td>1</td>\n",
       "      <td>0</td>\n",
       "    </tr>\n",
       "    <tr>\n",
       "      <th>3</th>\n",
       "      <td>2020-01-24</td>\n",
       "      <td>Illinois</td>\n",
       "      <td>17</td>\n",
       "      <td>1</td>\n",
       "      <td>0</td>\n",
       "    </tr>\n",
       "    <tr>\n",
       "      <th>4</th>\n",
       "      <td>2020-01-24</td>\n",
       "      <td>Washington</td>\n",
       "      <td>53</td>\n",
       "      <td>1</td>\n",
       "      <td>0</td>\n",
       "    </tr>\n",
       "    <tr>\n",
       "      <th>...</th>\n",
       "      <td>...</td>\n",
       "      <td>...</td>\n",
       "      <td>...</td>\n",
       "      <td>...</td>\n",
       "      <td>...</td>\n",
       "    </tr>\n",
       "    <tr>\n",
       "      <th>21019</th>\n",
       "      <td>2021-03-19</td>\n",
       "      <td>Virginia</td>\n",
       "      <td>51</td>\n",
       "      <td>602182</td>\n",
       "      <td>10092</td>\n",
       "    </tr>\n",
       "    <tr>\n",
       "      <th>21020</th>\n",
       "      <td>2021-03-19</td>\n",
       "      <td>Washington</td>\n",
       "      <td>53</td>\n",
       "      <td>356397</td>\n",
       "      <td>5224</td>\n",
       "    </tr>\n",
       "    <tr>\n",
       "      <th>21021</th>\n",
       "      <td>2021-03-19</td>\n",
       "      <td>West Virginia</td>\n",
       "      <td>54</td>\n",
       "      <td>137092</td>\n",
       "      <td>2600</td>\n",
       "    </tr>\n",
       "    <tr>\n",
       "      <th>21022</th>\n",
       "      <td>2021-03-19</td>\n",
       "      <td>Wisconsin</td>\n",
       "      <td>55</td>\n",
       "      <td>628634</td>\n",
       "      <td>7225</td>\n",
       "    </tr>\n",
       "    <tr>\n",
       "      <th>21023</th>\n",
       "      <td>2021-03-19</td>\n",
       "      <td>Wyoming</td>\n",
       "      <td>56</td>\n",
       "      <td>55581</td>\n",
       "      <td>693</td>\n",
       "    </tr>\n",
       "  </tbody>\n",
       "</table>\n",
       "<p>21024 rows × 5 columns</p>\n",
       "</div>"
      ],
      "text/plain": [
       "            date          state  fips   cases  deaths\n",
       "0     2020-01-21     Washington    53       1       0\n",
       "1     2020-01-22     Washington    53       1       0\n",
       "2     2020-01-23     Washington    53       1       0\n",
       "3     2020-01-24       Illinois    17       1       0\n",
       "4     2020-01-24     Washington    53       1       0\n",
       "...          ...            ...   ...     ...     ...\n",
       "21019 2021-03-19       Virginia    51  602182   10092\n",
       "21020 2021-03-19     Washington    53  356397    5224\n",
       "21021 2021-03-19  West Virginia    54  137092    2600\n",
       "21022 2021-03-19      Wisconsin    55  628634    7225\n",
       "21023 2021-03-19        Wyoming    56   55581     693\n",
       "\n",
       "[21024 rows x 5 columns]"
      ]
     },
     "execution_count": 63,
     "metadata": {},
     "output_type": "execute_result"
    }
   ],
   "source": [
    "us_covid_cases_df"
   ]
  },
  {
   "cell_type": "code",
   "execution_count": 64,
   "metadata": {},
   "outputs": [],
   "source": [
    "us_covid_cases_df = us_covid_cases_df.merge(daily_vaccs_cleaned, how=\"left\", left_on=[\"date\", \"state\"], right_on=[\"date\", \"state\"])"
   ]
  },
  {
   "cell_type": "code",
   "execution_count": 65,
   "metadata": {},
   "outputs": [],
   "source": [
    "us_covid_cases_df.fillna(0, inplace=True)"
   ]
  },
  {
   "cell_type": "code",
   "execution_count": 66,
   "metadata": {},
   "outputs": [],
   "source": [
    "# Create Daily New Cases Dataframe\n",
    "daily_new_cases_df = us_covid_cases_df.groupby(\"date\").sum()"
   ]
  },
  {
   "cell_type": "code",
   "execution_count": 67,
   "metadata": {},
   "outputs": [],
   "source": [
    "daily_new_cases_df[\"daily_new_fully_vaccinated\"] = \"\""
   ]
  },
  {
   "cell_type": "code",
   "execution_count": 68,
   "metadata": {},
   "outputs": [],
   "source": [
    "# daily_new_cases_df[daily_new_cases_df[\"people_fully_vaccinated\"] != 0]\n",
    "previous_day_vaccinations = 0\n",
    "\n",
    "for index, row in daily_new_cases_df.iterrows():\n",
    "    \n",
    "#     if row[\"people_fully_vaccinated\"] == 0:\n",
    "#         previous_day_vaccinations = 0\n",
    "#         new_vaccinations = row[\"people_fully_vaccinated\"] - previous_day_vaccinations\n",
    "#         daily_new_cases_df.at[index, \"daily_new_fully_vaccinated\"] = new_vaccinations\n",
    "#     else:\n",
    "\n",
    "    if row[\"people_fully_vaccinated\"] == 0:\n",
    "        new_vaccinations = row[\"people_fully_vaccinated\"]\n",
    "        daily_new_cases_df.at[index, \"daily_new_fully_vaccinated\"] = new_vaccinations\n",
    "        \n",
    "    else:\n",
    "        new_vaccinations = row[\"people_fully_vaccinated\"] - previous_day_vaccinations\n",
    "        previous_day_vaccinations = row[\"people_fully_vaccinated\"]\n",
    "        daily_new_cases_df.at[index, \"daily_new_fully_vaccinated\"] = new_vaccinations\n",
    "    \n",
    "#     daily_new_cases_df.at[index, \"daily_new_fully_vaccinated\"] = new_vaccinations"
   ]
  },
  {
   "cell_type": "code",
   "execution_count": 69,
   "metadata": {},
   "outputs": [],
   "source": [
    "daily_new_cases_df.reset_index(inplace=True)"
   ]
  },
  {
   "cell_type": "code",
   "execution_count": 70,
   "metadata": {},
   "outputs": [
    {
     "data": {
      "text/html": [
       "<div>\n",
       "<style scoped>\n",
       "    .dataframe tbody tr th:only-of-type {\n",
       "        vertical-align: middle;\n",
       "    }\n",
       "\n",
       "    .dataframe tbody tr th {\n",
       "        vertical-align: top;\n",
       "    }\n",
       "\n",
       "    .dataframe thead th {\n",
       "        text-align: right;\n",
       "    }\n",
       "</style>\n",
       "<table border=\"1\" class=\"dataframe\">\n",
       "  <thead>\n",
       "    <tr style=\"text-align: right;\">\n",
       "      <th></th>\n",
       "      <th>date</th>\n",
       "      <th>fips</th>\n",
       "      <th>cases</th>\n",
       "      <th>deaths</th>\n",
       "      <th>people_fully_vaccinated</th>\n",
       "      <th>daily_new_fully_vaccinated</th>\n",
       "    </tr>\n",
       "  </thead>\n",
       "  <tbody>\n",
       "    <tr>\n",
       "      <th>387</th>\n",
       "      <td>2021-02-11</td>\n",
       "      <td>1762</td>\n",
       "      <td>27435436</td>\n",
       "      <td>475238</td>\n",
       "      <td>9915475.0</td>\n",
       "      <td>630731</td>\n",
       "    </tr>\n",
       "    <tr>\n",
       "      <th>388</th>\n",
       "      <td>2021-02-12</td>\n",
       "      <td>1762</td>\n",
       "      <td>27534988</td>\n",
       "      <td>480701</td>\n",
       "      <td>10714726.0</td>\n",
       "      <td>799251</td>\n",
       "    </tr>\n",
       "    <tr>\n",
       "      <th>389</th>\n",
       "      <td>2021-02-13</td>\n",
       "      <td>1762</td>\n",
       "      <td>27619706</td>\n",
       "      <td>484074</td>\n",
       "      <td>11606347.0</td>\n",
       "      <td>891621</td>\n",
       "    </tr>\n",
       "    <tr>\n",
       "      <th>390</th>\n",
       "      <td>2021-02-14</td>\n",
       "      <td>1762</td>\n",
       "      <td>27683549</td>\n",
       "      <td>485154</td>\n",
       "      <td>12486790.0</td>\n",
       "      <td>880443</td>\n",
       "    </tr>\n",
       "    <tr>\n",
       "      <th>391</th>\n",
       "      <td>2021-02-15</td>\n",
       "      <td>1762</td>\n",
       "      <td>27738919</td>\n",
       "      <td>486148</td>\n",
       "      <td>0.0</td>\n",
       "      <td>0</td>\n",
       "    </tr>\n",
       "    <tr>\n",
       "      <th>392</th>\n",
       "      <td>2021-02-16</td>\n",
       "      <td>1762</td>\n",
       "      <td>27803320</td>\n",
       "      <td>487855</td>\n",
       "      <td>13303348.0</td>\n",
       "      <td>816558</td>\n",
       "    </tr>\n",
       "    <tr>\n",
       "      <th>393</th>\n",
       "      <td>2021-02-17</td>\n",
       "      <td>1762</td>\n",
       "      <td>27873498</td>\n",
       "      <td>490326</td>\n",
       "      <td>13715176.0</td>\n",
       "      <td>411828</td>\n",
       "    </tr>\n",
       "    <tr>\n",
       "      <th>394</th>\n",
       "      <td>2021-02-18</td>\n",
       "      <td>1762</td>\n",
       "      <td>27945372</td>\n",
       "      <td>492951</td>\n",
       "      <td>14312898.0</td>\n",
       "      <td>597722</td>\n",
       "    </tr>\n",
       "    <tr>\n",
       "      <th>395</th>\n",
       "      <td>2021-02-19</td>\n",
       "      <td>1762</td>\n",
       "      <td>28023418</td>\n",
       "      <td>495572</td>\n",
       "      <td>15913379.0</td>\n",
       "      <td>1.60048e+06</td>\n",
       "    </tr>\n",
       "    <tr>\n",
       "      <th>396</th>\n",
       "      <td>2021-02-20</td>\n",
       "      <td>1762</td>\n",
       "      <td>28093137</td>\n",
       "      <td>497403</td>\n",
       "      <td>16716277.0</td>\n",
       "      <td>802898</td>\n",
       "    </tr>\n",
       "    <tr>\n",
       "      <th>397</th>\n",
       "      <td>2021-02-21</td>\n",
       "      <td>1762</td>\n",
       "      <td>28148332</td>\n",
       "      <td>498650</td>\n",
       "      <td>17630923.0</td>\n",
       "      <td>914646</td>\n",
       "    </tr>\n",
       "    <tr>\n",
       "      <th>398</th>\n",
       "      <td>2021-02-22</td>\n",
       "      <td>1762</td>\n",
       "      <td>28207799</td>\n",
       "      <td>500104</td>\n",
       "      <td>18165316.0</td>\n",
       "      <td>534393</td>\n",
       "    </tr>\n",
       "    <tr>\n",
       "      <th>399</th>\n",
       "      <td>2021-02-23</td>\n",
       "      <td>1762</td>\n",
       "      <td>28279597</td>\n",
       "      <td>502432</td>\n",
       "      <td>18572848.0</td>\n",
       "      <td>407532</td>\n",
       "    </tr>\n",
       "    <tr>\n",
       "      <th>400</th>\n",
       "      <td>2021-02-24</td>\n",
       "      <td>1762</td>\n",
       "      <td>28353725</td>\n",
       "      <td>505642</td>\n",
       "      <td>19269704.0</td>\n",
       "      <td>696856</td>\n",
       "    </tr>\n",
       "    <tr>\n",
       "      <th>401</th>\n",
       "      <td>2021-02-25</td>\n",
       "      <td>1762</td>\n",
       "      <td>28431528</td>\n",
       "      <td>508107</td>\n",
       "      <td>20112512.0</td>\n",
       "      <td>842808</td>\n",
       "    </tr>\n",
       "    <tr>\n",
       "      <th>402</th>\n",
       "      <td>2021-02-26</td>\n",
       "      <td>1762</td>\n",
       "      <td>28509801</td>\n",
       "      <td>510283</td>\n",
       "      <td>21129930.0</td>\n",
       "      <td>1.01742e+06</td>\n",
       "    </tr>\n",
       "    <tr>\n",
       "      <th>403</th>\n",
       "      <td>2021-02-27</td>\n",
       "      <td>1762</td>\n",
       "      <td>28572494</td>\n",
       "      <td>511850</td>\n",
       "      <td>22162759.0</td>\n",
       "      <td>1.03283e+06</td>\n",
       "    </tr>\n",
       "    <tr>\n",
       "      <th>404</th>\n",
       "      <td>2021-02-28</td>\n",
       "      <td>1762</td>\n",
       "      <td>28623414</td>\n",
       "      <td>512979</td>\n",
       "      <td>23173088.0</td>\n",
       "      <td>1.01033e+06</td>\n",
       "    </tr>\n",
       "    <tr>\n",
       "      <th>405</th>\n",
       "      <td>2021-03-01</td>\n",
       "      <td>1762</td>\n",
       "      <td>28680093</td>\n",
       "      <td>514404</td>\n",
       "      <td>23814521.0</td>\n",
       "      <td>641433</td>\n",
       "    </tr>\n",
       "    <tr>\n",
       "      <th>406</th>\n",
       "      <td>2021-03-02</td>\n",
       "      <td>1762</td>\n",
       "      <td>28737883</td>\n",
       "      <td>515710</td>\n",
       "      <td>24472205.0</td>\n",
       "      <td>657684</td>\n",
       "    </tr>\n",
       "    <tr>\n",
       "      <th>407</th>\n",
       "      <td>2021-03-03</td>\n",
       "      <td>1762</td>\n",
       "      <td>28804598</td>\n",
       "      <td>518079</td>\n",
       "      <td>25229515.0</td>\n",
       "      <td>757310</td>\n",
       "    </tr>\n",
       "    <tr>\n",
       "      <th>408</th>\n",
       "      <td>2021-03-04</td>\n",
       "      <td>1762</td>\n",
       "      <td>28872014</td>\n",
       "      <td>520028</td>\n",
       "      <td>26033127.0</td>\n",
       "      <td>803612</td>\n",
       "    </tr>\n",
       "    <tr>\n",
       "      <th>409</th>\n",
       "      <td>2021-03-05</td>\n",
       "      <td>1762</td>\n",
       "      <td>28937697</td>\n",
       "      <td>522511</td>\n",
       "      <td>26901053.0</td>\n",
       "      <td>867926</td>\n",
       "    </tr>\n",
       "    <tr>\n",
       "      <th>410</th>\n",
       "      <td>2021-03-06</td>\n",
       "      <td>1762</td>\n",
       "      <td>28994298</td>\n",
       "      <td>523970</td>\n",
       "      <td>27929299.0</td>\n",
       "      <td>1.02825e+06</td>\n",
       "    </tr>\n",
       "    <tr>\n",
       "      <th>411</th>\n",
       "      <td>2021-03-07</td>\n",
       "      <td>1762</td>\n",
       "      <td>29034634</td>\n",
       "      <td>524652</td>\n",
       "      <td>28785839.0</td>\n",
       "      <td>856540</td>\n",
       "    </tr>\n",
       "    <tr>\n",
       "      <th>412</th>\n",
       "      <td>2021-03-08</td>\n",
       "      <td>1762</td>\n",
       "      <td>29133153</td>\n",
       "      <td>525467</td>\n",
       "      <td>29528915.0</td>\n",
       "      <td>743076</td>\n",
       "    </tr>\n",
       "    <tr>\n",
       "      <th>413</th>\n",
       "      <td>2021-03-09</td>\n",
       "      <td>1762</td>\n",
       "      <td>29188983</td>\n",
       "      <td>527352</td>\n",
       "      <td>30056629.0</td>\n",
       "      <td>527714</td>\n",
       "    </tr>\n",
       "    <tr>\n",
       "      <th>414</th>\n",
       "      <td>2021-03-10</td>\n",
       "      <td>1762</td>\n",
       "      <td>29247517</td>\n",
       "      <td>528829</td>\n",
       "      <td>30802015.0</td>\n",
       "      <td>745386</td>\n",
       "    </tr>\n",
       "    <tr>\n",
       "      <th>415</th>\n",
       "      <td>2021-03-11</td>\n",
       "      <td>1762</td>\n",
       "      <td>29310205</td>\n",
       "      <td>530351</td>\n",
       "      <td>31699804.0</td>\n",
       "      <td>897789</td>\n",
       "    </tr>\n",
       "    <tr>\n",
       "      <th>416</th>\n",
       "      <td>2021-03-12</td>\n",
       "      <td>1762</td>\n",
       "      <td>29374385</td>\n",
       "      <td>532058</td>\n",
       "      <td>32776458.0</td>\n",
       "      <td>1.07665e+06</td>\n",
       "    </tr>\n",
       "    <tr>\n",
       "      <th>417</th>\n",
       "      <td>2021-03-13</td>\n",
       "      <td>1762</td>\n",
       "      <td>29424110</td>\n",
       "      <td>533904</td>\n",
       "      <td>34597720.0</td>\n",
       "      <td>1.82126e+06</td>\n",
       "    </tr>\n",
       "    <tr>\n",
       "      <th>418</th>\n",
       "      <td>2021-03-14</td>\n",
       "      <td>1762</td>\n",
       "      <td>29462142</td>\n",
       "      <td>534476</td>\n",
       "      <td>35126625.0</td>\n",
       "      <td>528905</td>\n",
       "    </tr>\n",
       "    <tr>\n",
       "      <th>419</th>\n",
       "      <td>2021-03-15</td>\n",
       "      <td>1762</td>\n",
       "      <td>29519231</td>\n",
       "      <td>535227</td>\n",
       "      <td>35927860.0</td>\n",
       "      <td>801235</td>\n",
       "    </tr>\n",
       "    <tr>\n",
       "      <th>420</th>\n",
       "      <td>2021-03-16</td>\n",
       "      <td>1762</td>\n",
       "      <td>29573672</td>\n",
       "      <td>536472</td>\n",
       "      <td>36576709.0</td>\n",
       "      <td>648849</td>\n",
       "    </tr>\n",
       "    <tr>\n",
       "      <th>421</th>\n",
       "      <td>2021-03-17</td>\n",
       "      <td>1762</td>\n",
       "      <td>29632533</td>\n",
       "      <td>537649</td>\n",
       "      <td>37466707.0</td>\n",
       "      <td>889998</td>\n",
       "    </tr>\n",
       "    <tr>\n",
       "      <th>422</th>\n",
       "      <td>2021-03-18</td>\n",
       "      <td>1762</td>\n",
       "      <td>29693389</td>\n",
       "      <td>539207</td>\n",
       "      <td>38402648.0</td>\n",
       "      <td>935941</td>\n",
       "    </tr>\n",
       "    <tr>\n",
       "      <th>423</th>\n",
       "      <td>2021-03-19</td>\n",
       "      <td>1762</td>\n",
       "      <td>29753884</td>\n",
       "      <td>540720</td>\n",
       "      <td>39297229.0</td>\n",
       "      <td>894581</td>\n",
       "    </tr>\n",
       "  </tbody>\n",
       "</table>\n",
       "</div>"
      ],
      "text/plain": [
       "          date  fips     cases  deaths  people_fully_vaccinated  \\\n",
       "387 2021-02-11  1762  27435436  475238                9915475.0   \n",
       "388 2021-02-12  1762  27534988  480701               10714726.0   \n",
       "389 2021-02-13  1762  27619706  484074               11606347.0   \n",
       "390 2021-02-14  1762  27683549  485154               12486790.0   \n",
       "391 2021-02-15  1762  27738919  486148                      0.0   \n",
       "392 2021-02-16  1762  27803320  487855               13303348.0   \n",
       "393 2021-02-17  1762  27873498  490326               13715176.0   \n",
       "394 2021-02-18  1762  27945372  492951               14312898.0   \n",
       "395 2021-02-19  1762  28023418  495572               15913379.0   \n",
       "396 2021-02-20  1762  28093137  497403               16716277.0   \n",
       "397 2021-02-21  1762  28148332  498650               17630923.0   \n",
       "398 2021-02-22  1762  28207799  500104               18165316.0   \n",
       "399 2021-02-23  1762  28279597  502432               18572848.0   \n",
       "400 2021-02-24  1762  28353725  505642               19269704.0   \n",
       "401 2021-02-25  1762  28431528  508107               20112512.0   \n",
       "402 2021-02-26  1762  28509801  510283               21129930.0   \n",
       "403 2021-02-27  1762  28572494  511850               22162759.0   \n",
       "404 2021-02-28  1762  28623414  512979               23173088.0   \n",
       "405 2021-03-01  1762  28680093  514404               23814521.0   \n",
       "406 2021-03-02  1762  28737883  515710               24472205.0   \n",
       "407 2021-03-03  1762  28804598  518079               25229515.0   \n",
       "408 2021-03-04  1762  28872014  520028               26033127.0   \n",
       "409 2021-03-05  1762  28937697  522511               26901053.0   \n",
       "410 2021-03-06  1762  28994298  523970               27929299.0   \n",
       "411 2021-03-07  1762  29034634  524652               28785839.0   \n",
       "412 2021-03-08  1762  29133153  525467               29528915.0   \n",
       "413 2021-03-09  1762  29188983  527352               30056629.0   \n",
       "414 2021-03-10  1762  29247517  528829               30802015.0   \n",
       "415 2021-03-11  1762  29310205  530351               31699804.0   \n",
       "416 2021-03-12  1762  29374385  532058               32776458.0   \n",
       "417 2021-03-13  1762  29424110  533904               34597720.0   \n",
       "418 2021-03-14  1762  29462142  534476               35126625.0   \n",
       "419 2021-03-15  1762  29519231  535227               35927860.0   \n",
       "420 2021-03-16  1762  29573672  536472               36576709.0   \n",
       "421 2021-03-17  1762  29632533  537649               37466707.0   \n",
       "422 2021-03-18  1762  29693389  539207               38402648.0   \n",
       "423 2021-03-19  1762  29753884  540720               39297229.0   \n",
       "\n",
       "    daily_new_fully_vaccinated  \n",
       "387                     630731  \n",
       "388                     799251  \n",
       "389                     891621  \n",
       "390                     880443  \n",
       "391                          0  \n",
       "392                     816558  \n",
       "393                     411828  \n",
       "394                     597722  \n",
       "395                1.60048e+06  \n",
       "396                     802898  \n",
       "397                     914646  \n",
       "398                     534393  \n",
       "399                     407532  \n",
       "400                     696856  \n",
       "401                     842808  \n",
       "402                1.01742e+06  \n",
       "403                1.03283e+06  \n",
       "404                1.01033e+06  \n",
       "405                     641433  \n",
       "406                     657684  \n",
       "407                     757310  \n",
       "408                     803612  \n",
       "409                     867926  \n",
       "410                1.02825e+06  \n",
       "411                     856540  \n",
       "412                     743076  \n",
       "413                     527714  \n",
       "414                     745386  \n",
       "415                     897789  \n",
       "416                1.07665e+06  \n",
       "417                1.82126e+06  \n",
       "418                     528905  \n",
       "419                     801235  \n",
       "420                     648849  \n",
       "421                     889998  \n",
       "422                     935941  \n",
       "423                     894581  "
      ]
     },
     "execution_count": 70,
     "metadata": {},
     "output_type": "execute_result"
    }
   ],
   "source": [
    "daily_new_cases_df[daily_new_cases_df[\"date\"] > dt.datetime(2021, 2, 10)]"
   ]
  },
  {
   "cell_type": "code",
   "execution_count": 71,
   "metadata": {},
   "outputs": [],
   "source": [
    "# Add new Empty Columns for Daily New Cases and Deaths\n",
    "daily_new_cases_df[\"daily_new_cases\"] = \"\"\n",
    "daily_new_cases_df[\"daily_new_deaths\"] = \"\""
   ]
  },
  {
   "cell_type": "code",
   "execution_count": 72,
   "metadata": {},
   "outputs": [],
   "source": [
    "previous_day_cases = 0\n",
    "previous_day_deaths = 0\n",
    "    \n",
    "for index, row in daily_new_cases_df.iterrows():\n",
    "    \n",
    "    # Cases\n",
    "    new_cases = row[\"cases\"] - previous_day_cases\n",
    "    previous_day_cases = row[\"cases\"]\n",
    "    daily_new_cases_df.at[index, \"daily_new_cases\"] = new_cases\n",
    "    \n",
    "    # Deaths\n",
    "    new_deaths = row[\"deaths\"] - previous_day_deaths\n",
    "    previous_day_deaths = row[\"deaths\"]\n",
    "    daily_new_cases_df.at[index, \"daily_new_deaths\"] = new_deaths"
   ]
  },
  {
   "cell_type": "code",
   "execution_count": 73,
   "metadata": {},
   "outputs": [
    {
     "data": {
      "text/html": [
       "<div>\n",
       "<style scoped>\n",
       "    .dataframe tbody tr th:only-of-type {\n",
       "        vertical-align: middle;\n",
       "    }\n",
       "\n",
       "    .dataframe tbody tr th {\n",
       "        vertical-align: top;\n",
       "    }\n",
       "\n",
       "    .dataframe thead th {\n",
       "        text-align: right;\n",
       "    }\n",
       "</style>\n",
       "<table border=\"1\" class=\"dataframe\">\n",
       "  <thead>\n",
       "    <tr style=\"text-align: right;\">\n",
       "      <th></th>\n",
       "      <th>date</th>\n",
       "      <th>fips</th>\n",
       "      <th>cases</th>\n",
       "      <th>deaths</th>\n",
       "      <th>people_fully_vaccinated</th>\n",
       "      <th>daily_new_fully_vaccinated</th>\n",
       "      <th>daily_new_cases</th>\n",
       "      <th>daily_new_deaths</th>\n",
       "    </tr>\n",
       "  </thead>\n",
       "  <tbody>\n",
       "    <tr>\n",
       "      <th>0</th>\n",
       "      <td>2020-01-21</td>\n",
       "      <td>53</td>\n",
       "      <td>1</td>\n",
       "      <td>0</td>\n",
       "      <td>0.0</td>\n",
       "      <td>0</td>\n",
       "      <td>1</td>\n",
       "      <td>0</td>\n",
       "    </tr>\n",
       "    <tr>\n",
       "      <th>1</th>\n",
       "      <td>2020-01-22</td>\n",
       "      <td>53</td>\n",
       "      <td>1</td>\n",
       "      <td>0</td>\n",
       "      <td>0.0</td>\n",
       "      <td>0</td>\n",
       "      <td>0</td>\n",
       "      <td>0</td>\n",
       "    </tr>\n",
       "    <tr>\n",
       "      <th>2</th>\n",
       "      <td>2020-01-23</td>\n",
       "      <td>53</td>\n",
       "      <td>1</td>\n",
       "      <td>0</td>\n",
       "      <td>0.0</td>\n",
       "      <td>0</td>\n",
       "      <td>0</td>\n",
       "      <td>0</td>\n",
       "    </tr>\n",
       "    <tr>\n",
       "      <th>3</th>\n",
       "      <td>2020-01-24</td>\n",
       "      <td>70</td>\n",
       "      <td>2</td>\n",
       "      <td>0</td>\n",
       "      <td>0.0</td>\n",
       "      <td>0</td>\n",
       "      <td>1</td>\n",
       "      <td>0</td>\n",
       "    </tr>\n",
       "    <tr>\n",
       "      <th>4</th>\n",
       "      <td>2020-01-25</td>\n",
       "      <td>76</td>\n",
       "      <td>3</td>\n",
       "      <td>0</td>\n",
       "      <td>0.0</td>\n",
       "      <td>0</td>\n",
       "      <td>1</td>\n",
       "      <td>0</td>\n",
       "    </tr>\n",
       "    <tr>\n",
       "      <th>...</th>\n",
       "      <td>...</td>\n",
       "      <td>...</td>\n",
       "      <td>...</td>\n",
       "      <td>...</td>\n",
       "      <td>...</td>\n",
       "      <td>...</td>\n",
       "      <td>...</td>\n",
       "      <td>...</td>\n",
       "    </tr>\n",
       "    <tr>\n",
       "      <th>419</th>\n",
       "      <td>2021-03-15</td>\n",
       "      <td>1762</td>\n",
       "      <td>29519231</td>\n",
       "      <td>535227</td>\n",
       "      <td>35927860.0</td>\n",
       "      <td>801235</td>\n",
       "      <td>57089</td>\n",
       "      <td>751</td>\n",
       "    </tr>\n",
       "    <tr>\n",
       "      <th>420</th>\n",
       "      <td>2021-03-16</td>\n",
       "      <td>1762</td>\n",
       "      <td>29573672</td>\n",
       "      <td>536472</td>\n",
       "      <td>36576709.0</td>\n",
       "      <td>648849</td>\n",
       "      <td>54441</td>\n",
       "      <td>1245</td>\n",
       "    </tr>\n",
       "    <tr>\n",
       "      <th>421</th>\n",
       "      <td>2021-03-17</td>\n",
       "      <td>1762</td>\n",
       "      <td>29632533</td>\n",
       "      <td>537649</td>\n",
       "      <td>37466707.0</td>\n",
       "      <td>889998</td>\n",
       "      <td>58861</td>\n",
       "      <td>1177</td>\n",
       "    </tr>\n",
       "    <tr>\n",
       "      <th>422</th>\n",
       "      <td>2021-03-18</td>\n",
       "      <td>1762</td>\n",
       "      <td>29693389</td>\n",
       "      <td>539207</td>\n",
       "      <td>38402648.0</td>\n",
       "      <td>935941</td>\n",
       "      <td>60856</td>\n",
       "      <td>1558</td>\n",
       "    </tr>\n",
       "    <tr>\n",
       "      <th>423</th>\n",
       "      <td>2021-03-19</td>\n",
       "      <td>1762</td>\n",
       "      <td>29753884</td>\n",
       "      <td>540720</td>\n",
       "      <td>39297229.0</td>\n",
       "      <td>894581</td>\n",
       "      <td>60495</td>\n",
       "      <td>1513</td>\n",
       "    </tr>\n",
       "  </tbody>\n",
       "</table>\n",
       "<p>424 rows × 8 columns</p>\n",
       "</div>"
      ],
      "text/plain": [
       "          date  fips     cases  deaths  people_fully_vaccinated  \\\n",
       "0   2020-01-21    53         1       0                      0.0   \n",
       "1   2020-01-22    53         1       0                      0.0   \n",
       "2   2020-01-23    53         1       0                      0.0   \n",
       "3   2020-01-24    70         2       0                      0.0   \n",
       "4   2020-01-25    76         3       0                      0.0   \n",
       "..         ...   ...       ...     ...                      ...   \n",
       "419 2021-03-15  1762  29519231  535227               35927860.0   \n",
       "420 2021-03-16  1762  29573672  536472               36576709.0   \n",
       "421 2021-03-17  1762  29632533  537649               37466707.0   \n",
       "422 2021-03-18  1762  29693389  539207               38402648.0   \n",
       "423 2021-03-19  1762  29753884  540720               39297229.0   \n",
       "\n",
       "    daily_new_fully_vaccinated daily_new_cases daily_new_deaths  \n",
       "0                            0               1                0  \n",
       "1                            0               0                0  \n",
       "2                            0               0                0  \n",
       "3                            0               1                0  \n",
       "4                            0               1                0  \n",
       "..                         ...             ...              ...  \n",
       "419                     801235           57089              751  \n",
       "420                     648849           54441             1245  \n",
       "421                     889998           58861             1177  \n",
       "422                     935941           60856             1558  \n",
       "423                     894581           60495             1513  \n",
       "\n",
       "[424 rows x 8 columns]"
      ]
     },
     "execution_count": 73,
     "metadata": {},
     "output_type": "execute_result"
    }
   ],
   "source": [
    "daily_new_cases_df"
   ]
  },
  {
   "cell_type": "code",
   "execution_count": 74,
   "metadata": {},
   "outputs": [],
   "source": [
    "daily_new_cases_df[\"new_cases_shift\"] = daily_new_cases_df[\"daily_new_cases\"].shift(periods=14)\n",
    "daily_new_cases_df.fillna(0, inplace=True)"
   ]
  },
  {
   "cell_type": "code",
   "execution_count": 75,
   "metadata": {},
   "outputs": [],
   "source": [
    "daily_new_cases_df[\"3_month_immunity_est\"] = daily_new_cases_df[\"new_cases_shift\"].rolling(90).sum()"
   ]
  },
  {
   "cell_type": "code",
   "execution_count": 76,
   "metadata": {},
   "outputs": [
    {
     "data": {
      "text/html": [
       "<div>\n",
       "<style scoped>\n",
       "    .dataframe tbody tr th:only-of-type {\n",
       "        vertical-align: middle;\n",
       "    }\n",
       "\n",
       "    .dataframe tbody tr th {\n",
       "        vertical-align: top;\n",
       "    }\n",
       "\n",
       "    .dataframe thead th {\n",
       "        text-align: right;\n",
       "    }\n",
       "</style>\n",
       "<table border=\"1\" class=\"dataframe\">\n",
       "  <thead>\n",
       "    <tr style=\"text-align: right;\">\n",
       "      <th></th>\n",
       "      <th>date</th>\n",
       "      <th>fips</th>\n",
       "      <th>cases</th>\n",
       "      <th>deaths</th>\n",
       "      <th>people_fully_vaccinated</th>\n",
       "      <th>daily_new_fully_vaccinated</th>\n",
       "      <th>daily_new_cases</th>\n",
       "      <th>daily_new_deaths</th>\n",
       "      <th>new_cases_shift</th>\n",
       "      <th>3_month_immunity_est</th>\n",
       "    </tr>\n",
       "  </thead>\n",
       "  <tbody>\n",
       "    <tr>\n",
       "      <th>0</th>\n",
       "      <td>2020-01-21</td>\n",
       "      <td>53</td>\n",
       "      <td>1</td>\n",
       "      <td>0</td>\n",
       "      <td>0.0</td>\n",
       "      <td>0.0</td>\n",
       "      <td>1</td>\n",
       "      <td>0</td>\n",
       "      <td>0</td>\n",
       "      <td>NaN</td>\n",
       "    </tr>\n",
       "    <tr>\n",
       "      <th>1</th>\n",
       "      <td>2020-01-22</td>\n",
       "      <td>53</td>\n",
       "      <td>1</td>\n",
       "      <td>0</td>\n",
       "      <td>0.0</td>\n",
       "      <td>0.0</td>\n",
       "      <td>0</td>\n",
       "      <td>0</td>\n",
       "      <td>0</td>\n",
       "      <td>NaN</td>\n",
       "    </tr>\n",
       "    <tr>\n",
       "      <th>2</th>\n",
       "      <td>2020-01-23</td>\n",
       "      <td>53</td>\n",
       "      <td>1</td>\n",
       "      <td>0</td>\n",
       "      <td>0.0</td>\n",
       "      <td>0.0</td>\n",
       "      <td>0</td>\n",
       "      <td>0</td>\n",
       "      <td>0</td>\n",
       "      <td>NaN</td>\n",
       "    </tr>\n",
       "    <tr>\n",
       "      <th>3</th>\n",
       "      <td>2020-01-24</td>\n",
       "      <td>70</td>\n",
       "      <td>2</td>\n",
       "      <td>0</td>\n",
       "      <td>0.0</td>\n",
       "      <td>0.0</td>\n",
       "      <td>1</td>\n",
       "      <td>0</td>\n",
       "      <td>0</td>\n",
       "      <td>NaN</td>\n",
       "    </tr>\n",
       "    <tr>\n",
       "      <th>4</th>\n",
       "      <td>2020-01-25</td>\n",
       "      <td>76</td>\n",
       "      <td>3</td>\n",
       "      <td>0</td>\n",
       "      <td>0.0</td>\n",
       "      <td>0.0</td>\n",
       "      <td>1</td>\n",
       "      <td>0</td>\n",
       "      <td>0</td>\n",
       "      <td>NaN</td>\n",
       "    </tr>\n",
       "    <tr>\n",
       "      <th>...</th>\n",
       "      <td>...</td>\n",
       "      <td>...</td>\n",
       "      <td>...</td>\n",
       "      <td>...</td>\n",
       "      <td>...</td>\n",
       "      <td>...</td>\n",
       "      <td>...</td>\n",
       "      <td>...</td>\n",
       "      <td>...</td>\n",
       "      <td>...</td>\n",
       "    </tr>\n",
       "    <tr>\n",
       "      <th>419</th>\n",
       "      <td>2021-03-15</td>\n",
       "      <td>1762</td>\n",
       "      <td>29519231</td>\n",
       "      <td>535227</td>\n",
       "      <td>35927860.0</td>\n",
       "      <td>801235.0</td>\n",
       "      <td>57089</td>\n",
       "      <td>751</td>\n",
       "      <td>56679</td>\n",
       "      <td>14880094.0</td>\n",
       "    </tr>\n",
       "    <tr>\n",
       "      <th>420</th>\n",
       "      <td>2021-03-16</td>\n",
       "      <td>1762</td>\n",
       "      <td>29573672</td>\n",
       "      <td>536472</td>\n",
       "      <td>36576709.0</td>\n",
       "      <td>648849.0</td>\n",
       "      <td>54441</td>\n",
       "      <td>1245</td>\n",
       "      <td>57790</td>\n",
       "      <td>14736673.0</td>\n",
       "    </tr>\n",
       "    <tr>\n",
       "      <th>421</th>\n",
       "      <td>2021-03-17</td>\n",
       "      <td>1762</td>\n",
       "      <td>29632533</td>\n",
       "      <td>537649</td>\n",
       "      <td>37466707.0</td>\n",
       "      <td>889998.0</td>\n",
       "      <td>58861</td>\n",
       "      <td>1177</td>\n",
       "      <td>66715</td>\n",
       "      <td>14585625.0</td>\n",
       "    </tr>\n",
       "    <tr>\n",
       "      <th>422</th>\n",
       "      <td>2021-03-18</td>\n",
       "      <td>1762</td>\n",
       "      <td>29693389</td>\n",
       "      <td>539207</td>\n",
       "      <td>38402648.0</td>\n",
       "      <td>935941.0</td>\n",
       "      <td>60856</td>\n",
       "      <td>1558</td>\n",
       "      <td>67416</td>\n",
       "      <td>14421654.0</td>\n",
       "    </tr>\n",
       "    <tr>\n",
       "      <th>423</th>\n",
       "      <td>2021-03-19</td>\n",
       "      <td>1762</td>\n",
       "      <td>29753884</td>\n",
       "      <td>540720</td>\n",
       "      <td>39297229.0</td>\n",
       "      <td>894581.0</td>\n",
       "      <td>60495</td>\n",
       "      <td>1513</td>\n",
       "      <td>65683</td>\n",
       "      <td>14281664.0</td>\n",
       "    </tr>\n",
       "  </tbody>\n",
       "</table>\n",
       "<p>424 rows × 10 columns</p>\n",
       "</div>"
      ],
      "text/plain": [
       "          date  fips     cases  deaths  people_fully_vaccinated  \\\n",
       "0   2020-01-21    53         1       0                      0.0   \n",
       "1   2020-01-22    53         1       0                      0.0   \n",
       "2   2020-01-23    53         1       0                      0.0   \n",
       "3   2020-01-24    70         2       0                      0.0   \n",
       "4   2020-01-25    76         3       0                      0.0   \n",
       "..         ...   ...       ...     ...                      ...   \n",
       "419 2021-03-15  1762  29519231  535227               35927860.0   \n",
       "420 2021-03-16  1762  29573672  536472               36576709.0   \n",
       "421 2021-03-17  1762  29632533  537649               37466707.0   \n",
       "422 2021-03-18  1762  29693389  539207               38402648.0   \n",
       "423 2021-03-19  1762  29753884  540720               39297229.0   \n",
       "\n",
       "     daily_new_fully_vaccinated  daily_new_cases  daily_new_deaths  \\\n",
       "0                           0.0                1                 0   \n",
       "1                           0.0                0                 0   \n",
       "2                           0.0                0                 0   \n",
       "3                           0.0                1                 0   \n",
       "4                           0.0                1                 0   \n",
       "..                          ...              ...               ...   \n",
       "419                    801235.0            57089               751   \n",
       "420                    648849.0            54441              1245   \n",
       "421                    889998.0            58861              1177   \n",
       "422                    935941.0            60856              1558   \n",
       "423                    894581.0            60495              1513   \n",
       "\n",
       "     new_cases_shift  3_month_immunity_est  \n",
       "0                  0                   NaN  \n",
       "1                  0                   NaN  \n",
       "2                  0                   NaN  \n",
       "3                  0                   NaN  \n",
       "4                  0                   NaN  \n",
       "..               ...                   ...  \n",
       "419            56679            14880094.0  \n",
       "420            57790            14736673.0  \n",
       "421            66715            14585625.0  \n",
       "422            67416            14421654.0  \n",
       "423            65683            14281664.0  \n",
       "\n",
       "[424 rows x 10 columns]"
      ]
     },
     "execution_count": 76,
     "metadata": {},
     "output_type": "execute_result"
    }
   ],
   "source": [
    "daily_new_cases_df"
   ]
  },
  {
   "cell_type": "code",
   "execution_count": 77,
   "metadata": {},
   "outputs": [],
   "source": [
    "daily_new_cases_df[\"6_month_immunity_est\"] = daily_new_cases_df.rolling(180)[\"new_cases_shift\"].sum()"
   ]
  },
  {
   "cell_type": "code",
   "execution_count": 78,
   "metadata": {},
   "outputs": [],
   "source": [
    "daily_new_cases_df = daily_new_cases_df.fillna(0)"
   ]
  },
  {
   "cell_type": "code",
   "execution_count": 79,
   "metadata": {},
   "outputs": [
    {
     "data": {
      "text/plain": [
       "<AxesSubplot:>"
      ]
     },
     "execution_count": 79,
     "metadata": {},
     "output_type": "execute_result"
    },
    {
     "data": {
      "image/png": "[encoded data removed]",
      "text/plain": [
       "<Figure size 432x288 with 1 Axes>"
      ]
     },
     "metadata": {
      "needs_background": "light"
     },
     "output_type": "display_data"
    }
   ],
   "source": [
    "daily_new_cases_df[[\"3_month_immunity_est\", \"6_month_immunity_est\"]].plot()"
   ]
  },
  {
   "cell_type": "code",
   "execution_count": 80,
   "metadata": {},
   "outputs": [],
   "source": [
    "for index, row in daily_new_cases_df.iterrows():\n",
    "    \n",
    "    # 3-month immunity\n",
    "    recovered = row[\"3_month_immunity_est\"]\n",
    "    fully_vaccinated = row[\"people_fully_vaccinated\"]\n",
    "    \n",
    "    daily_new_cases_df.at[index, \"3_month_immunity_est\"] = recovered + fully_vaccinated\n",
    "    \n",
    "    # 6-month immunity\n",
    "    six_recovered = row[\"6_month_immunity_est\"]\n",
    "    \n",
    "    daily_new_cases_df.at[index, \"6_month_immunity_est\"] = six_recovered + fully_vaccinated"
   ]
  },
  {
   "cell_type": "code",
   "execution_count": 81,
   "metadata": {},
   "outputs": [
    {
     "data": {
      "text/html": [
       "<div>\n",
       "<style scoped>\n",
       "    .dataframe tbody tr th:only-of-type {\n",
       "        vertical-align: middle;\n",
       "    }\n",
       "\n",
       "    .dataframe tbody tr th {\n",
       "        vertical-align: top;\n",
       "    }\n",
       "\n",
       "    .dataframe thead th {\n",
       "        text-align: right;\n",
       "    }\n",
       "</style>\n",
       "<table border=\"1\" class=\"dataframe\">\n",
       "  <thead>\n",
       "    <tr style=\"text-align: right;\">\n",
       "      <th></th>\n",
       "      <th>date</th>\n",
       "      <th>fips</th>\n",
       "      <th>cases</th>\n",
       "      <th>deaths</th>\n",
       "      <th>people_fully_vaccinated</th>\n",
       "      <th>daily_new_fully_vaccinated</th>\n",
       "      <th>daily_new_cases</th>\n",
       "      <th>daily_new_deaths</th>\n",
       "      <th>new_cases_shift</th>\n",
       "      <th>3_month_immunity_est</th>\n",
       "      <th>6_month_immunity_est</th>\n",
       "    </tr>\n",
       "  </thead>\n",
       "  <tbody>\n",
       "    <tr>\n",
       "      <th>392</th>\n",
       "      <td>2021-02-16</td>\n",
       "      <td>1762</td>\n",
       "      <td>27803320</td>\n",
       "      <td>487855</td>\n",
       "      <td>13303348.0</td>\n",
       "      <td>816558.0</td>\n",
       "      <td>64401</td>\n",
       "      <td>1707</td>\n",
       "      <td>117929</td>\n",
       "      <td>30203441.0</td>\n",
       "      <td>34889577.0</td>\n",
       "    </tr>\n",
       "  </tbody>\n",
       "</table>\n",
       "</div>"
      ],
      "text/plain": [
       "          date  fips     cases  deaths  people_fully_vaccinated  \\\n",
       "392 2021-02-16  1762  27803320  487855               13303348.0   \n",
       "\n",
       "     daily_new_fully_vaccinated  daily_new_cases  daily_new_deaths  \\\n",
       "392                    816558.0            64401              1707   \n",
       "\n",
       "     new_cases_shift  3_month_immunity_est  6_month_immunity_est  \n",
       "392           117929            30203441.0            34889577.0  "
      ]
     },
     "execution_count": 81,
     "metadata": {},
     "output_type": "execute_result"
    }
   ],
   "source": [
    "daily_new_cases_df[daily_new_cases_df[\"date\"] == dt.datetime(2021, 2, 16)]"
   ]
  },
  {
   "cell_type": "code",
   "execution_count": 82,
   "metadata": {},
   "outputs": [
    {
     "name": "stdout",
     "output_type": "stream",
     "text": [
      "<class 'pandas.core.frame.DataFrame'>\n",
      "RangeIndex: 424 entries, 0 to 423\n",
      "Data columns (total 11 columns):\n",
      " #   Column                      Non-Null Count  Dtype         \n",
      "---  ------                      --------------  -----         \n",
      " 0   date                        424 non-null    datetime64[ns]\n",
      " 1   fips                        424 non-null    int64         \n",
      " 2   cases                       424 non-null    int64         \n",
      " 3   deaths                      424 non-null    int64         \n",
      " 4   people_fully_vaccinated     424 non-null    float64       \n",
      " 5   daily_new_fully_vaccinated  424 non-null    float64       \n",
      " 6   daily_new_cases             424 non-null    int64         \n",
      " 7   daily_new_deaths            424 non-null    int64         \n",
      " 8   new_cases_shift             424 non-null    int64         \n",
      " 9   3_month_immunity_est        424 non-null    float64       \n",
      " 10  6_month_immunity_est        424 non-null    float64       \n",
      "dtypes: datetime64[ns](1), float64(4), int64(6)\n",
      "memory usage: 36.6 KB\n"
     ]
    }
   ],
   "source": [
    "daily_new_cases_df.info()"
   ]
  },
  {
   "cell_type": "code",
   "execution_count": 83,
   "metadata": {},
   "outputs": [],
   "source": [
    "daily_new_cases_df.to_csv(\"../data/state-daily-stats.csv\")"
   ]
  },
  {
   "cell_type": "markdown",
   "metadata": {},
   "source": [
    "## Amazon RDS Updates"
   ]
  },
  {
   "cell_type": "code",
   "execution_count": 84,
   "metadata": {},
   "outputs": [],
   "source": [
    "# Config Variables, and SQLalchemy\n",
    "from config import endpoint, username, password\n",
    "from sqlalchemy import create_engine"
   ]
  },
  {
   "cell_type": "code",
   "execution_count": 85,
   "metadata": {},
   "outputs": [],
   "source": [
    "# Connect to AWS Database instance \n",
    "engine = create_engine(f'postgresql://uscovid:{password}@{endpoint}/us_covid_db')\n",
    "connection = engine.connect()"
   ]
  },
  {
   "cell_type": "code",
   "execution_count": 86,
   "metadata": {},
   "outputs": [
    {
     "data": {
      "text/plain": [
       "<sqlalchemy.engine.result.ResultProxy at 0x1bb8ca60288>"
      ]
     },
     "execution_count": 86,
     "metadata": {},
     "output_type": "execute_result"
    }
   ],
   "source": [
    "# 50 States & D.C. Data\n",
    "state_overview_master_df.to_sql('master_table', index=False, if_exists='replace', con=connection)\n",
    "engine.execute('ALTER TABLE master_table ADD PRIMARY KEY (state);')"
   ]
  },
  {
   "cell_type": "code",
   "execution_count": 87,
   "metadata": {},
   "outputs": [
    {
     "data": {
      "text/plain": [
       "<sqlalchemy.engine.result.ResultProxy at 0x1bb8ca7b8c8>"
      ]
     },
     "execution_count": 87,
     "metadata": {},
     "output_type": "execute_result"
    }
   ],
   "source": [
    "# Daily Cases Data\n",
    "daily_new_cases_df.to_sql(\"daily_new_cases\", index=False, if_exists='replace', con=connection)\n",
    "engine.execute('ALTER TABLE daily_new_cases ADD PRIMARY KEY (date);')"
   ]
  },
  {
   "cell_type": "code",
   "execution_count": 88,
   "metadata": {},
   "outputs": [
    {
     "data": {
      "text/plain": [
       "<sqlalchemy.engine.result.ResultProxy at 0x1bb8ca87a88>"
      ]
     },
     "execution_count": 88,
     "metadata": {},
     "output_type": "execute_result"
    }
   ],
   "source": [
    "# County Data\n",
    "latest_covid_cases.to_sql(\"county_cases_latest\", index=True, if_exists='replace', con=connection)\n",
    "engine.execute('ALTER TABLE county_cases_latest ADD PRIMARY KEY (index);')"
   ]
  },
  {
   "cell_type": "code",
   "execution_count": 89,
   "metadata": {},
   "outputs": [
    {
     "data": {
      "text/plain": [
       "<sqlalchemy.engine.result.ResultProxy at 0x1bb8c58d988>"
      ]
     },
     "execution_count": 89,
     "metadata": {},
     "output_type": "execute_result"
    }
   ],
   "source": [
    "# Raw NTY Data\n",
    "us_covid_cases_df.to_sql('nyt_table', index=True, if_exists='replace', con=connection)\n",
    "engine.execute('ALTER TABLE nyt_table ADD PRIMARY KEY (index);')"
   ]
  },
  {
   "cell_type": "code",
   "execution_count": null,
   "metadata": {},
   "outputs": [],
   "source": []
  }
 ],
 "metadata": {
  "kernelspec": {
   "display_name": "Python 3",
   "language": "python",
   "name": "python3"
  },
  "language_info": {
   "codemirror_mode": {
    "name": "ipython",
    "version": 3
   },
   "file_extension": ".py",
   "mimetype": "text/x-python",
   "name": "python",
   "nbconvert_exporter": "python",
   "pygments_lexer": "ipython3",
   "version": "3.7.8"
  }
 },
 "nbformat": 4,
 "nbformat_minor": 4
}
