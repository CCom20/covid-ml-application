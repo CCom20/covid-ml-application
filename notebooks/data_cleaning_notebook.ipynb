{
 "cells": [
  {
   "cell_type": "code",
   "execution_count": 106,
   "metadata": {},
   "outputs": [],
   "source": [
    "# Import dependancies\n",
    "from bs4 import BeautifulSoup as bs\n",
    "from splinter import Browser\n",
    "import requests\n",
    "import csv\n",
    "import pandas as pd\n",
    "from selenium import webdriver\n",
    "from webdriver_manager.chrome import ChromeDriverManager\n",
    "import datetime as dt"
   ]
  },
  {
   "cell_type": "markdown",
   "metadata": {},
   "source": [
    "### Get Vaccine Data from CDC"
   ]
  },
  {
   "cell_type": "code",
   "execution_count": 107,
   "metadata": {},
   "outputs": [
    {
     "name": "stderr",
     "output_type": "stream",
     "text": [
      "[WDM] - Current google-chrome version is 89.0.4389\n",
      "[WDM] - Get LATEST driver version for 89.0.4389\n",
      "[WDM] - Driver [C:\\Users\\coled\\.wdm\\drivers\\chromedriver\\win32\\89.0.4389.23\\chromedriver.exe] found in cache\n"
     ]
    },
    {
     "name": "stdout",
     "output_type": "stream",
     "text": [
      " \n"
     ]
    }
   ],
   "source": [
    "# Get Vaccinations Table from CDC website\n",
    "executable_path = {'executable_path': ChromeDriverManager().install()}\n",
    "browser = Browser('chrome', **executable_path, headless=False)\n",
    "browser.visit(\"https://covid.cdc.gov/covid-data-tracker/#vaccinations\")\n",
    "vaccine_html = browser.html\n",
    "browser.click_link_by_id(\"vaccinations-table-toggle\")\n",
    "cdc_html = browser.html\n",
    "cdc_parsed = bs(cdc_html, \"html.parser\")\n",
    "table = cdc_parsed.select(\"table\")\n",
    "browser.quit()"
   ]
  },
  {
   "cell_type": "code",
   "execution_count": 108,
   "metadata": {},
   "outputs": [],
   "source": [
    "# Read the CDC Vaccine HTML Table\n",
    "vaccines_df = pd.read_html(str(table))[0]"
   ]
  },
  {
   "cell_type": "code",
   "execution_count": 109,
   "metadata": {},
   "outputs": [],
   "source": [
    "# Change \"New York State\" to \"New York\" for data merging\n",
    "vaccines_df.loc[vaccines_df[\"State/Territory/Federal Entity\"] == \"New York State\", \"State/Territory/Federal Entity\"] = \"New York\""
   ]
  },
  {
   "cell_type": "code",
   "execution_count": 110,
   "metadata": {},
   "outputs": [],
   "source": [
    "# Rename \"State/Territory/Federal Entity\" column to \"state\" for data merging\n",
    "vaccines_df = vaccines_df.rename(columns={\"State/Territory/Federal Entity\": \"state\"})"
   ]
  },
  {
   "cell_type": "markdown",
   "metadata": {},
   "source": [
    "## Daily COVID-19 - NYT / Rearc"
   ]
  },
  {
   "cell_type": "code",
   "execution_count": 111,
   "metadata": {},
   "outputs": [],
   "source": [
    "# Read Daily COVID-19 CSV from AWS S3 Bucket - Rearc / NY Times Data \n",
    "us_covid_cases_data = requests.get(\"https://covid19-lake.s3.us-east-2.amazonaws.com/rearc-covid-19-nyt-data-in-usa/csv/us-states/us-states.csv\", stream=True)"
   ]
  },
  {
   "cell_type": "code",
   "execution_count": 112,
   "metadata": {},
   "outputs": [],
   "source": [
    "# Overwrite the US COVID Data CSV with the latest one \n",
    "with open(\"../data/us-covid-data.csv\",  \"wb\") as file:\n",
    "    file.write(us_covid_cases_data.content)"
   ]
  },
  {
   "cell_type": "code",
   "execution_count": 113,
   "metadata": {},
   "outputs": [],
   "source": [
    "# Read US COVID Data CSV for data merging and cleaning \n",
    "us_covid_cases_df = pd.read_csv(\"../data/us-covid-data.csv\")"
   ]
  },
  {
   "cell_type": "markdown",
   "metadata": {},
   "source": [
    "# State Overview Data"
   ]
  },
  {
   "cell_type": "code",
   "execution_count": 114,
   "metadata": {},
   "outputs": [],
   "source": [
    "# Get yesterday's date, which is the latest data \n",
    "today = dt.date.today()\n",
    "yesterday = today - dt.timedelta(days = 1)\n",
    "latest_data = yesterday.strftime(\"%Y-%m-%d\")"
   ]
  },
  {
   "cell_type": "code",
   "execution_count": 115,
   "metadata": {},
   "outputs": [],
   "source": [
    "# Get latest total cases by state for latest date\n",
    "us_total_cases_to_date_df = us_covid_cases_df.groupby([\"date\", \"state\"]).sum()\n",
    "us_total_cases_to_date_df.reset_index(inplace=True)\n",
    "us_total_cases_to_date_df = us_total_cases_to_date_df.loc[us_total_cases_to_date_df[\"date\"] == latest_data]"
   ]
  },
  {
   "cell_type": "code",
   "execution_count": 116,
   "metadata": {},
   "outputs": [],
   "source": [
    "# Read State Lat-Lon CSV and rename columns for easier cleaning and merging\n",
    "state_latlons_df = pd.read_csv(\"../data/statelatlong.csv\")\n",
    "state_latlons_df.rename(columns={\"State\": \"abbr\", \"Latitude\": \"lat\", \"Longitude\": \"lon\", \"City\": \"state\"}, inplace=True)"
   ]
  },
  {
   "cell_type": "code",
   "execution_count": 117,
   "metadata": {
    "scrolled": true
   },
   "outputs": [],
   "source": [
    "# Read State Population CSV for cleaning and merging\n",
    "state_pop_df = pd.read_csv(\"../data/state_populations_cleaned.csv\")"
   ]
  },
  {
   "cell_type": "code",
   "execution_count": 118,
   "metadata": {},
   "outputs": [],
   "source": [
    "# Merge, rename, and focus on defined columns\n",
    "state_overview_master_df = pd.merge(state_pop_df, state_latlons_df, how=\"inner\", on=\"state\")\n",
    "state_overview_master_df = state_overview_master_df[[\"state\", \"abbr\", \"lat\", \"lon\", \"population\"]]"
   ]
  },
  {
   "cell_type": "code",
   "execution_count": 119,
   "metadata": {},
   "outputs": [],
   "source": [
    "# Merge with us_total_cases_to_date_df and focus on defined columns\n",
    "state_overview_master_df = pd.merge(state_overview_master_df, us_total_cases_to_date_df, how=\"inner\", on=\"state\")\n",
    "state_overview_master_df = state_overview_master_df[[\"date\", \"state\", \"abbr\", \"lat\", \"lon\", \"population\", \"fips\", \"cases\", \"deaths\"]]"
   ]
  },
  {
   "cell_type": "code",
   "execution_count": 120,
   "metadata": {},
   "outputs": [],
   "source": [
    "# Merge with Vaccination data, rename columns, focus data columns\n",
    "state_overview_master_df = pd.merge(state_overview_master_df, vaccines_df, how=\"inner\", on=\"state\")\n",
    "state_overview_master_df = state_overview_master_df.rename(columns={\"Total Doses Administered by State where Administered\": \"total_doses_administered\", \"Doses Administered per 100k by State where Administered\": \"doses_administered_per_100k\"})\n",
    "state_overview_master_df = state_overview_master_df[[\"date\", \"state\", \"abbr\", \"lat\", \"lon\", \"population\", \"fips\", \"cases\", \"deaths\", \"total_doses_administered\", \"doses_administered_per_100k\"]]"
   ]
  },
  {
   "cell_type": "code",
   "execution_count": 121,
   "metadata": {},
   "outputs": [],
   "source": [
    "# Add Empty Column for New Calculation\n",
    "state_overview_master_df[\"percent_vaccinated\"] = \"\""
   ]
  },
  {
   "cell_type": "code",
   "execution_count": 122,
   "metadata": {},
   "outputs": [],
   "source": [
    "# Calcuation for percent vaccinated by state\n",
    "for index, row in state_overview_master_df.iterrows():\n",
    "    population = row[\"population\"]\n",
    "    vaccinated = row[\"total_doses_administered\"]\n",
    "    percent_vaccinated = round((vaccinated / population) * 100, 2)\n",
    "    \n",
    "    state_overview_master_df.at[index, \"percent_vaccinated\"] = percent_vaccinated"
   ]
  },
  {
   "cell_type": "code",
   "execution_count": 123,
   "metadata": {},
   "outputs": [],
   "source": [
    "# Convert percent vaccinated into a float\n",
    "state_overview_master_df = state_overview_master_df.astype({\"percent_vaccinated\": 'float64'})"
   ]
  },
  {
   "cell_type": "code",
   "execution_count": 124,
   "metadata": {
    "scrolled": true
   },
   "outputs": [],
   "source": [
    "state_overview_master_df.to_csv(\"../data/state-master-data.csv\")"
   ]
  },
  {
   "cell_type": "code",
   "execution_count": 125,
   "metadata": {},
   "outputs": [],
   "source": [
    "state_overview_master_df[\"date\"] = pd.to_datetime(state_overview_master_df[\"date\"])"
   ]
  },
  {
   "cell_type": "markdown",
   "metadata": {},
   "source": [
    "# County Overview Data"
   ]
  },
  {
   "cell_type": "code",
   "execution_count": 126,
   "metadata": {},
   "outputs": [],
   "source": [
    "populations_county = pd.read_csv(\"../data/census-bureau-population-by-county.csv\")\n",
    "poverty_county = pd.read_csv(\"../data/poverty-and-median-household-income-data-by-us-county-2019.csv\")\n",
    "state_keys = pd.read_csv(\"../data/state-names-codes.csv\")"
   ]
  },
  {
   "cell_type": "code",
   "execution_count": 127,
   "metadata": {},
   "outputs": [],
   "source": [
    "poverty_county = poverty_county[[\"Postal Code\", \"county\", \"Poverty Estimate, All Ages\", \"Median Household Income\"]]\n",
    "poverty_county = poverty_county.rename(columns={\"Postal Code\": \"code\", \"Poverty Estimate, All Ages\": \"poverty_est_all_ages\", \n",
    "                                              \"Median Household Income\": \"median_household_income\"})\n",
    "poverty_county[\"county\"] = poverty_county[\"county\"].str.rstrip()"
   ]
  },
  {
   "cell_type": "code",
   "execution_count": 128,
   "metadata": {},
   "outputs": [],
   "source": [
    "state_keys = state_keys.rename(columns={\"Code\": \"code\", \"State\": \"state\"})\n",
    "state_keys = state_keys[[\"state\", \"code\"]]"
   ]
  },
  {
   "cell_type": "code",
   "execution_count": 129,
   "metadata": {},
   "outputs": [],
   "source": [
    "poverty_county = pd.merge(poverty_county, state_keys, how=\"inner\", on=\"code\")\n",
    "poverty_county.drop(columns={\"state\"}, inplace=True)"
   ]
  },
  {
   "cell_type": "code",
   "execution_count": 130,
   "metadata": {},
   "outputs": [],
   "source": [
    "populations_county = populations_county.merge(state_keys, how=\"inner\", on=\"state\")\n",
    "populations_county = populations_county[[\"code\", \"county\", \"state\", \"population_est\"]]\n",
    "populations_county[\"code\"] = populations_county[\"code\"].str.rstrip()\n",
    "populations_county[\"county\"] = populations_county[\"county\"].str.rstrip()"
   ]
  },
  {
   "cell_type": "code",
   "execution_count": 131,
   "metadata": {},
   "outputs": [],
   "source": [
    "merged_data = populations_county.merge(poverty_county, how='inner', left_on=[\"code\", \"county\"], right_on=[\"code\", \"county\"])"
   ]
  },
  {
   "cell_type": "code",
   "execution_count": 132,
   "metadata": {},
   "outputs": [],
   "source": [
    "merged_data.dropna(how=\"any\", inplace=True)"
   ]
  },
  {
   "cell_type": "code",
   "execution_count": 133,
   "metadata": {},
   "outputs": [
    {
     "data": {
      "text/html": [
       "<div>\n",
       "<style scoped>\n",
       "    .dataframe tbody tr th:only-of-type {\n",
       "        vertical-align: middle;\n",
       "    }\n",
       "\n",
       "    .dataframe tbody tr th {\n",
       "        vertical-align: top;\n",
       "    }\n",
       "\n",
       "    .dataframe thead th {\n",
       "        text-align: right;\n",
       "    }\n",
       "</style>\n",
       "<table border=\"1\" class=\"dataframe\">\n",
       "  <thead>\n",
       "    <tr style=\"text-align: right;\">\n",
       "      <th></th>\n",
       "      <th>code</th>\n",
       "      <th>county</th>\n",
       "      <th>state</th>\n",
       "      <th>population_est</th>\n",
       "      <th>poverty_est_all_ages</th>\n",
       "      <th>median_household_income</th>\n",
       "    </tr>\n",
       "  </thead>\n",
       "  <tbody>\n",
       "    <tr>\n",
       "      <th>0</th>\n",
       "      <td>AL</td>\n",
       "      <td>Alabama</td>\n",
       "      <td>Alabama</td>\n",
       "      <td>4903185</td>\n",
       "      <td>747478</td>\n",
       "      <td>51771</td>\n",
       "    </tr>\n",
       "    <tr>\n",
       "      <th>1</th>\n",
       "      <td>AL</td>\n",
       "      <td>Autauga</td>\n",
       "      <td>Alabama</td>\n",
       "      <td>55869</td>\n",
       "      <td>6723</td>\n",
       "      <td>58233</td>\n",
       "    </tr>\n",
       "    <tr>\n",
       "      <th>2</th>\n",
       "      <td>AL</td>\n",
       "      <td>Baldwin</td>\n",
       "      <td>Alabama</td>\n",
       "      <td>223234</td>\n",
       "      <td>22360</td>\n",
       "      <td>59871</td>\n",
       "    </tr>\n",
       "    <tr>\n",
       "      <th>3</th>\n",
       "      <td>AL</td>\n",
       "      <td>Barbour</td>\n",
       "      <td>Alabama</td>\n",
       "      <td>24686</td>\n",
       "      <td>5909</td>\n",
       "      <td>35972</td>\n",
       "    </tr>\n",
       "    <tr>\n",
       "      <th>4</th>\n",
       "      <td>AL</td>\n",
       "      <td>Bibb</td>\n",
       "      <td>Alabama</td>\n",
       "      <td>22394</td>\n",
       "      <td>4101</td>\n",
       "      <td>47918</td>\n",
       "    </tr>\n",
       "    <tr>\n",
       "      <th>...</th>\n",
       "      <td>...</td>\n",
       "      <td>...</td>\n",
       "      <td>...</td>\n",
       "      <td>...</td>\n",
       "      <td>...</td>\n",
       "      <td>...</td>\n",
       "    </tr>\n",
       "    <tr>\n",
       "      <th>3192</th>\n",
       "      <td>WY</td>\n",
       "      <td>Sweetwater</td>\n",
       "      <td>Wyoming</td>\n",
       "      <td>42343</td>\n",
       "      <td>3453</td>\n",
       "      <td>80639</td>\n",
       "    </tr>\n",
       "    <tr>\n",
       "      <th>3193</th>\n",
       "      <td>WY</td>\n",
       "      <td>Teton</td>\n",
       "      <td>Wyoming</td>\n",
       "      <td>23464</td>\n",
       "      <td>1396</td>\n",
       "      <td>98837</td>\n",
       "    </tr>\n",
       "    <tr>\n",
       "      <th>3194</th>\n",
       "      <td>WY</td>\n",
       "      <td>Uinta</td>\n",
       "      <td>Wyoming</td>\n",
       "      <td>20226</td>\n",
       "      <td>1699</td>\n",
       "      <td>70756</td>\n",
       "    </tr>\n",
       "    <tr>\n",
       "      <th>3195</th>\n",
       "      <td>WY</td>\n",
       "      <td>Washakie</td>\n",
       "      <td>Wyoming</td>\n",
       "      <td>7805</td>\n",
       "      <td>845</td>\n",
       "      <td>55122</td>\n",
       "    </tr>\n",
       "    <tr>\n",
       "      <th>3196</th>\n",
       "      <td>WY</td>\n",
       "      <td>Weston</td>\n",
       "      <td>Wyoming</td>\n",
       "      <td>6927</td>\n",
       "      <td>692</td>\n",
       "      <td>59410</td>\n",
       "    </tr>\n",
       "  </tbody>\n",
       "</table>\n",
       "<p>3197 rows × 6 columns</p>\n",
       "</div>"
      ],
      "text/plain": [
       "     code      county    state  population_est poverty_est_all_ages  \\\n",
       "0      AL     Alabama  Alabama         4903185               747478   \n",
       "1      AL     Autauga  Alabama           55869                 6723   \n",
       "2      AL     Baldwin  Alabama          223234                22360   \n",
       "3      AL     Barbour  Alabama           24686                 5909   \n",
       "4      AL        Bibb  Alabama           22394                 4101   \n",
       "...   ...         ...      ...             ...                  ...   \n",
       "3192   WY  Sweetwater  Wyoming           42343                 3453   \n",
       "3193   WY       Teton  Wyoming           23464                 1396   \n",
       "3194   WY       Uinta  Wyoming           20226                 1699   \n",
       "3195   WY    Washakie  Wyoming            7805                  845   \n",
       "3196   WY      Weston  Wyoming            6927                  692   \n",
       "\n",
       "     median_household_income  \n",
       "0                      51771  \n",
       "1                      58233  \n",
       "2                      59871  \n",
       "3                      35972  \n",
       "4                      47918  \n",
       "...                      ...  \n",
       "3192                   80639  \n",
       "3193                   98837  \n",
       "3194                   70756  \n",
       "3195                   55122  \n",
       "3196                   59410  \n",
       "\n",
       "[3197 rows x 6 columns]"
      ]
     },
     "execution_count": 133,
     "metadata": {},
     "output_type": "execute_result"
    }
   ],
   "source": [
    "merged_data"
   ]
  },
  {
   "cell_type": "markdown",
   "metadata": {},
   "source": [
    "### Retrieve County Cases Data"
   ]
  },
  {
   "cell_type": "code",
   "execution_count": 134,
   "metadata": {},
   "outputs": [],
   "source": [
    "county_cases = requests.get(\"https://covid19-lake.s3.us-east-2.amazonaws.com/rearc-covid-19-nyt-data-in-usa/csv/us-counties/us-counties.csv\", stream=True)"
   ]
  },
  {
   "cell_type": "code",
   "execution_count": 135,
   "metadata": {},
   "outputs": [],
   "source": [
    "# Overwrite the US COVID Data CSV with the latest one \n",
    "with open(\"../data/county-covid-data.csv\",  \"wb\") as file:\n",
    "    file.write(county_cases.content)"
   ]
  },
  {
   "cell_type": "code",
   "execution_count": 136,
   "metadata": {},
   "outputs": [],
   "source": [
    "# Read US COVID Data CSV for data merging and cleaning \n",
    "us_county_cases = pd.read_csv(\"../data/county-covid-data.csv\")"
   ]
  },
  {
   "cell_type": "code",
   "execution_count": 137,
   "metadata": {},
   "outputs": [],
   "source": [
    "us_county_cases = us_county_cases.groupby([\"date\", \"state\", \"county\"]).sum()\n",
    "us_county_cases.reset_index(inplace=True)"
   ]
  },
  {
   "cell_type": "code",
   "execution_count": 138,
   "metadata": {},
   "outputs": [],
   "source": [
    "us_county_cases = us_county_cases.merge(merged_data, how=\"left\")"
   ]
  },
  {
   "cell_type": "code",
   "execution_count": 139,
   "metadata": {},
   "outputs": [],
   "source": [
    "us_county_cases.to_csv(\"../data/county-cases-daily-master.csv\")"
   ]
  },
  {
   "cell_type": "code",
   "execution_count": 140,
   "metadata": {},
   "outputs": [],
   "source": [
    "us_county_cases[\"date\"] = pd.to_datetime(us_county_cases[\"date\"])"
   ]
  },
  {
   "cell_type": "code",
   "execution_count": 141,
   "metadata": {},
   "outputs": [],
   "source": [
    "latest_covid_cases = us_county_cases.loc[us_county_cases[\"date\"] == latest_data]"
   ]
  },
  {
   "cell_type": "code",
   "execution_count": 142,
   "metadata": {},
   "outputs": [
    {
     "name": "stderr",
     "output_type": "stream",
     "text": [
      "C:\\Users\\coled\\anaconda3\\envs\\PythonData\\lib\\site-packages\\ipykernel_launcher.py:1: SettingWithCopyWarning: \n",
      "A value is trying to be set on a copy of a slice from a DataFrame\n",
      "\n",
      "See the caveats in the documentation: https://pandas.pydata.org/pandas-docs/stable/user_guide/indexing.html#returning-a-view-versus-a-copy\n",
      "  \"\"\"Entry point for launching an IPython kernel.\n"
     ]
    }
   ],
   "source": [
    "latest_covid_cases.dropna(how=\"any\", inplace=True)"
   ]
  },
  {
   "cell_type": "code",
   "execution_count": 143,
   "metadata": {},
   "outputs": [],
   "source": [
    "for index, row in latest_covid_cases.iterrows():\n",
    "    latest_covid_cases.at[index, \"poverty_est_all_ages\"] = row[\"poverty_est_all_ages\"].replace('.', \"0\")\n",
    "    latest_covid_cases.at[index, \"median_household_income\"] = row[\"median_household_income\"].replace('.', \"0\")"
   ]
  },
  {
   "cell_type": "code",
   "execution_count": 144,
   "metadata": {},
   "outputs": [
    {
     "name": "stderr",
     "output_type": "stream",
     "text": [
      "C:\\Users\\coled\\anaconda3\\envs\\PythonData\\lib\\site-packages\\pandas\\core\\frame.py:4327: SettingWithCopyWarning: \n",
      "A value is trying to be set on a copy of a slice from a DataFrame\n",
      "\n",
      "See the caveats in the documentation: https://pandas.pydata.org/pandas-docs/stable/user_guide/indexing.html#returning-a-view-versus-a-copy\n",
      "  downcast=downcast,\n"
     ]
    }
   ],
   "source": [
    "latest_covid_cases.fillna(0, inplace=True)"
   ]
  },
  {
   "cell_type": "code",
   "execution_count": 145,
   "metadata": {},
   "outputs": [
    {
     "name": "stderr",
     "output_type": "stream",
     "text": [
      "C:\\Users\\coled\\anaconda3\\envs\\PythonData\\lib\\site-packages\\ipykernel_launcher.py:1: SettingWithCopyWarning: \n",
      "A value is trying to be set on a copy of a slice from a DataFrame.\n",
      "Try using .loc[row_indexer,col_indexer] = value instead\n",
      "\n",
      "See the caveats in the documentation: https://pandas.pydata.org/pandas-docs/stable/user_guide/indexing.html#returning-a-view-versus-a-copy\n",
      "  \"\"\"Entry point for launching an IPython kernel.\n",
      "C:\\Users\\coled\\anaconda3\\envs\\PythonData\\lib\\site-packages\\ipykernel_launcher.py:2: SettingWithCopyWarning: \n",
      "A value is trying to be set on a copy of a slice from a DataFrame.\n",
      "Try using .loc[row_indexer,col_indexer] = value instead\n",
      "\n",
      "See the caveats in the documentation: https://pandas.pydata.org/pandas-docs/stable/user_guide/indexing.html#returning-a-view-versus-a-copy\n",
      "  \n"
     ]
    }
   ],
   "source": [
    "latest_covid_cases[\"poverty_est_all_ages\"] = latest_covid_cases[\"poverty_est_all_ages\"].astype('int64')\n",
    "latest_covid_cases[\"median_household_income\"] = latest_covid_cases[\"median_household_income\"].astype('int64')"
   ]
  },
  {
   "cell_type": "code",
   "execution_count": 146,
   "metadata": {},
   "outputs": [],
   "source": [
    "education_data = pd.read_csv(\"../data/county-level-education-stats-2015-2019.csv\")"
   ]
  },
  {
   "cell_type": "code",
   "execution_count": 147,
   "metadata": {},
   "outputs": [],
   "source": [
    "education_data.rename(columns={\"state\": \"code\"}, inplace=True)"
   ]
  },
  {
   "cell_type": "code",
   "execution_count": 148,
   "metadata": {},
   "outputs": [],
   "source": [
    "education_data[\"county\"] = education_data[\"county\"].str.rstrip()"
   ]
  },
  {
   "cell_type": "code",
   "execution_count": 149,
   "metadata": {},
   "outputs": [],
   "source": [
    "latest_covid_cases = latest_covid_cases.merge(education_data, how='outer', left_on=[\"code\", \"county\"], right_on=[\"code\", \"county\"])"
   ]
  },
  {
   "cell_type": "code",
   "execution_count": 150,
   "metadata": {},
   "outputs": [],
   "source": [
    "latest_covid_cases.dropna(inplace=True)"
   ]
  },
  {
   "cell_type": "code",
   "execution_count": 151,
   "metadata": {},
   "outputs": [],
   "source": [
    "latest_covid_cases.to_csv(\"../data/county-cases-latest-master.csv\")"
   ]
  },
  {
   "cell_type": "markdown",
   "metadata": {},
   "source": [
    "## Daily Cases"
   ]
  },
  {
   "cell_type": "code",
   "execution_count": 152,
   "metadata": {},
   "outputs": [],
   "source": [
    "# Convert Dates to pd.Datetimes\n",
    "us_covid_cases_df[\"date\"] = pd.to_datetime(us_covid_cases_df[\"date\"])"
   ]
  },
  {
   "cell_type": "code",
   "execution_count": 153,
   "metadata": {},
   "outputs": [
    {
     "data": {
      "text/html": [
       "<div>\n",
       "<style scoped>\n",
       "    .dataframe tbody tr th:only-of-type {\n",
       "        vertical-align: middle;\n",
       "    }\n",
       "\n",
       "    .dataframe tbody tr th {\n",
       "        vertical-align: top;\n",
       "    }\n",
       "\n",
       "    .dataframe thead th {\n",
       "        text-align: right;\n",
       "    }\n",
       "</style>\n",
       "<table border=\"1\" class=\"dataframe\">\n",
       "  <thead>\n",
       "    <tr style=\"text-align: right;\">\n",
       "      <th></th>\n",
       "      <th>date</th>\n",
       "      <th>state</th>\n",
       "      <th>fips</th>\n",
       "      <th>cases</th>\n",
       "      <th>deaths</th>\n",
       "    </tr>\n",
       "  </thead>\n",
       "  <tbody>\n",
       "    <tr>\n",
       "      <th>0</th>\n",
       "      <td>2020-01-21</td>\n",
       "      <td>Washington</td>\n",
       "      <td>53</td>\n",
       "      <td>1</td>\n",
       "      <td>0</td>\n",
       "    </tr>\n",
       "    <tr>\n",
       "      <th>1</th>\n",
       "      <td>2020-01-22</td>\n",
       "      <td>Washington</td>\n",
       "      <td>53</td>\n",
       "      <td>1</td>\n",
       "      <td>0</td>\n",
       "    </tr>\n",
       "    <tr>\n",
       "      <th>2</th>\n",
       "      <td>2020-01-23</td>\n",
       "      <td>Washington</td>\n",
       "      <td>53</td>\n",
       "      <td>1</td>\n",
       "      <td>0</td>\n",
       "    </tr>\n",
       "    <tr>\n",
       "      <th>3</th>\n",
       "      <td>2020-01-24</td>\n",
       "      <td>Illinois</td>\n",
       "      <td>17</td>\n",
       "      <td>1</td>\n",
       "      <td>0</td>\n",
       "    </tr>\n",
       "    <tr>\n",
       "      <th>4</th>\n",
       "      <td>2020-01-24</td>\n",
       "      <td>Washington</td>\n",
       "      <td>53</td>\n",
       "      <td>1</td>\n",
       "      <td>0</td>\n",
       "    </tr>\n",
       "    <tr>\n",
       "      <th>...</th>\n",
       "      <td>...</td>\n",
       "      <td>...</td>\n",
       "      <td>...</td>\n",
       "      <td>...</td>\n",
       "      <td>...</td>\n",
       "    </tr>\n",
       "    <tr>\n",
       "      <th>20524</th>\n",
       "      <td>2021-03-10</td>\n",
       "      <td>Virginia</td>\n",
       "      <td>51</td>\n",
       "      <td>589375</td>\n",
       "      <td>9849</td>\n",
       "    </tr>\n",
       "    <tr>\n",
       "      <th>20525</th>\n",
       "      <td>2021-03-10</td>\n",
       "      <td>Washington</td>\n",
       "      <td>53</td>\n",
       "      <td>349881</td>\n",
       "      <td>5159</td>\n",
       "    </tr>\n",
       "    <tr>\n",
       "      <th>20526</th>\n",
       "      <td>2021-03-10</td>\n",
       "      <td>West Virginia</td>\n",
       "      <td>54</td>\n",
       "      <td>134158</td>\n",
       "      <td>2330</td>\n",
       "    </tr>\n",
       "    <tr>\n",
       "      <th>20527</th>\n",
       "      <td>2021-03-10</td>\n",
       "      <td>Wisconsin</td>\n",
       "      <td>55</td>\n",
       "      <td>623150</td>\n",
       "      <td>7151</td>\n",
       "    </tr>\n",
       "    <tr>\n",
       "      <th>20528</th>\n",
       "      <td>2021-03-10</td>\n",
       "      <td>Wyoming</td>\n",
       "      <td>56</td>\n",
       "      <td>55014</td>\n",
       "      <td>691</td>\n",
       "    </tr>\n",
       "  </tbody>\n",
       "</table>\n",
       "<p>20529 rows × 5 columns</p>\n",
       "</div>"
      ],
      "text/plain": [
       "            date          state  fips   cases  deaths\n",
       "0     2020-01-21     Washington    53       1       0\n",
       "1     2020-01-22     Washington    53       1       0\n",
       "2     2020-01-23     Washington    53       1       0\n",
       "3     2020-01-24       Illinois    17       1       0\n",
       "4     2020-01-24     Washington    53       1       0\n",
       "...          ...            ...   ...     ...     ...\n",
       "20524 2021-03-10       Virginia    51  589375    9849\n",
       "20525 2021-03-10     Washington    53  349881    5159\n",
       "20526 2021-03-10  West Virginia    54  134158    2330\n",
       "20527 2021-03-10      Wisconsin    55  623150    7151\n",
       "20528 2021-03-10        Wyoming    56   55014     691\n",
       "\n",
       "[20529 rows x 5 columns]"
      ]
     },
     "execution_count": 153,
     "metadata": {},
     "output_type": "execute_result"
    }
   ],
   "source": [
    "us_covid_cases_df"
   ]
  },
  {
   "cell_type": "code",
   "execution_count": 154,
   "metadata": {},
   "outputs": [],
   "source": [
    "# Create Daily New Cases Dataframe\n",
    "daily_new_cases_df = us_covid_cases_df.groupby(\"date\").sum()"
   ]
  },
  {
   "cell_type": "code",
   "execution_count": 155,
   "metadata": {},
   "outputs": [],
   "source": [
    "daily_new_cases_df.reset_index(inplace=True)"
   ]
  },
  {
   "cell_type": "code",
   "execution_count": 156,
   "metadata": {},
   "outputs": [],
   "source": [
    "# Add new Empty Columns for Daily New Cases and Deaths\n",
    "daily_new_cases_df[\"daily_new_cases\"] = \"\"\n",
    "daily_new_cases_df[\"daily_new_deaths\"] = \"\""
   ]
  },
  {
   "cell_type": "code",
   "execution_count": 157,
   "metadata": {},
   "outputs": [],
   "source": [
    "previous_day_cases = 0\n",
    "previous_day_deaths = 0\n",
    "    \n",
    "for index, row in daily_new_cases_df.iterrows():\n",
    "    \n",
    "    # Cases\n",
    "    new_cases = row[\"cases\"] - previous_day_cases\n",
    "    previous_day_cases = row[\"cases\"]\n",
    "    daily_new_cases_df.at[index, \"daily_new_cases\"] = new_cases\n",
    "    \n",
    "    # Deaths\n",
    "    new_deaths = row[\"deaths\"] - previous_day_deaths\n",
    "    previous_day_deaths = row[\"deaths\"]\n",
    "    daily_new_cases_df.at[index, \"daily_new_deaths\"] = new_deaths"
   ]
  },
  {
   "cell_type": "code",
   "execution_count": 158,
   "metadata": {},
   "outputs": [],
   "source": [
    "daily_new_cases_df[\"3_month_immunity_est\"] = daily_new_cases_df.rolling(100)[\"daily_new_cases\"].sum()"
   ]
  },
  {
   "cell_type": "code",
   "execution_count": 159,
   "metadata": {},
   "outputs": [],
   "source": [
    "daily_new_cases_df[\"6_month_immunity_est\"] = daily_new_cases_df.rolling(190)[\"daily_new_cases\"].sum()"
   ]
  },
  {
   "cell_type": "code",
   "execution_count": 160,
   "metadata": {},
   "outputs": [],
   "source": [
    "daily_new_cases_df = daily_new_cases_df.fillna(0)"
   ]
  },
  {
   "cell_type": "code",
   "execution_count": 161,
   "metadata": {},
   "outputs": [],
   "source": [
    "daily_new_cases_df[\"date\"] = daily_new_cases_df[\"date\"].dt.strftime(\"%Y-%d-%m\")"
   ]
  },
  {
   "cell_type": "code",
   "execution_count": 162,
   "metadata": {},
   "outputs": [],
   "source": [
    "# daily_new_cases_df[\"date\"]= pd.to_datetime(daily_new_cases_df[\"date\"])\n",
    "for index, row in daily_new_cases_df.iterrows():\n",
    "    date = dt.datetime.strptime(row[\"date\"], \"%Y-%d-%m\")\n",
    "    date2 = dt.datetime.strftime(date, \"%Y-%m-%d\")\n",
    "    daily_new_cases_df.at[index, \"date\"] = date2\n",
    "#     print(date2)"
   ]
  },
  {
   "cell_type": "code",
   "execution_count": 163,
   "metadata": {},
   "outputs": [],
   "source": [
    "daily_new_cases_df[\"date\"] = pd.to_datetime(daily_new_cases_df[\"date\"])"
   ]
  },
  {
   "cell_type": "code",
   "execution_count": 164,
   "metadata": {},
   "outputs": [],
   "source": [
    "daily_new_cases_df.to_csv(\"../data/state-daily-stats.csv\")"
   ]
  },
  {
   "cell_type": "markdown",
   "metadata": {},
   "source": [
    "## Amazon RDS Updates"
   ]
  },
  {
   "cell_type": "code",
   "execution_count": 165,
   "metadata": {},
   "outputs": [],
   "source": [
    "# Config Variables, and SQLalchemy\n",
    "from config import endpoint, username, password\n",
    "from sqlalchemy import create_engine"
   ]
  },
  {
   "cell_type": "code",
   "execution_count": 166,
   "metadata": {},
   "outputs": [],
   "source": [
    "# Connect to AWS Database instance \n",
    "engine = create_engine(f'postgresql://uscovid:{password}@{endpoint}/us_covid_db')\n",
    "connection = engine.connect()"
   ]
  },
  {
   "cell_type": "code",
   "execution_count": 167,
   "metadata": {},
   "outputs": [
    {
     "data": {
      "text/plain": [
       "<sqlalchemy.engine.result.ResultProxy at 0x2469a8788c8>"
      ]
     },
     "execution_count": 167,
     "metadata": {},
     "output_type": "execute_result"
    }
   ],
   "source": [
    "# 50 States & D.C. Data\n",
    "state_overview_master_df.to_sql('master_table', index=False, if_exists='replace', con=connection)\n",
    "engine.execute('ALTER TABLE master_table ADD PRIMARY KEY (state);')"
   ]
  },
  {
   "cell_type": "code",
   "execution_count": 168,
   "metadata": {},
   "outputs": [
    {
     "data": {
      "text/plain": [
       "<sqlalchemy.engine.result.ResultProxy at 0x2469a87d248>"
      ]
     },
     "execution_count": 168,
     "metadata": {},
     "output_type": "execute_result"
    }
   ],
   "source": [
    "# Daily Cases Data\n",
    "daily_new_cases_df.to_sql(\"daily_new_cases\", index=False, if_exists='replace', con=connection)\n",
    "engine.execute('ALTER TABLE daily_new_cases ADD PRIMARY KEY (date);')"
   ]
  },
  {
   "cell_type": "code",
   "execution_count": 169,
   "metadata": {},
   "outputs": [
    {
     "data": {
      "text/plain": [
       "<sqlalchemy.engine.result.ResultProxy at 0x2469a9317c8>"
      ]
     },
     "execution_count": 169,
     "metadata": {},
     "output_type": "execute_result"
    }
   ],
   "source": [
    "# County Data\n",
    "latest_covid_cases.to_sql(\"county_cases_latest\", index=True, if_exists='replace', con=connection)\n",
    "engine.execute('ALTER TABLE county_cases_latest ADD PRIMARY KEY (index);')"
   ]
  },
  {
   "cell_type": "code",
   "execution_count": 170,
   "metadata": {},
   "outputs": [
    {
     "data": {
      "text/plain": [
       "<sqlalchemy.engine.result.ResultProxy at 0x2469a910388>"
      ]
     },
     "execution_count": 170,
     "metadata": {},
     "output_type": "execute_result"
    }
   ],
   "source": [
    "# Raw NTY Data\n",
    "us_covid_cases_df.to_sql('nyt_table', index=True, if_exists='replace', con=connection)\n",
    "engine.execute('ALTER TABLE nyt_table ADD PRIMARY KEY (index);')"
   ]
  },
  {
   "cell_type": "code",
   "execution_count": null,
   "metadata": {},
   "outputs": [],
   "source": []
  }
 ],
 "metadata": {
  "kernelspec": {
   "display_name": "Python 3",
   "language": "python",
   "name": "python3"
  },
  "language_info": {
   "codemirror_mode": {
    "name": "ipython",
    "version": 3
   },
   "file_extension": ".py",
   "mimetype": "text/x-python",
   "name": "python",
   "nbconvert_exporter": "python",
   "pygments_lexer": "ipython3",
   "version": "3.7.8"
  }
 },
 "nbformat": 4,
 "nbformat_minor": 4
}
