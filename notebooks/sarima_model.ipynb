{
 "cells": [
  {
   "cell_type": "code",
   "execution_count": 1,
   "metadata": {},
   "outputs": [],
   "source": [
    "# Articles\n",
    "# https://towardsdatascience.com/machine-learning-part-19-time-series-and-autoregressive-integrated-moving-average-model-arima-c1005347b0d7\n",
    "# https://machinelearningmastery.com/arima-for-time-series-forecasting-with-python/\n",
    "# https://towardsdatascience.com/time-series-forecasting-with-a-sarima-model-db051b7ae459\n",
    "# https://www.machinelearningplus.com/time-series/time-series-analysis-python/"
   ]
  },
  {
   "cell_type": "code",
   "execution_count": 2,
   "metadata": {},
   "outputs": [],
   "source": [
    "import numpy as np\n",
    "import pandas as pd\n",
    "import matplotlib.pyplot as plt\n",
    "import statsmodels.tsa\n",
    "from statsmodels.tsa.stattools import adfuller\n",
    "from statsmodels.tsa.arima_model import ARIMA\n",
    "import statsmodels.api as sm\n",
    "import datetime as dt\n",
    "from pandas.plotting import autocorrelation_plot\n",
    "from statsmodels.graphics.tsaplots import plot_acf, plot_pacf"
   ]
  },
  {
   "cell_type": "code",
   "execution_count": 3,
   "metadata": {},
   "outputs": [],
   "source": [
    "data = pd.read_csv(\"../data/state-daily-stats.csv\")\n",
    "data.drop(columns={\"Unnamed: 0\"}, inplace=True)"
   ]
  },
  {
   "cell_type": "code",
   "execution_count": 4,
   "metadata": {},
   "outputs": [],
   "source": [
    "for index, row in data.iterrows():\n",
    "    date = dt.datetime.strptime(row[\"date\"], \"%Y-%d-%m\")\n",
    "    date2 = dt.datetime.strftime(date, \"%m-%d-%Y\")\n",
    "    data.at[index, \"date\"] = date2"
   ]
  },
  {
   "cell_type": "code",
   "execution_count": 5,
   "metadata": {},
   "outputs": [],
   "source": [
    "data[\"date\"] = pd.to_datetime(data[\"date\"])\n",
    "daily_new_cases = pd.DataFrame(data[[\"date\",\"daily_new_cases\"]])"
   ]
  },
  {
   "cell_type": "code",
   "execution_count": 6,
   "metadata": {},
   "outputs": [
    {
     "data": {
      "text/html": [
       "<div>\n",
       "<style scoped>\n",
       "    .dataframe tbody tr th:only-of-type {\n",
       "        vertical-align: middle;\n",
       "    }\n",
       "\n",
       "    .dataframe tbody tr th {\n",
       "        vertical-align: top;\n",
       "    }\n",
       "\n",
       "    .dataframe thead th {\n",
       "        text-align: right;\n",
       "    }\n",
       "</style>\n",
       "<table border=\"1\" class=\"dataframe\">\n",
       "  <thead>\n",
       "    <tr style=\"text-align: right;\">\n",
       "      <th></th>\n",
       "      <th>date</th>\n",
       "      <th>daily_new_cases</th>\n",
       "    </tr>\n",
       "  </thead>\n",
       "  <tbody>\n",
       "    <tr>\n",
       "      <th>0</th>\n",
       "      <td>2020-01-21</td>\n",
       "      <td>1</td>\n",
       "    </tr>\n",
       "    <tr>\n",
       "      <th>1</th>\n",
       "      <td>2020-01-22</td>\n",
       "      <td>0</td>\n",
       "    </tr>\n",
       "    <tr>\n",
       "      <th>2</th>\n",
       "      <td>2020-01-23</td>\n",
       "      <td>0</td>\n",
       "    </tr>\n",
       "    <tr>\n",
       "      <th>3</th>\n",
       "      <td>2020-01-24</td>\n",
       "      <td>1</td>\n",
       "    </tr>\n",
       "    <tr>\n",
       "      <th>4</th>\n",
       "      <td>2020-01-25</td>\n",
       "      <td>1</td>\n",
       "    </tr>\n",
       "    <tr>\n",
       "      <th>...</th>\n",
       "      <td>...</td>\n",
       "      <td>...</td>\n",
       "    </tr>\n",
       "    <tr>\n",
       "      <th>407</th>\n",
       "      <td>2021-03-03</td>\n",
       "      <td>66714</td>\n",
       "    </tr>\n",
       "    <tr>\n",
       "      <th>408</th>\n",
       "      <td>2021-03-04</td>\n",
       "      <td>67415</td>\n",
       "    </tr>\n",
       "    <tr>\n",
       "      <th>409</th>\n",
       "      <td>2021-03-05</td>\n",
       "      <td>65682</td>\n",
       "    </tr>\n",
       "    <tr>\n",
       "      <th>410</th>\n",
       "      <td>2021-03-06</td>\n",
       "      <td>56606</td>\n",
       "    </tr>\n",
       "    <tr>\n",
       "      <th>411</th>\n",
       "      <td>2021-03-07</td>\n",
       "      <td>40336</td>\n",
       "    </tr>\n",
       "  </tbody>\n",
       "</table>\n",
       "<p>412 rows × 2 columns</p>\n",
       "</div>"
      ],
      "text/plain": [
       "          date  daily_new_cases\n",
       "0   2020-01-21                1\n",
       "1   2020-01-22                0\n",
       "2   2020-01-23                0\n",
       "3   2020-01-24                1\n",
       "4   2020-01-25                1\n",
       "..         ...              ...\n",
       "407 2021-03-03            66714\n",
       "408 2021-03-04            67415\n",
       "409 2021-03-05            65682\n",
       "410 2021-03-06            56606\n",
       "411 2021-03-07            40336\n",
       "\n",
       "[412 rows x 2 columns]"
      ]
     },
     "execution_count": 6,
     "metadata": {},
     "output_type": "execute_result"
    }
   ],
   "source": [
    "daily_new_cases"
   ]
  },
  {
   "cell_type": "markdown",
   "metadata": {},
   "source": [
    "### Update dates to proper datetime for modeling"
   ]
  },
  {
   "cell_type": "code",
   "execution_count": 7,
   "metadata": {},
   "outputs": [
    {
     "name": "stderr",
     "output_type": "stream",
     "text": [
      "C:\\Users\\coled\\anaconda3\\envs\\PythonData\\lib\\site-packages\\pandas\\core\\indexing.py:1763: SettingWithCopyWarning: \n",
      "A value is trying to be set on a copy of a slice from a DataFrame.\n",
      "Try using .loc[row_indexer,col_indexer] = value instead\n",
      "\n",
      "See the caveats in the documentation: https://pandas.pydata.org/pandas-docs/stable/user_guide/indexing.html#returning-a-view-versus-a-copy\n",
      "  isetter(loc, value)\n"
     ]
    }
   ],
   "source": [
    "daily_new_cases = daily_new_cases[daily_new_cases[\"date\"] >= dt.datetime(2020,3,1)]\n",
    "for index, row in daily_new_cases.iterrows():\n",
    "    date = row[\"date\"]\n",
    "    new_date = dt.datetime.strftime(date, \"%m-%d-%Y\")\n",
    "    daily_new_cases.at[index, \"date\"] = new_date"
   ]
  },
  {
   "cell_type": "code",
   "execution_count": 8,
   "metadata": {},
   "outputs": [
    {
     "data": {
      "text/html": [
       "<div>\n",
       "<style scoped>\n",
       "    .dataframe tbody tr th:only-of-type {\n",
       "        vertical-align: middle;\n",
       "    }\n",
       "\n",
       "    .dataframe tbody tr th {\n",
       "        vertical-align: top;\n",
       "    }\n",
       "\n",
       "    .dataframe thead th {\n",
       "        text-align: right;\n",
       "    }\n",
       "</style>\n",
       "<table border=\"1\" class=\"dataframe\">\n",
       "  <thead>\n",
       "    <tr style=\"text-align: right;\">\n",
       "      <th></th>\n",
       "      <th>date</th>\n",
       "      <th>daily_new_cases</th>\n",
       "    </tr>\n",
       "  </thead>\n",
       "  <tbody>\n",
       "    <tr>\n",
       "      <th>40</th>\n",
       "      <td>03-01-2020</td>\n",
       "      <td>18</td>\n",
       "    </tr>\n",
       "    <tr>\n",
       "      <th>41</th>\n",
       "      <td>03-02-2020</td>\n",
       "      <td>16</td>\n",
       "    </tr>\n",
       "    <tr>\n",
       "      <th>42</th>\n",
       "      <td>03-03-2020</td>\n",
       "      <td>21</td>\n",
       "    </tr>\n",
       "    <tr>\n",
       "      <th>43</th>\n",
       "      <td>03-04-2020</td>\n",
       "      <td>36</td>\n",
       "    </tr>\n",
       "    <tr>\n",
       "      <th>44</th>\n",
       "      <td>03-05-2020</td>\n",
       "      <td>67</td>\n",
       "    </tr>\n",
       "    <tr>\n",
       "      <th>...</th>\n",
       "      <td>...</td>\n",
       "      <td>...</td>\n",
       "    </tr>\n",
       "    <tr>\n",
       "      <th>407</th>\n",
       "      <td>03-03-2021</td>\n",
       "      <td>66714</td>\n",
       "    </tr>\n",
       "    <tr>\n",
       "      <th>408</th>\n",
       "      <td>03-04-2021</td>\n",
       "      <td>67415</td>\n",
       "    </tr>\n",
       "    <tr>\n",
       "      <th>409</th>\n",
       "      <td>03-05-2021</td>\n",
       "      <td>65682</td>\n",
       "    </tr>\n",
       "    <tr>\n",
       "      <th>410</th>\n",
       "      <td>03-06-2021</td>\n",
       "      <td>56606</td>\n",
       "    </tr>\n",
       "    <tr>\n",
       "      <th>411</th>\n",
       "      <td>03-07-2021</td>\n",
       "      <td>40336</td>\n",
       "    </tr>\n",
       "  </tbody>\n",
       "</table>\n",
       "<p>372 rows × 2 columns</p>\n",
       "</div>"
      ],
      "text/plain": [
       "           date  daily_new_cases\n",
       "40   03-01-2020               18\n",
       "41   03-02-2020               16\n",
       "42   03-03-2020               21\n",
       "43   03-04-2020               36\n",
       "44   03-05-2020               67\n",
       "..          ...              ...\n",
       "407  03-03-2021            66714\n",
       "408  03-04-2021            67415\n",
       "409  03-05-2021            65682\n",
       "410  03-06-2021            56606\n",
       "411  03-07-2021            40336\n",
       "\n",
       "[372 rows x 2 columns]"
      ]
     },
     "execution_count": 8,
     "metadata": {},
     "output_type": "execute_result"
    }
   ],
   "source": [
    "daily_new_cases"
   ]
  },
  {
   "cell_type": "code",
   "execution_count": 9,
   "metadata": {},
   "outputs": [],
   "source": [
    "daily_new_cases.set_index(\"date\", inplace=True)"
   ]
  },
  {
   "cell_type": "markdown",
   "metadata": {},
   "source": [
    "### Check Autocorrelation (ACF, PACF)"
   ]
  },
  {
   "cell_type": "code",
   "execution_count": 11,
   "metadata": {},
   "outputs": [
    {
     "data": {
      "text/plain": [
       "<AxesSubplot:xlabel='Lag', ylabel='Autocorrelation'>"
      ]
     },
     "execution_count": 11,
     "metadata": {},
     "output_type": "execute_result"
    },
    {
     "data": {
      "image/png": "[encoded data removed]",
      "text/plain": [
       "<Figure size 432x288 with 1 Axes>"
      ]
     },
     "metadata": {
      "needs_background": "light"
     },
     "output_type": "display_data"
    }
   ],
   "source": [
    "autocorrelation_plot(daily_new_cases)"
   ]
  },
  {
   "cell_type": "markdown",
   "metadata": {},
   "source": [
    "**Data Transformation**\n",
    "- By the above, we see some seasonal spikes\n",
    "- We also see that the time series is not stationary"
   ]
  },
  {
   "cell_type": "code",
   "execution_count": 211,
   "metadata": {},
   "outputs": [],
   "source": [
    "# Taking the log for this data provides better results than .diff() \n",
    "# decompose = statsmodels.tsa.seasonal.seasonal_decompose(daily_new_cases, model=\"multiplicative\", freq=7)\n",
    "test_df = np.log(daily_new_cases)\n",
    "# log_diff_test = test_df[\"daily_new_cases\"]\n",
    "# test_df = daily_new_cases\n",
    "# test_df.fillna(0, inplace=True)\n",
    "# decompose.plot(seasonal=False)\n",
    "# statsmodels.tsa.seasonal.DecomposeResult(observed, seasonal, trend, resid)\n",
    "# decompose(observed, seasonal, trend, resid)"
   ]
  },
  {
   "cell_type": "code",
   "execution_count": 212,
   "metadata": {},
   "outputs": [],
   "source": [
    "# decompose"
   ]
  },
  {
   "cell_type": "code",
   "execution_count": 213,
   "metadata": {},
   "outputs": [],
   "source": [
    "# Replot ACF / PACF to check data\n",
    "# ACF = plot_acf(decompose)\n",
    "# PACF = plot_pacf(decompose)"
   ]
  },
  {
   "cell_type": "markdown",
   "metadata": {},
   "source": [
    "**The PACF above looks good, less so for the ACF.**\n",
    "- Let's check the Dickey-Fuller Score and P-Value\n",
    "- A P-Value > .05 means our data still isn't stationary"
   ]
  },
  {
   "cell_type": "code",
   "execution_count": 214,
   "metadata": {},
   "outputs": [
    {
     "name": "stdout",
     "output_type": "stream",
     "text": [
      "ADF Statistic: -3.308273767139734\n",
      "p-value: 0.014512663468547885\n"
     ]
    }
   ],
   "source": [
    "result = adfuller(test_df, autolag='AIC')\n",
    "print(f'ADF Statistic: {result[0]}')\n",
    "print(f'p-value: {result[1]}')"
   ]
  },
  {
   "cell_type": "markdown",
   "metadata": {},
   "source": [
    "- The P-Value is ok, and the data appears to be stationary for the most part. \n",
    "- We'll move forward with splitting our data into training/testing\n",
    "\n",
    "**Training / Testing**\n",
    "- This pretty much splits the data into 75/25"
   ]
  },
  {
   "cell_type": "code",
   "execution_count": 215,
   "metadata": {},
   "outputs": [],
   "source": [
    "training = test_df[:250]\n",
    "testing = test_df[250:]"
   ]
  },
  {
   "cell_type": "markdown",
   "metadata": {},
   "source": [
    "## ARIMA Model\n",
    "\n",
    "- We can start with an arima model to see what our scores are"
   ]
  },
  {
   "cell_type": "code",
   "execution_count": 216,
   "metadata": {},
   "outputs": [
    {
     "name": "stdout",
     "output_type": "stream",
     "text": [
      "                              ARMA Model Results                              \n",
      "==============================================================================\n",
      "Dep. Variable:        daily_new_cases   No. Observations:                  250\n",
      "Model:                     ARMA(1, 3)   Log Likelihood                  83.891\n",
      "Method:                       css-mle   S.D. of innovations              0.171\n",
      "Date:                Mon, 08 Mar 2021   AIC                           -155.781\n",
      "Time:                        19:39:53   BIC                           -134.652\n",
      "Sample:                    03-01-2020   HQIC                          -147.277\n",
      "                         - 11-05-2020                                         \n",
      "=========================================================================================\n",
      "                            coef    std err          z      P>|z|      [0.025      0.975]\n",
      "-----------------------------------------------------------------------------------------\n",
      "const                     7.8672      3.643      2.160      0.031       0.728      15.007\n",
      "ar.L1.daily_new_cases     0.9982      0.002    408.009      0.000       0.993       1.003\n",
      "ma.L1.daily_new_cases     0.1608      0.062      2.574      0.010       0.038       0.283\n",
      "ma.L2.daily_new_cases     0.1389      0.074      1.883      0.060      -0.006       0.284\n",
      "ma.L3.daily_new_cases     0.1176      0.071      1.662      0.097      -0.021       0.256\n",
      "                                    Roots                                    \n",
      "=============================================================================\n",
      "                  Real          Imaginary           Modulus         Frequency\n",
      "-----------------------------------------------------------------------------\n",
      "AR.1            1.0018           +0.0000j            1.0018            0.0000\n",
      "MA.1            0.5350           -1.8684j            1.9435           -0.2056\n",
      "MA.2            0.5350           +1.8684j            1.9435            0.2056\n",
      "MA.3           -2.2517           -0.0000j            2.2517           -0.5000\n",
      "-----------------------------------------------------------------------------\n"
     ]
    }
   ],
   "source": [
    "import warnings\n",
    "warnings.filterwarnings(\"ignore\") \n",
    "\n",
    "model = ARIMA(training, order=(1,0,3))\n",
    "model_fit = model.fit(disp=False)\n",
    "print(model_fit.summary())"
   ]
  },
  {
   "cell_type": "code",
   "execution_count": 217,
   "metadata": {},
   "outputs": [
    {
     "data": {
      "image/png": "[encoded data removed]",
      "text/plain": [
       "<Figure size 432x288 with 1 Axes>"
      ]
     },
     "metadata": {
      "needs_background": "light"
     },
     "output_type": "display_data"
    }
   ],
   "source": [
    "# Show the Residuals\n",
    "residuals = pd.DataFrame(model_fit.resid)\n",
    "residuals.plot(kind=\"bar\", title=\"Residuals\")\n",
    "plt.show()"
   ]
  },
  {
   "cell_type": "code",
   "execution_count": 218,
   "metadata": {},
   "outputs": [
    {
     "data": {
      "image/png": "[encoded data removed]",
      "text/plain": [
       "<Figure size 432x288 with 1 Axes>"
      ]
     },
     "metadata": {
      "needs_background": "light"
     },
     "output_type": "display_data"
    }
   ],
   "source": [
    "model_fit.plot_predict()\n",
    "plt.show()"
   ]
  },
  {
   "cell_type": "code",
   "execution_count": 219,
   "metadata": {},
   "outputs": [],
   "source": [
    "model_1_pred = model_fit.forecast(steps=10) "
   ]
  },
  {
   "cell_type": "code",
   "execution_count": 220,
   "metadata": {},
   "outputs": [
    {
     "data": {
      "text/plain": [
       "(array([11.7278317 , 11.74685901, 11.7479179 , 11.74077217, 11.73363959,\n",
       "        11.72652015, 11.71941382, 11.71232057, 11.70524039, 11.69817324]),\n",
       " array([0.17079702, 0.26144959, 0.34254309, 0.41882059, 0.48298234,\n",
       "        0.53937027, 0.59021737, 0.63685278, 0.68014399, 0.72069442]),\n",
       " array([[11.3930757 , 12.06258769],\n",
       "        [11.23442722, 12.2592908 ],\n",
       "        [11.07654579, 12.41929002],\n",
       "        [10.91989889, 12.56164545],\n",
       "        [10.78701161, 12.68026758],\n",
       "        [10.66937384, 12.78366647],\n",
       "        [10.56260903, 12.87621861],\n",
       "        [10.46411205, 12.96052909],\n",
       "        [10.37218266, 13.03829811],\n",
       "        [10.28563813, 13.11070835]]))"
      ]
     },
     "execution_count": 220,
     "metadata": {},
     "output_type": "execute_result"
    }
   ],
   "source": [
    "model_1_pred"
   ]
  },
  {
   "cell_type": "markdown",
   "metadata": {},
   "source": [
    "## ARIMA / SARMIA Testing\n",
    "\n",
    "- Grid Searching for best model orders\n",
    "- Some code (mainly grid searches) is modeled / adopted from: https://www.machinelearningplus.com/time-series/arima-model-time-series-forecasting-python/"
   ]
  },
  {
   "cell_type": "code",
   "execution_count": 221,
   "metadata": {},
   "outputs": [],
   "source": [
    "import pmdarima as pm"
   ]
  },
  {
   "cell_type": "code",
   "execution_count": 222,
   "metadata": {},
   "outputs": [
    {
     "name": "stdout",
     "output_type": "stream",
     "text": [
      "Performing stepwise search to minimize aic\n",
      " ARIMA(1,0,1)(0,0,0)[0]             : AIC=-154.750, Time=0.14 sec\n",
      " ARIMA(0,0,0)(0,0,0)[0]             : AIC=1875.167, Time=0.00 sec\n",
      " ARIMA(1,0,0)(0,0,0)[0]             : AIC=inf, Time=0.05 sec\n",
      " ARIMA(0,0,1)(0,0,0)[0]             : AIC=1541.481, Time=0.08 sec\n",
      " ARIMA(2,0,1)(0,0,0)[0]             : AIC=inf, Time=0.25 sec\n",
      " ARIMA(1,0,2)(0,0,0)[0]             : AIC=-155.157, Time=0.19 sec\n",
      " ARIMA(0,0,2)(0,0,0)[0]             : AIC=1229.393, Time=0.09 sec\n",
      " ARIMA(2,0,2)(0,0,0)[0]             : AIC=-153.649, Time=0.28 sec\n",
      " ARIMA(1,0,3)(0,0,0)[0]             : AIC=-156.175, Time=0.24 sec\n",
      " ARIMA(0,0,3)(0,0,0)[0]             : AIC=996.562, Time=0.23 sec\n",
      " ARIMA(2,0,3)(0,0,0)[0]             : AIC=-152.997, Time=0.49 sec\n",
      " ARIMA(1,0,3)(0,0,0)[0] intercept   : AIC=-155.781, Time=0.54 sec\n",
      "\n",
      "Best model:  ARIMA(1,0,3)(0,0,0)[0]          \n",
      "Total fit time: 2.604 seconds\n",
      "                               SARIMAX Results                                \n",
      "==============================================================================\n",
      "Dep. Variable:                      y   No. Observations:                  250\n",
      "Model:               SARIMAX(1, 0, 3)   Log Likelihood                  83.088\n",
      "Date:                Mon, 08 Mar 2021   AIC                           -156.175\n",
      "Time:                        19:40:18   BIC                           -138.568\n",
      "Sample:                             0   HQIC                          -149.089\n",
      "                                - 250                                         \n",
      "Covariance Type:                  opg                                         \n",
      "==============================================================================\n",
      "                 coef    std err          z      P>|z|      [0.025      0.975]\n",
      "------------------------------------------------------------------------------\n",
      "ar.L1          0.9996      0.001   1304.676      0.000       0.998       1.001\n",
      "ma.L1          0.1593      0.045      3.542      0.000       0.071       0.247\n",
      "ma.L2          0.1366      0.057      2.375      0.018       0.024       0.249\n",
      "ma.L3          0.1153      0.065      1.766      0.077      -0.013       0.243\n",
      "sigma2         0.0292      0.002     13.643      0.000       0.025       0.033\n",
      "===================================================================================\n",
      "Ljung-Box (L1) (Q):                   0.14   Jarque-Bera (JB):                13.44\n",
      "Prob(Q):                              0.71   Prob(JB):                         0.00\n",
      "Heteroskedasticity (H):               1.08   Skew:                             0.30\n",
      "Prob(H) (two-sided):                  0.72   Kurtosis:                         3.97\n",
      "===================================================================================\n",
      "\n",
      "Warnings:\n",
      "[1] Covariance matrix calculated using the outer product of gradients (complex-step).\n"
     ]
    }
   ],
   "source": [
    "amodel = pm.auto_arima(training, start_p=1, start_q=1,\n",
    "                      test='adf',       # use adftest to find optimal 'd'\n",
    "                      max_p=3, max_q=3, # maximum p and q\n",
    "                      m=7,              # frequency of series\n",
    "                      d=None,           # let model determine 'd'\n",
    "                      seasonal=False,   # No Seasonality\n",
    "                      start_P=0, \n",
    "                      D=0, \n",
    "                      trace=True,\n",
    "                      error_action='ignore',  \n",
    "                      suppress_warnings=True, \n",
    "                      stepwise=True)\n",
    "\n",
    "print(amodel.summary())"
   ]
  },
  {
   "cell_type": "code",
   "execution_count": 223,
   "metadata": {},
   "outputs": [
    {
     "data": {
      "image/png": "[encoded data removed]",
      "text/plain": [
       "<Figure size 1440x360 with 4 Axes>"
      ]
     },
     "metadata": {
      "needs_background": "light"
     },
     "output_type": "display_data"
    }
   ],
   "source": [
    "amodel.plot_diagnostics(figsize=(20,5))\n",
    "plt.show()"
   ]
  },
  {
   "cell_type": "code",
   "execution_count": 224,
   "metadata": {},
   "outputs": [],
   "source": [
    "n_periods = 119\n",
    "arima_predictions = amodel.predict(n_periods=n_periods)"
   ]
  },
  {
   "cell_type": "code",
   "execution_count": 225,
   "metadata": {},
   "outputs": [
    {
     "data": {
      "text/plain": [
       "[124182,\n",
       " 126806,\n",
       " 127243,\n",
       " 126673,\n",
       " 126106,\n",
       " 125542,\n",
       " 124980,\n",
       " 124421,\n",
       " 123865,\n",
       " 123312,\n",
       " 122761,\n",
       " 122213,\n",
       " 121667,\n",
       " 121124,\n",
       " 120584,\n",
       " 120047,\n",
       " 119512,\n",
       " 118979,\n",
       " 118449,\n",
       " 117922,\n",
       " 117398,\n",
       " 116875,\n",
       " 116356,\n",
       " 115839,\n",
       " 115324,\n",
       " 114812,\n",
       " 114302,\n",
       " 113795,\n",
       " 113290,\n",
       " 112788,\n",
       " 112288,\n",
       " 111790,\n",
       " 111295,\n",
       " 110802,\n",
       " 110312,\n",
       " 109824,\n",
       " 109338,\n",
       " 108855,\n",
       " 108374,\n",
       " 107895,\n",
       " 107419,\n",
       " 106944,\n",
       " 106472,\n",
       " 106003,\n",
       " 105535,\n",
       " 105070,\n",
       " 104607,\n",
       " 104147,\n",
       " 103688,\n",
       " 103232,\n",
       " 102778,\n",
       " 102326,\n",
       " 101876,\n",
       " 101428,\n",
       " 100983,\n",
       " 100540,\n",
       " 100098,\n",
       " 99659,\n",
       " 99222,\n",
       " 98787,\n",
       " 98354,\n",
       " 97923,\n",
       " 97495,\n",
       " 97068,\n",
       " 96643,\n",
       " 96220,\n",
       " 95800,\n",
       " 95381,\n",
       " 94964,\n",
       " 94550,\n",
       " 94137,\n",
       " 93726,\n",
       " 93317,\n",
       " 92910,\n",
       " 92505,\n",
       " 92102,\n",
       " 91701,\n",
       " 91302,\n",
       " 90904,\n",
       " 90509,\n",
       " 90115,\n",
       " 89723,\n",
       " 89334,\n",
       " 88945,\n",
       " 88559,\n",
       " 88175,\n",
       " 87792,\n",
       " 87411,\n",
       " 87032,\n",
       " 86655,\n",
       " 86280,\n",
       " 85906,\n",
       " 85534,\n",
       " 85164,\n",
       " 84796,\n",
       " 84429,\n",
       " 84064,\n",
       " 83701,\n",
       " 83339,\n",
       " 82980,\n",
       " 82621,\n",
       " 82265,\n",
       " 81910,\n",
       " 81557,\n",
       " 81206,\n",
       " 80856,\n",
       " 80508,\n",
       " 80161,\n",
       " 79816,\n",
       " 79473,\n",
       " 79131,\n",
       " 78791,\n",
       " 78453,\n",
       " 78116,\n",
       " 77780,\n",
       " 77446,\n",
       " 77114,\n",
       " 76784,\n",
       " 76454]"
      ]
     },
     "execution_count": 225,
     "metadata": {},
     "output_type": "execute_result"
    }
   ],
   "source": [
    "arima = []\n",
    "for x in arima_predictions:\n",
    "    p = np.expm1(x)\n",
    "    arima.append(round(p))\n",
    "    \n",
    "arima"
   ]
  },
  {
   "cell_type": "code",
   "execution_count": 226,
   "metadata": {},
   "outputs": [],
   "source": [
    "arima_df = pd.DataFrame(arima)\n",
    "arima_df.rename(columns={0: \"arima_model\"}, inplace=True)"
   ]
  },
  {
   "cell_type": "code",
   "execution_count": 227,
   "metadata": {},
   "outputs": [
    {
     "data": {
      "text/html": [
       "<div>\n",
       "<style scoped>\n",
       "    .dataframe tbody tr th:only-of-type {\n",
       "        vertical-align: middle;\n",
       "    }\n",
       "\n",
       "    .dataframe tbody tr th {\n",
       "        vertical-align: top;\n",
       "    }\n",
       "\n",
       "    .dataframe thead th {\n",
       "        text-align: right;\n",
       "    }\n",
       "</style>\n",
       "<table border=\"1\" class=\"dataframe\">\n",
       "  <thead>\n",
       "    <tr style=\"text-align: right;\">\n",
       "      <th></th>\n",
       "      <th>daily_new_cases</th>\n",
       "    </tr>\n",
       "    <tr>\n",
       "      <th>date</th>\n",
       "      <th></th>\n",
       "    </tr>\n",
       "  </thead>\n",
       "  <tbody>\n",
       "    <tr>\n",
       "      <th>11-06-2020</th>\n",
       "      <td>11.796773</td>\n",
       "    </tr>\n",
       "    <tr>\n",
       "      <th>11-07-2020</th>\n",
       "      <td>11.743497</td>\n",
       "    </tr>\n",
       "    <tr>\n",
       "      <th>11-08-2020</th>\n",
       "      <td>11.546515</td>\n",
       "    </tr>\n",
       "    <tr>\n",
       "      <th>11-09-2020</th>\n",
       "      <td>11.778676</td>\n",
       "    </tr>\n",
       "    <tr>\n",
       "      <th>11-10-2020</th>\n",
       "      <td>11.847610</td>\n",
       "    </tr>\n",
       "    <tr>\n",
       "      <th>...</th>\n",
       "      <td>...</td>\n",
       "    </tr>\n",
       "    <tr>\n",
       "      <th>03-03-2021</th>\n",
       "      <td>11.108170</td>\n",
       "    </tr>\n",
       "    <tr>\n",
       "      <th>03-04-2021</th>\n",
       "      <td>11.118623</td>\n",
       "    </tr>\n",
       "    <tr>\n",
       "      <th>03-05-2021</th>\n",
       "      <td>11.092580</td>\n",
       "    </tr>\n",
       "    <tr>\n",
       "      <th>03-06-2021</th>\n",
       "      <td>10.943870</td>\n",
       "    </tr>\n",
       "    <tr>\n",
       "      <th>03-07-2021</th>\n",
       "      <td>10.605000</td>\n",
       "    </tr>\n",
       "  </tbody>\n",
       "</table>\n",
       "<p>122 rows × 1 columns</p>\n",
       "</div>"
      ],
      "text/plain": [
       "            daily_new_cases\n",
       "date                       \n",
       "11-06-2020        11.796773\n",
       "11-07-2020        11.743497\n",
       "11-08-2020        11.546515\n",
       "11-09-2020        11.778676\n",
       "11-10-2020        11.847610\n",
       "...                     ...\n",
       "03-03-2021        11.108170\n",
       "03-04-2021        11.118623\n",
       "03-05-2021        11.092580\n",
       "03-06-2021        10.943870\n",
       "03-07-2021        10.605000\n",
       "\n",
       "[122 rows x 1 columns]"
      ]
     },
     "execution_count": 227,
     "metadata": {},
     "output_type": "execute_result"
    }
   ],
   "source": [
    "testing"
   ]
  },
  {
   "cell_type": "code",
   "execution_count": 228,
   "metadata": {},
   "outputs": [],
   "source": [
    "arima_analysis = testing.reset_index()\n",
    "\n",
    "for index, row in arima_analysis.iterrows():\n",
    "    x = row[1]\n",
    "    arima_analysis.at[index, \"original_daily\"] = np.expm1(x)"
   ]
  },
  {
   "cell_type": "code",
   "execution_count": 229,
   "metadata": {},
   "outputs": [],
   "source": [
    "arima_analysis = pd.merge(arima_analysis, arima_df, left_index=True, right_index=True)\n",
    "arima_analysis.set_index(\"date\", inplace=True)\n",
    "arima_analysis.drop(columns=\"daily_new_cases\", inplace=True)"
   ]
  },
  {
   "cell_type": "code",
   "execution_count": 230,
   "metadata": {},
   "outputs": [
    {
     "data": {
      "text/plain": [
       "<AxesSubplot:xlabel='date'>"
      ]
     },
     "execution_count": 230,
     "metadata": {},
     "output_type": "execute_result"
    },
    {
     "data": {
      "image/png": "[encoded data removed]",
      "text/plain": [
       "<Figure size 1440x504 with 1 Axes>"
      ]
     },
     "metadata": {
      "needs_background": "light"
     },
     "output_type": "display_data"
    }
   ],
   "source": [
    "# Doesn't capture seasonality, only the trend\n",
    "arima_analysis.plot(figsize=(20, 7))"
   ]
  },
  {
   "cell_type": "markdown",
   "metadata": {},
   "source": [
    "## SARIMA Model: Grid Search"
   ]
  },
  {
   "cell_type": "code",
   "execution_count": 231,
   "metadata": {
    "scrolled": false
   },
   "outputs": [
    {
     "name": "stdout",
     "output_type": "stream",
     "text": [
      "Performing stepwise search to minimize aic\n",
      " ARIMA(0,1,0)(0,1,1)[7]             : AIC=-268.088, Time=0.19 sec\n",
      " ARIMA(0,1,0)(0,1,0)[7]             : AIC=-165.405, Time=0.03 sec\n",
      " ARIMA(1,1,0)(1,1,0)[7]             : AIC=-270.686, Time=0.13 sec\n",
      " ARIMA(0,1,1)(0,1,1)[7]             : AIC=-268.542, Time=0.20 sec\n",
      " ARIMA(1,1,0)(0,1,0)[7]             : AIC=-191.161, Time=0.03 sec\n",
      " ARIMA(1,1,0)(2,1,0)[7]             : AIC=-275.204, Time=0.62 sec\n",
      " ARIMA(1,1,0)(2,1,1)[7]             : AIC=-275.198, Time=0.90 sec\n",
      " ARIMA(1,1,0)(1,1,1)[7]             : AIC=-276.443, Time=0.25 sec\n",
      " ARIMA(1,1,0)(0,1,1)[7]             : AIC=-269.762, Time=0.15 sec\n",
      " ARIMA(1,1,0)(1,1,2)[7]             : AIC=-274.972, Time=1.43 sec\n",
      " ARIMA(1,1,0)(0,1,2)[7]             : AIC=-275.029, Time=0.41 sec\n",
      " ARIMA(1,1,0)(2,1,2)[7]             : AIC=inf, Time=1.40 sec\n",
      " ARIMA(0,1,0)(1,1,1)[7]             : AIC=-274.282, Time=0.21 sec\n",
      " ARIMA(2,1,0)(1,1,1)[7]             : AIC=-279.799, Time=0.35 sec\n",
      " ARIMA(2,1,0)(0,1,1)[7]             : AIC=-274.972, Time=0.40 sec\n",
      " ARIMA(2,1,0)(1,1,0)[7]             : AIC=-268.951, Time=0.35 sec\n",
      " ARIMA(2,1,0)(2,1,1)[7]             : AIC=-278.929, Time=1.09 sec\n",
      " ARIMA(2,1,0)(1,1,2)[7]             : AIC=-278.794, Time=1.40 sec\n",
      " ARIMA(2,1,0)(0,1,0)[7]             : AIC=-190.327, Time=0.08 sec\n",
      " ARIMA(2,1,0)(0,1,2)[7]             : AIC=-278.279, Time=0.48 sec\n",
      " ARIMA(2,1,0)(2,1,0)[7]             : AIC=-276.301, Time=0.35 sec\n",
      " ARIMA(2,1,0)(2,1,2)[7]             : AIC=-277.729, Time=1.38 sec\n",
      " ARIMA(3,1,0)(1,1,1)[7]             : AIC=-293.469, Time=0.67 sec\n",
      " ARIMA(3,1,0)(0,1,1)[7]             : AIC=-288.396, Time=0.53 sec\n",
      " ARIMA(3,1,0)(1,1,0)[7]             : AIC=-273.637, Time=0.28 sec\n",
      " ARIMA(3,1,0)(2,1,1)[7]             : AIC=-294.122, Time=1.65 sec\n",
      " ARIMA(3,1,0)(2,1,0)[7]             : AIC=-284.672, Time=0.56 sec\n",
      " ARIMA(3,1,0)(2,1,2)[7]             : AIC=-292.429, Time=1.95 sec\n",
      " ARIMA(3,1,0)(1,1,2)[7]             : AIC=-293.563, Time=1.34 sec\n",
      " ARIMA(3,1,1)(2,1,1)[7]             : AIC=-320.808, Time=1.72 sec\n",
      " ARIMA(3,1,1)(1,1,1)[7]             : AIC=-320.247, Time=1.17 sec\n",
      " ARIMA(3,1,1)(2,1,0)[7]             : AIC=-300.370, Time=1.14 sec\n",
      " ARIMA(3,1,1)(2,1,2)[7]             : AIC=-318.859, Time=2.18 sec\n",
      " ARIMA(3,1,1)(1,1,0)[7]             : AIC=-283.176, Time=0.67 sec\n",
      " ARIMA(3,1,1)(1,1,2)[7]             : AIC=-320.599, Time=1.69 sec\n",
      " ARIMA(2,1,1)(2,1,1)[7]             : AIC=-271.391, Time=1.33 sec\n",
      " ARIMA(3,1,2)(2,1,1)[7]             : AIC=-315.548, Time=1.89 sec\n",
      " ARIMA(2,1,2)(2,1,1)[7]             : AIC=-321.905, Time=1.67 sec\n",
      " ARIMA(2,1,2)(1,1,1)[7]             : AIC=-322.331, Time=1.11 sec\n",
      " ARIMA(2,1,2)(0,1,1)[7]             : AIC=-316.423, Time=1.00 sec\n",
      " ARIMA(2,1,2)(1,1,0)[7]             : AIC=-284.322, Time=0.68 sec\n",
      " ARIMA(2,1,2)(1,1,2)[7]             : AIC=-322.563, Time=1.86 sec\n",
      " ARIMA(2,1,2)(0,1,2)[7]             : AIC=-319.752, Time=1.74 sec\n",
      " ARIMA(2,1,2)(2,1,2)[7]             : AIC=-320.872, Time=2.54 sec\n",
      " ARIMA(1,1,2)(1,1,2)[7]             : AIC=-324.017, Time=1.81 sec\n",
      " ARIMA(1,1,2)(0,1,2)[7]             : AIC=-322.105, Time=1.48 sec\n",
      " ARIMA(1,1,2)(1,1,1)[7]             : AIC=inf, Time=1.08 sec\n",
      " ARIMA(1,1,2)(2,1,2)[7]             : AIC=-322.512, Time=2.29 sec\n",
      " ARIMA(1,1,2)(0,1,1)[7]             : AIC=inf, Time=0.92 sec\n",
      " ARIMA(1,1,2)(2,1,1)[7]             : AIC=-323.961, Time=1.77 sec\n",
      " ARIMA(0,1,2)(1,1,2)[7]             : AIC=-279.839, Time=1.66 sec\n",
      " ARIMA(1,1,1)(1,1,2)[7]             : AIC=-274.027, Time=1.51 sec\n",
      " ARIMA(1,1,3)(1,1,2)[7]             : AIC=-322.520, Time=2.29 sec\n",
      " ARIMA(0,1,1)(1,1,2)[7]             : AIC=-274.033, Time=1.03 sec\n",
      " ARIMA(0,1,3)(1,1,2)[7]             : AIC=-284.198, Time=1.66 sec\n",
      " ARIMA(2,1,1)(1,1,2)[7]             : AIC=inf, Time=1.50 sec\n",
      " ARIMA(2,1,3)(1,1,2)[7]             : AIC=-319.998, Time=2.30 sec\n",
      " ARIMA(1,1,2)(1,1,2)[7] intercept   : AIC=-319.893, Time=1.98 sec\n",
      "\n",
      "Best model:  ARIMA(1,1,2)(1,1,2)[7]          \n",
      "Total fit time: 64.544 seconds\n"
     ]
    },
    {
     "data": {
      "text/html": [
       "<table class=\"simpletable\">\n",
       "<caption>SARIMAX Results</caption>\n",
       "<tr>\n",
       "  <th>Dep. Variable:</th>                 <td>y</td>               <th>  No. Observations:  </th>    <td>250</td>  \n",
       "</tr>\n",
       "<tr>\n",
       "  <th>Model:</th>           <td>SARIMAX(1, 1, 2)x(1, 1, 2, 7)</td> <th>  Log Likelihood     </th>  <td>169.008</td>\n",
       "</tr>\n",
       "<tr>\n",
       "  <th>Date:</th>                  <td>Mon, 08 Mar 2021</td>        <th>  AIC                </th> <td>-324.017</td>\n",
       "</tr>\n",
       "<tr>\n",
       "  <th>Time:</th>                      <td>19:41:35</td>            <th>  BIC                </th> <td>-299.594</td>\n",
       "</tr>\n",
       "<tr>\n",
       "  <th>Sample:</th>                        <td>0</td>               <th>  HQIC               </th> <td>-314.179</td>\n",
       "</tr>\n",
       "<tr>\n",
       "  <th></th>                            <td> - 250</td>             <th>                     </th>     <td> </td>   \n",
       "</tr>\n",
       "<tr>\n",
       "  <th>Covariance Type:</th>              <td>opg</td>              <th>                     </th>     <td> </td>   \n",
       "</tr>\n",
       "</table>\n",
       "<table class=\"simpletable\">\n",
       "<tr>\n",
       "      <td></td>        <th>coef</th>     <th>std err</th>      <th>z</th>      <th>P>|z|</th>  <th>[0.025</th>    <th>0.975]</th>  \n",
       "</tr>\n",
       "<tr>\n",
       "  <th>ar.L1</th>    <td>    0.9834</td> <td>    0.018</td> <td>   54.949</td> <td> 0.000</td> <td>    0.948</td> <td>    1.018</td>\n",
       "</tr>\n",
       "<tr>\n",
       "  <th>ma.L1</th>    <td>   -1.2321</td> <td>    0.044</td> <td>  -28.089</td> <td> 0.000</td> <td>   -1.318</td> <td>   -1.146</td>\n",
       "</tr>\n",
       "<tr>\n",
       "  <th>ma.L2</th>    <td>    0.3782</td> <td>    0.043</td> <td>    8.727</td> <td> 0.000</td> <td>    0.293</td> <td>    0.463</td>\n",
       "</tr>\n",
       "<tr>\n",
       "  <th>ar.S.L7</th>  <td>   -0.7919</td> <td>    0.169</td> <td>   -4.681</td> <td> 0.000</td> <td>   -1.124</td> <td>   -0.460</td>\n",
       "</tr>\n",
       "<tr>\n",
       "  <th>ma.S.L7</th>  <td>   -0.1876</td> <td>    0.210</td> <td>   -0.893</td> <td> 0.372</td> <td>   -0.599</td> <td>    0.224</td>\n",
       "</tr>\n",
       "<tr>\n",
       "  <th>ma.S.L14</th> <td>   -0.5326</td> <td>    0.183</td> <td>   -2.908</td> <td> 0.004</td> <td>   -0.891</td> <td>   -0.174</td>\n",
       "</tr>\n",
       "<tr>\n",
       "  <th>sigma2</th>   <td>    0.0140</td> <td>    0.001</td> <td>   15.727</td> <td> 0.000</td> <td>    0.012</td> <td>    0.016</td>\n",
       "</tr>\n",
       "</table>\n",
       "<table class=\"simpletable\">\n",
       "<tr>\n",
       "  <th>Ljung-Box (L1) (Q):</th>     <td>0.27</td> <th>  Jarque-Bera (JB):  </th> <td>89.38</td>\n",
       "</tr>\n",
       "<tr>\n",
       "  <th>Prob(Q):</th>                <td>0.60</td> <th>  Prob(JB):          </th> <td>0.00</td> \n",
       "</tr>\n",
       "<tr>\n",
       "  <th>Heteroskedasticity (H):</th> <td>0.82</td> <th>  Skew:              </th> <td>-0.01</td>\n",
       "</tr>\n",
       "<tr>\n",
       "  <th>Prob(H) (two-sided):</th>    <td>0.38</td> <th>  Kurtosis:          </th> <td>5.98</td> \n",
       "</tr>\n",
       "</table><br/><br/>Warnings:<br/>[1] Covariance matrix calculated using the outer product of gradients (complex-step)."
      ],
      "text/plain": [
       "<class 'statsmodels.iolib.summary.Summary'>\n",
       "\"\"\"\n",
       "                                     SARIMAX Results                                     \n",
       "=========================================================================================\n",
       "Dep. Variable:                                 y   No. Observations:                  250\n",
       "Model:             SARIMAX(1, 1, 2)x(1, 1, 2, 7)   Log Likelihood                 169.008\n",
       "Date:                           Mon, 08 Mar 2021   AIC                           -324.017\n",
       "Time:                                   19:41:35   BIC                           -299.594\n",
       "Sample:                                        0   HQIC                          -314.179\n",
       "                                           - 250                                         \n",
       "Covariance Type:                             opg                                         \n",
       "==============================================================================\n",
       "                 coef    std err          z      P>|z|      [0.025      0.975]\n",
       "------------------------------------------------------------------------------\n",
       "ar.L1          0.9834      0.018     54.949      0.000       0.948       1.018\n",
       "ma.L1         -1.2321      0.044    -28.089      0.000      -1.318      -1.146\n",
       "ma.L2          0.3782      0.043      8.727      0.000       0.293       0.463\n",
       "ar.S.L7       -0.7919      0.169     -4.681      0.000      -1.124      -0.460\n",
       "ma.S.L7       -0.1876      0.210     -0.893      0.372      -0.599       0.224\n",
       "ma.S.L14      -0.5326      0.183     -2.908      0.004      -0.891      -0.174\n",
       "sigma2         0.0140      0.001     15.727      0.000       0.012       0.016\n",
       "===================================================================================\n",
       "Ljung-Box (L1) (Q):                   0.27   Jarque-Bera (JB):                89.38\n",
       "Prob(Q):                              0.60   Prob(JB):                         0.00\n",
       "Heteroskedasticity (H):               0.82   Skew:                            -0.01\n",
       "Prob(H) (two-sided):                  0.38   Kurtosis:                         5.98\n",
       "===================================================================================\n",
       "\n",
       "Warnings:\n",
       "[1] Covariance matrix calculated using the outer product of gradients (complex-step).\n",
       "\"\"\""
      ]
     },
     "execution_count": 231,
     "metadata": {},
     "output_type": "execute_result"
    }
   ],
   "source": [
    "# Seasonal - fit stepwise auto-ARIMA\n",
    "smodel = pm.auto_arima(training, start_p=0, start_q=0,\n",
    "                         test='adf',\n",
    "                         max_p=3, max_q=3, m=7,\n",
    "                         start_P=0, seasonal=True,\n",
    "                         d=None, D=1, trace=True,\n",
    "                         error_action='ignore',  \n",
    "                         suppress_warnings=True, \n",
    "                         stepwise=True)\n",
    "\n",
    "smodel.summary()"
   ]
  },
  {
   "cell_type": "code",
   "execution_count": 232,
   "metadata": {},
   "outputs": [],
   "source": [
    "n_periods = 120\n",
    "predictions_seasonal = smodel.predict(n_periods=n_periods)"
   ]
  },
  {
   "cell_type": "code",
   "execution_count": 233,
   "metadata": {},
   "outputs": [
    {
     "data": {
      "text/plain": [
       "<AxesSubplot:>"
      ]
     },
     "execution_count": 233,
     "metadata": {},
     "output_type": "execute_result"
    },
    {
     "data": {
      "image/png": "[encoded data removed]",
      "text/plain": [
       "<Figure size 432x288 with 1 Axes>"
      ]
     },
     "metadata": {
      "needs_background": "light"
     },
     "output_type": "display_data"
    }
   ],
   "source": [
    "pd.DataFrame(predictions_seasonal).plot()"
   ]
  },
  {
   "cell_type": "code",
   "execution_count": 234,
   "metadata": {},
   "outputs": [],
   "source": [
    "predictions_list = []\n",
    "\n",
    "for x in predictions_seasonal:\n",
    "    prediction = np.expm1(x)\n",
    "    predictions_list.append(round(prediction))"
   ]
  },
  {
   "cell_type": "code",
   "execution_count": 235,
   "metadata": {},
   "outputs": [],
   "source": [
    "sarima_model = pd.DataFrame(predictions_list)\n",
    "sarima_model.rename(columns={0:\"sarima_model\"}, inplace=True)"
   ]
  },
  {
   "cell_type": "code",
   "execution_count": 236,
   "metadata": {},
   "outputs": [
    {
     "data": {
      "text/html": [
       "<div>\n",
       "<style scoped>\n",
       "    .dataframe tbody tr th:only-of-type {\n",
       "        vertical-align: middle;\n",
       "    }\n",
       "\n",
       "    .dataframe tbody tr th {\n",
       "        vertical-align: top;\n",
       "    }\n",
       "\n",
       "    .dataframe thead th {\n",
       "        text-align: right;\n",
       "    }\n",
       "</style>\n",
       "<table border=\"1\" class=\"dataframe\">\n",
       "  <thead>\n",
       "    <tr style=\"text-align: right;\">\n",
       "      <th></th>\n",
       "      <th>sarima_model</th>\n",
       "    </tr>\n",
       "  </thead>\n",
       "  <tbody>\n",
       "    <tr>\n",
       "      <th>0</th>\n",
       "      <td>138867</td>\n",
       "    </tr>\n",
       "    <tr>\n",
       "      <th>1</th>\n",
       "      <td>124609</td>\n",
       "    </tr>\n",
       "    <tr>\n",
       "      <th>2</th>\n",
       "      <td>104994</td>\n",
       "    </tr>\n",
       "    <tr>\n",
       "      <th>3</th>\n",
       "      <td>126359</td>\n",
       "    </tr>\n",
       "    <tr>\n",
       "      <th>4</th>\n",
       "      <td>132237</td>\n",
       "    </tr>\n",
       "    <tr>\n",
       "      <th>...</th>\n",
       "      <td>...</td>\n",
       "    </tr>\n",
       "    <tr>\n",
       "      <th>115</th>\n",
       "      <td>49059404</td>\n",
       "    </tr>\n",
       "    <tr>\n",
       "      <th>116</th>\n",
       "      <td>50464318</td>\n",
       "    </tr>\n",
       "    <tr>\n",
       "      <th>117</th>\n",
       "      <td>56761915</td>\n",
       "    </tr>\n",
       "    <tr>\n",
       "      <th>118</th>\n",
       "      <td>65668053</td>\n",
       "    </tr>\n",
       "    <tr>\n",
       "      <th>119</th>\n",
       "      <td>75733727</td>\n",
       "    </tr>\n",
       "  </tbody>\n",
       "</table>\n",
       "<p>120 rows × 1 columns</p>\n",
       "</div>"
      ],
      "text/plain": [
       "     sarima_model\n",
       "0          138867\n",
       "1          124609\n",
       "2          104994\n",
       "3          126359\n",
       "4          132237\n",
       "..            ...\n",
       "115      49059404\n",
       "116      50464318\n",
       "117      56761915\n",
       "118      65668053\n",
       "119      75733727\n",
       "\n",
       "[120 rows x 1 columns]"
      ]
     },
     "execution_count": 236,
     "metadata": {},
     "output_type": "execute_result"
    }
   ],
   "source": [
    "sarima_model"
   ]
  },
  {
   "cell_type": "code",
   "execution_count": 237,
   "metadata": {},
   "outputs": [],
   "source": [
    "arima_analysis.reset_index(inplace=True)"
   ]
  },
  {
   "cell_type": "code",
   "execution_count": 238,
   "metadata": {},
   "outputs": [],
   "source": [
    "model_analyses = pd.merge(arima_analysis, sarima_model, left_index=True, right_index=True)\n",
    "# model_analyses.drop(columns={\"index\"}, inplace=True)"
   ]
  },
  {
   "cell_type": "code",
   "execution_count": 239,
   "metadata": {},
   "outputs": [
    {
     "data": {
      "text/plain": [
       "<AxesSubplot:>"
      ]
     },
     "execution_count": 239,
     "metadata": {},
     "output_type": "execute_result"
    },
    {
     "data": {
      "image/png": "[encoded data removed]",
      "text/plain": [
       "<Figure size 432x288 with 1 Axes>"
      ]
     },
     "metadata": {
      "needs_background": "light"
     },
     "output_type": "display_data"
    }
   ],
   "source": [
    "model_analyses[:30].plot()"
   ]
  },
  {
   "cell_type": "markdown",
   "metadata": {},
   "source": [
    "# Finalized SARIMA Model Below"
   ]
  },
  {
   "cell_type": "markdown",
   "metadata": {},
   "source": [
    "**Test on Training Data once more to make sure**"
   ]
  },
  {
   "cell_type": "code",
   "execution_count": 183,
   "metadata": {},
   "outputs": [
    {
     "data": {
      "text/html": [
       "<div>\n",
       "<style scoped>\n",
       "    .dataframe tbody tr th:only-of-type {\n",
       "        vertical-align: middle;\n",
       "    }\n",
       "\n",
       "    .dataframe tbody tr th {\n",
       "        vertical-align: top;\n",
       "    }\n",
       "\n",
       "    .dataframe thead th {\n",
       "        text-align: right;\n",
       "    }\n",
       "</style>\n",
       "<table border=\"1\" class=\"dataframe\">\n",
       "  <thead>\n",
       "    <tr style=\"text-align: right;\">\n",
       "      <th></th>\n",
       "      <th>daily_new_cases</th>\n",
       "    </tr>\n",
       "    <tr>\n",
       "      <th>date</th>\n",
       "      <th></th>\n",
       "    </tr>\n",
       "  </thead>\n",
       "  <tbody>\n",
       "    <tr>\n",
       "      <th>03-01-2020</th>\n",
       "      <td>2.890372</td>\n",
       "    </tr>\n",
       "    <tr>\n",
       "      <th>03-02-2020</th>\n",
       "      <td>2.772589</td>\n",
       "    </tr>\n",
       "    <tr>\n",
       "      <th>03-03-2020</th>\n",
       "      <td>3.044522</td>\n",
       "    </tr>\n",
       "    <tr>\n",
       "      <th>03-04-2020</th>\n",
       "      <td>3.583519</td>\n",
       "    </tr>\n",
       "    <tr>\n",
       "      <th>03-05-2020</th>\n",
       "      <td>4.204693</td>\n",
       "    </tr>\n",
       "    <tr>\n",
       "      <th>...</th>\n",
       "      <td>...</td>\n",
       "    </tr>\n",
       "    <tr>\n",
       "      <th>11-01-2020</th>\n",
       "      <td>11.214452</td>\n",
       "    </tr>\n",
       "    <tr>\n",
       "      <th>11-02-2020</th>\n",
       "      <td>11.451188</td>\n",
       "    </tr>\n",
       "    <tr>\n",
       "      <th>11-03-2020</th>\n",
       "      <td>11.434055</td>\n",
       "    </tr>\n",
       "    <tr>\n",
       "      <th>11-04-2020</th>\n",
       "      <td>11.590627</td>\n",
       "    </tr>\n",
       "    <tr>\n",
       "      <th>11-05-2020</th>\n",
       "      <td>11.706294</td>\n",
       "    </tr>\n",
       "  </tbody>\n",
       "</table>\n",
       "<p>250 rows × 1 columns</p>\n",
       "</div>"
      ],
      "text/plain": [
       "            daily_new_cases\n",
       "date                       \n",
       "03-01-2020         2.890372\n",
       "03-02-2020         2.772589\n",
       "03-03-2020         3.044522\n",
       "03-04-2020         3.583519\n",
       "03-05-2020         4.204693\n",
       "...                     ...\n",
       "11-01-2020        11.214452\n",
       "11-02-2020        11.451188\n",
       "11-03-2020        11.434055\n",
       "11-04-2020        11.590627\n",
       "11-05-2020        11.706294\n",
       "\n",
       "[250 rows x 1 columns]"
      ]
     },
     "execution_count": 183,
     "metadata": {},
     "output_type": "execute_result"
    }
   ],
   "source": [
    "# First, test \n",
    "training "
   ]
  },
  {
   "cell_type": "code",
   "execution_count": 184,
   "metadata": {},
   "outputs": [
    {
     "name": "stdout",
     "output_type": "stream",
     "text": [
      "                                     SARIMAX Results                                     \n",
      "=========================================================================================\n",
      "Dep. Variable:                   daily_new_cases   No. Observations:                  250\n",
      "Model:             SARIMAX(1, 1, 2)x(1, 1, 2, 7)   Log Likelihood                 167.946\n",
      "Date:                           Mon, 08 Mar 2021   AIC                           -319.893\n",
      "Time:                                   19:17:17   BIC                           -291.981\n",
      "Sample:                               03-01-2020   HQIC                          -308.649\n",
      "                                    - 11-05-2020                                         \n",
      "Covariance Type:                             opg                                         \n",
      "==============================================================================\n",
      "                 coef    std err          z      P>|z|      [0.025      0.975]\n",
      "------------------------------------------------------------------------------\n",
      "intercept     -0.0005      0.001     -0.875      0.381      -0.002       0.001\n",
      "ar.L1          0.9532      0.034     28.100      0.000       0.887       1.020\n",
      "ma.L1         -1.2220      0.048    -25.398      0.000      -1.316      -1.128\n",
      "ma.L2          0.3941      0.043      9.113      0.000       0.309       0.479\n",
      "ar.S.L7       -0.7713      0.268     -2.882      0.004      -1.296      -0.247\n",
      "ma.S.L7       -0.1701      0.302     -0.563      0.573      -0.762       0.422\n",
      "ma.S.L14      -0.5695      0.265     -2.151      0.031      -1.089      -0.051\n",
      "sigma2         0.0140      0.001     15.754      0.000       0.012       0.016\n",
      "===================================================================================\n",
      "Ljung-Box (L1) (Q):                   0.76   Jarque-Bera (JB):               102.19\n",
      "Prob(Q):                              0.38   Prob(JB):                         0.00\n",
      "Heteroskedasticity (H):               0.82   Skew:                             0.10\n",
      "Prob(H) (two-sided):                  0.37   Kurtosis:                         6.18\n",
      "===================================================================================\n",
      "\n",
      "Warnings:\n",
      "[1] Covariance matrix calculated using the outer product of gradients (complex-step).\n"
     ]
    }
   ],
   "source": [
    "# Fit model\n",
    "mod = sm.tsa.statespace.SARIMAX(training, trend='c', order=(1,1,2), seasonal_order=(1, 1, 2, 7))\n",
    "res = mod.fit(disp=False)\n",
    "print(res.summary())"
   ]
  },
  {
   "cell_type": "code",
   "execution_count": 65,
   "metadata": {},
   "outputs": [],
   "source": [
    "# # SARIMAX(1, 1, 2)x(1, 1, 2, 7)\n",
    "# mod = sm.tsa.statespace.SARIMAX(testing, trend='c', order=(1,1,1), seasonal_order=(1, 1, 2, 7))\n",
    "# res = mod.fit(disp=False)\n",
    "# print(res.summary())"
   ]
  },
  {
   "cell_type": "code",
   "execution_count": 120,
   "metadata": {},
   "outputs": [],
   "source": [
    "SARIMA_predictions = res.forecast(steps=10)\n",
    "SARIMA_new = pd.DataFrame(SARIMA_predictions)"
   ]
  },
  {
   "cell_type": "code",
   "execution_count": 121,
   "metadata": {},
   "outputs": [],
   "source": [
    "SARIMA_new\n",
    "for index, row in SARIMA_new.iterrows():\n",
    "    sarima_p = round(np.expm1(row[\"predicted_mean\"]))\n",
    "    SARIMA_new.at[index, \"sarima_model_new\"] = sarima_p"
   ]
  },
  {
   "cell_type": "code",
   "execution_count": 123,
   "metadata": {},
   "outputs": [
    {
     "data": {
      "text/plain": [
       "<AxesSubplot:>"
      ]
     },
     "execution_count": 123,
     "metadata": {},
     "output_type": "execute_result"
    },
    {
     "data": {
      "image/png": "[encoded data removed]",
      "text/plain": [
       "<Figure size 432x288 with 1 Axes>"
      ]
     },
     "metadata": {
      "needs_background": "light"
     },
     "output_type": "display_data"
    }
   ],
   "source": [
    "SARIMA_new.plot()"
   ]
  },
  {
   "cell_type": "code",
   "execution_count": 69,
   "metadata": {},
   "outputs": [],
   "source": [
    "observed = daily_new_cases[-122:]"
   ]
  },
  {
   "cell_type": "code",
   "execution_count": 70,
   "metadata": {},
   "outputs": [
    {
     "data": {
      "text/html": [
       "<div>\n",
       "<style scoped>\n",
       "    .dataframe tbody tr th:only-of-type {\n",
       "        vertical-align: middle;\n",
       "    }\n",
       "\n",
       "    .dataframe tbody tr th {\n",
       "        vertical-align: top;\n",
       "    }\n",
       "\n",
       "    .dataframe thead th {\n",
       "        text-align: right;\n",
       "    }\n",
       "</style>\n",
       "<table border=\"1\" class=\"dataframe\">\n",
       "  <thead>\n",
       "    <tr style=\"text-align: right;\">\n",
       "      <th></th>\n",
       "      <th>daily_new_cases</th>\n",
       "    </tr>\n",
       "    <tr>\n",
       "      <th>date</th>\n",
       "      <th></th>\n",
       "    </tr>\n",
       "  </thead>\n",
       "  <tbody>\n",
       "    <tr>\n",
       "      <th>11-06-2020</th>\n",
       "      <td>132823</td>\n",
       "    </tr>\n",
       "    <tr>\n",
       "      <th>11-07-2020</th>\n",
       "      <td>125932</td>\n",
       "    </tr>\n",
       "    <tr>\n",
       "      <th>11-08-2020</th>\n",
       "      <td>103416</td>\n",
       "    </tr>\n",
       "    <tr>\n",
       "      <th>11-09-2020</th>\n",
       "      <td>130441</td>\n",
       "    </tr>\n",
       "    <tr>\n",
       "      <th>11-10-2020</th>\n",
       "      <td>139750</td>\n",
       "    </tr>\n",
       "    <tr>\n",
       "      <th>...</th>\n",
       "      <td>...</td>\n",
       "    </tr>\n",
       "    <tr>\n",
       "      <th>03-03-2021</th>\n",
       "      <td>66714</td>\n",
       "    </tr>\n",
       "    <tr>\n",
       "      <th>03-04-2021</th>\n",
       "      <td>67415</td>\n",
       "    </tr>\n",
       "    <tr>\n",
       "      <th>03-05-2021</th>\n",
       "      <td>65682</td>\n",
       "    </tr>\n",
       "    <tr>\n",
       "      <th>03-06-2021</th>\n",
       "      <td>56606</td>\n",
       "    </tr>\n",
       "    <tr>\n",
       "      <th>03-07-2021</th>\n",
       "      <td>40336</td>\n",
       "    </tr>\n",
       "  </tbody>\n",
       "</table>\n",
       "<p>122 rows × 1 columns</p>\n",
       "</div>"
      ],
      "text/plain": [
       "            daily_new_cases\n",
       "date                       \n",
       "11-06-2020           132823\n",
       "11-07-2020           125932\n",
       "11-08-2020           103416\n",
       "11-09-2020           130441\n",
       "11-10-2020           139750\n",
       "...                     ...\n",
       "03-03-2021            66714\n",
       "03-04-2021            67415\n",
       "03-05-2021            65682\n",
       "03-06-2021            56606\n",
       "03-07-2021            40336\n",
       "\n",
       "[122 rows x 1 columns]"
      ]
     },
     "execution_count": 70,
     "metadata": {},
     "output_type": "execute_result"
    }
   ],
   "source": [
    "observed"
   ]
  },
  {
   "cell_type": "code",
   "execution_count": 71,
   "metadata": {},
   "outputs": [],
   "source": [
    "SARIMA_new.drop(columns={\"predicted_mean\"}, inplace=True)"
   ]
  },
  {
   "cell_type": "code",
   "execution_count": 72,
   "metadata": {},
   "outputs": [
    {
     "data": {
      "text/html": [
       "<div>\n",
       "<style scoped>\n",
       "    .dataframe tbody tr th:only-of-type {\n",
       "        vertical-align: middle;\n",
       "    }\n",
       "\n",
       "    .dataframe tbody tr th {\n",
       "        vertical-align: top;\n",
       "    }\n",
       "\n",
       "    .dataframe thead th {\n",
       "        text-align: right;\n",
       "    }\n",
       "</style>\n",
       "<table border=\"1\" class=\"dataframe\">\n",
       "  <thead>\n",
       "    <tr style=\"text-align: right;\">\n",
       "      <th></th>\n",
       "      <th>sarima_model_new</th>\n",
       "    </tr>\n",
       "  </thead>\n",
       "  <tbody>\n",
       "    <tr>\n",
       "      <th>2020-11-06</th>\n",
       "      <td>132637.0</td>\n",
       "    </tr>\n",
       "    <tr>\n",
       "      <th>2020-11-07</th>\n",
       "      <td>113038.0</td>\n",
       "    </tr>\n",
       "    <tr>\n",
       "      <th>2020-11-08</th>\n",
       "      <td>92340.0</td>\n",
       "    </tr>\n",
       "    <tr>\n",
       "      <th>2020-11-09</th>\n",
       "      <td>110110.0</td>\n",
       "    </tr>\n",
       "    <tr>\n",
       "      <th>2020-11-10</th>\n",
       "      <td>110578.0</td>\n",
       "    </tr>\n",
       "    <tr>\n",
       "      <th>2020-11-11</th>\n",
       "      <td>119502.0</td>\n",
       "    </tr>\n",
       "    <tr>\n",
       "      <th>2020-11-12</th>\n",
       "      <td>131461.0</td>\n",
       "    </tr>\n",
       "    <tr>\n",
       "      <th>2020-11-13</th>\n",
       "      <td>142108.0</td>\n",
       "    </tr>\n",
       "    <tr>\n",
       "      <th>2020-11-14</th>\n",
       "      <td>117395.0</td>\n",
       "    </tr>\n",
       "    <tr>\n",
       "      <th>2020-11-15</th>\n",
       "      <td>97346.0</td>\n",
       "    </tr>\n",
       "  </tbody>\n",
       "</table>\n",
       "</div>"
      ],
      "text/plain": [
       "            sarima_model_new\n",
       "2020-11-06          132637.0\n",
       "2020-11-07          113038.0\n",
       "2020-11-08           92340.0\n",
       "2020-11-09          110110.0\n",
       "2020-11-10          110578.0\n",
       "2020-11-11          119502.0\n",
       "2020-11-12          131461.0\n",
       "2020-11-13          142108.0\n",
       "2020-11-14          117395.0\n",
       "2020-11-15           97346.0"
      ]
     },
     "execution_count": 72,
     "metadata": {},
     "output_type": "execute_result"
    }
   ],
   "source": [
    "SARIMA_new"
   ]
  },
  {
   "cell_type": "code",
   "execution_count": 73,
   "metadata": {},
   "outputs": [
    {
     "data": {
      "text/plain": [
       "<AxesSubplot:>"
      ]
     },
     "execution_count": 73,
     "metadata": {},
     "output_type": "execute_result"
    },
    {
     "data": {
      "image/png": "[encoded data removed]",
      "text/plain": [
       "<Figure size 432x288 with 1 Axes>"
      ]
     },
     "metadata": {
      "needs_background": "light"
     },
     "output_type": "display_data"
    }
   ],
   "source": [
    "pd.merge(observed, SARIMA_new, left_index=True, right_index=True ).plot()"
   ]
  },
  {
   "cell_type": "code",
   "execution_count": 74,
   "metadata": {},
   "outputs": [
    {
     "data": {
      "text/html": [
       "<div>\n",
       "<style scoped>\n",
       "    .dataframe tbody tr th:only-of-type {\n",
       "        vertical-align: middle;\n",
       "    }\n",
       "\n",
       "    .dataframe tbody tr th {\n",
       "        vertical-align: top;\n",
       "    }\n",
       "\n",
       "    .dataframe thead th {\n",
       "        text-align: right;\n",
       "    }\n",
       "</style>\n",
       "<table border=\"1\" class=\"dataframe\">\n",
       "  <thead>\n",
       "    <tr style=\"text-align: right;\">\n",
       "      <th></th>\n",
       "      <th>daily_new_cases</th>\n",
       "    </tr>\n",
       "    <tr>\n",
       "      <th>date</th>\n",
       "      <th></th>\n",
       "    </tr>\n",
       "  </thead>\n",
       "  <tbody>\n",
       "    <tr>\n",
       "      <th>11-06-2020</th>\n",
       "      <td>132823</td>\n",
       "    </tr>\n",
       "    <tr>\n",
       "      <th>11-07-2020</th>\n",
       "      <td>125932</td>\n",
       "    </tr>\n",
       "    <tr>\n",
       "      <th>11-08-2020</th>\n",
       "      <td>103416</td>\n",
       "    </tr>\n",
       "    <tr>\n",
       "      <th>11-09-2020</th>\n",
       "      <td>130441</td>\n",
       "    </tr>\n",
       "    <tr>\n",
       "      <th>11-10-2020</th>\n",
       "      <td>139750</td>\n",
       "    </tr>\n",
       "    <tr>\n",
       "      <th>11-11-2020</th>\n",
       "      <td>142885</td>\n",
       "    </tr>\n",
       "    <tr>\n",
       "      <th>11-12-2020</th>\n",
       "      <td>163640</td>\n",
       "    </tr>\n",
       "    <tr>\n",
       "      <th>11-13-2020</th>\n",
       "      <td>181497</td>\n",
       "    </tr>\n",
       "    <tr>\n",
       "      <th>11-14-2020</th>\n",
       "      <td>159033</td>\n",
       "    </tr>\n",
       "    <tr>\n",
       "      <th>11-15-2020</th>\n",
       "      <td>135187</td>\n",
       "    </tr>\n",
       "  </tbody>\n",
       "</table>\n",
       "</div>"
      ],
      "text/plain": [
       "            daily_new_cases\n",
       "date                       \n",
       "11-06-2020           132823\n",
       "11-07-2020           125932\n",
       "11-08-2020           103416\n",
       "11-09-2020           130441\n",
       "11-10-2020           139750\n",
       "11-11-2020           142885\n",
       "11-12-2020           163640\n",
       "11-13-2020           181497\n",
       "11-14-2020           159033\n",
       "11-15-2020           135187"
      ]
     },
     "execution_count": 74,
     "metadata": {},
     "output_type": "execute_result"
    }
   ],
   "source": [
    "ten_day_observed = observed[:10]\n",
    "ten_day_observed"
   ]
  },
  {
   "cell_type": "code",
   "execution_count": 75,
   "metadata": {},
   "outputs": [
    {
     "data": {
      "text/html": [
       "<div>\n",
       "<style scoped>\n",
       "    .dataframe tbody tr th:only-of-type {\n",
       "        vertical-align: middle;\n",
       "    }\n",
       "\n",
       "    .dataframe tbody tr th {\n",
       "        vertical-align: top;\n",
       "    }\n",
       "\n",
       "    .dataframe thead th {\n",
       "        text-align: right;\n",
       "    }\n",
       "</style>\n",
       "<table border=\"1\" class=\"dataframe\">\n",
       "  <thead>\n",
       "    <tr style=\"text-align: right;\">\n",
       "      <th></th>\n",
       "      <th>sarima_model_new</th>\n",
       "    </tr>\n",
       "  </thead>\n",
       "  <tbody>\n",
       "    <tr>\n",
       "      <th>2020-11-06</th>\n",
       "      <td>132637.0</td>\n",
       "    </tr>\n",
       "    <tr>\n",
       "      <th>2020-11-07</th>\n",
       "      <td>113038.0</td>\n",
       "    </tr>\n",
       "    <tr>\n",
       "      <th>2020-11-08</th>\n",
       "      <td>92340.0</td>\n",
       "    </tr>\n",
       "    <tr>\n",
       "      <th>2020-11-09</th>\n",
       "      <td>110110.0</td>\n",
       "    </tr>\n",
       "    <tr>\n",
       "      <th>2020-11-10</th>\n",
       "      <td>110578.0</td>\n",
       "    </tr>\n",
       "    <tr>\n",
       "      <th>2020-11-11</th>\n",
       "      <td>119502.0</td>\n",
       "    </tr>\n",
       "    <tr>\n",
       "      <th>2020-11-12</th>\n",
       "      <td>131461.0</td>\n",
       "    </tr>\n",
       "    <tr>\n",
       "      <th>2020-11-13</th>\n",
       "      <td>142108.0</td>\n",
       "    </tr>\n",
       "    <tr>\n",
       "      <th>2020-11-14</th>\n",
       "      <td>117395.0</td>\n",
       "    </tr>\n",
       "    <tr>\n",
       "      <th>2020-11-15</th>\n",
       "      <td>97346.0</td>\n",
       "    </tr>\n",
       "  </tbody>\n",
       "</table>\n",
       "</div>"
      ],
      "text/plain": [
       "            sarima_model_new\n",
       "2020-11-06          132637.0\n",
       "2020-11-07          113038.0\n",
       "2020-11-08           92340.0\n",
       "2020-11-09          110110.0\n",
       "2020-11-10          110578.0\n",
       "2020-11-11          119502.0\n",
       "2020-11-12          131461.0\n",
       "2020-11-13          142108.0\n",
       "2020-11-14          117395.0\n",
       "2020-11-15           97346.0"
      ]
     },
     "execution_count": 75,
     "metadata": {},
     "output_type": "execute_result"
    }
   ],
   "source": [
    "first_ten_sarima = SARIMA_new[:10]\n",
    "first_ten_sarima"
   ]
  },
  {
   "cell_type": "code",
   "execution_count": 76,
   "metadata": {},
   "outputs": [
    {
     "data": {
      "text/plain": [
       "<AxesSubplot:>"
      ]
     },
     "execution_count": 76,
     "metadata": {},
     "output_type": "execute_result"
    },
    {
     "data": {
      "image/png": "[encoded data removed]",
      "text/plain": [
       "<Figure size 432x288 with 1 Axes>"
      ]
     },
     "metadata": {
      "needs_background": "light"
     },
     "output_type": "display_data"
    }
   ],
   "source": [
    "pd.merge(ten_day_observed, first_ten_sarima, left_index=True, right_index=True).plot()"
   ]
  },
  {
   "cell_type": "code",
   "execution_count": 77,
   "metadata": {},
   "outputs": [],
   "source": [
    "log_daily_new_cases = np.log(daily_new_cases)"
   ]
  },
  {
   "cell_type": "code",
   "execution_count": 78,
   "metadata": {},
   "outputs": [
    {
     "data": {
      "text/html": [
       "<div>\n",
       "<style scoped>\n",
       "    .dataframe tbody tr th:only-of-type {\n",
       "        vertical-align: middle;\n",
       "    }\n",
       "\n",
       "    .dataframe tbody tr th {\n",
       "        vertical-align: top;\n",
       "    }\n",
       "\n",
       "    .dataframe thead th {\n",
       "        text-align: right;\n",
       "    }\n",
       "</style>\n",
       "<table border=\"1\" class=\"dataframe\">\n",
       "  <thead>\n",
       "    <tr style=\"text-align: right;\">\n",
       "      <th></th>\n",
       "      <th>daily_new_cases</th>\n",
       "    </tr>\n",
       "    <tr>\n",
       "      <th>date</th>\n",
       "      <th></th>\n",
       "    </tr>\n",
       "  </thead>\n",
       "  <tbody>\n",
       "    <tr>\n",
       "      <th>03-01-2020</th>\n",
       "      <td>2.890372</td>\n",
       "    </tr>\n",
       "    <tr>\n",
       "      <th>03-02-2020</th>\n",
       "      <td>2.772589</td>\n",
       "    </tr>\n",
       "    <tr>\n",
       "      <th>03-03-2020</th>\n",
       "      <td>3.044522</td>\n",
       "    </tr>\n",
       "    <tr>\n",
       "      <th>03-04-2020</th>\n",
       "      <td>3.583519</td>\n",
       "    </tr>\n",
       "    <tr>\n",
       "      <th>03-05-2020</th>\n",
       "      <td>4.204693</td>\n",
       "    </tr>\n",
       "    <tr>\n",
       "      <th>...</th>\n",
       "      <td>...</td>\n",
       "    </tr>\n",
       "    <tr>\n",
       "      <th>03-03-2021</th>\n",
       "      <td>11.108170</td>\n",
       "    </tr>\n",
       "    <tr>\n",
       "      <th>03-04-2021</th>\n",
       "      <td>11.118623</td>\n",
       "    </tr>\n",
       "    <tr>\n",
       "      <th>03-05-2021</th>\n",
       "      <td>11.092580</td>\n",
       "    </tr>\n",
       "    <tr>\n",
       "      <th>03-06-2021</th>\n",
       "      <td>10.943870</td>\n",
       "    </tr>\n",
       "    <tr>\n",
       "      <th>03-07-2021</th>\n",
       "      <td>10.605000</td>\n",
       "    </tr>\n",
       "  </tbody>\n",
       "</table>\n",
       "<p>372 rows × 1 columns</p>\n",
       "</div>"
      ],
      "text/plain": [
       "            daily_new_cases\n",
       "date                       \n",
       "03-01-2020         2.890372\n",
       "03-02-2020         2.772589\n",
       "03-03-2020         3.044522\n",
       "03-04-2020         3.583519\n",
       "03-05-2020         4.204693\n",
       "...                     ...\n",
       "03-03-2021        11.108170\n",
       "03-04-2021        11.118623\n",
       "03-05-2021        11.092580\n",
       "03-06-2021        10.943870\n",
       "03-07-2021        10.605000\n",
       "\n",
       "[372 rows x 1 columns]"
      ]
     },
     "execution_count": 78,
     "metadata": {},
     "output_type": "execute_result"
    }
   ],
   "source": [
    "log_daily_new_cases"
   ]
  },
  {
   "cell_type": "code",
   "execution_count": 79,
   "metadata": {},
   "outputs": [
    {
     "name": "stdout",
     "output_type": "stream",
     "text": [
      "                                       SARIMAX Results                                        \n",
      "==============================================================================================\n",
      "Dep. Variable:                        daily_new_cases   No. Observations:                  250\n",
      "Model:             SARIMAX(1, 1, 1)x(1, 1, [1, 2], 7)   Log Likelihood                 145.051\n",
      "Date:                                Mon, 08 Mar 2021   AIC                           -276.102\n",
      "Time:                                        15:09:22   BIC                           -251.680\n",
      "Sample:                                    03-01-2020   HQIC                          -266.264\n",
      "                                         - 11-05-2020                                         \n",
      "Covariance Type:                                  opg                                         \n",
      "==============================================================================\n",
      "                 coef    std err          z      P>|z|      [0.025      0.975]\n",
      "------------------------------------------------------------------------------\n",
      "intercept     -0.0168      0.011     -1.577      0.115      -0.038       0.004\n",
      "ar.L1         -0.4036      0.339     -1.189      0.234      -1.069       0.262\n",
      "ma.L1          0.2651      0.356      0.745      0.456      -0.432       0.962\n",
      "ar.S.L7       -0.8530      0.133     -6.407      0.000      -1.114      -0.592\n",
      "ma.S.L7        0.1500      0.161      0.932      0.351      -0.165       0.465\n",
      "ma.S.L14      -0.4312      0.128     -3.381      0.001      -0.681      -0.181\n",
      "sigma2         0.0173      0.001     15.121      0.000       0.015       0.020\n",
      "===================================================================================\n",
      "Ljung-Box (L1) (Q):                   0.09   Jarque-Bera (JB):                70.80\n",
      "Prob(Q):                              0.76   Prob(JB):                         0.00\n",
      "Heteroskedasticity (H):               0.69   Skew:                            -0.12\n",
      "Prob(H) (two-sided):                  0.10   Kurtosis:                         5.64\n",
      "===================================================================================\n",
      "\n",
      "Warnings:\n",
      "[1] Covariance matrix calculated using the outer product of gradients (complex-step).\n"
     ]
    }
   ],
   "source": [
    "# # SARIMAX(1, 1, 2)x(1, 1, 2, 7)\n",
    "final_mod = sm.tsa.statespace.SARIMAX(log_daily_new_cases, trend='c', order=(1,1,1), seasonal_order=(1, 1, 2, 7))\n",
    "final_res = final_mod.fit(disp=False)\n",
    "print(res.summary())"
   ]
  },
  {
   "cell_type": "code",
   "execution_count": 80,
   "metadata": {},
   "outputs": [
    {
     "data": {
      "text/plain": [
       "2021-03-08    10.705861\n",
       "2021-03-09    10.728702\n",
       "2021-03-10    10.804016\n",
       "2021-03-11    10.814237\n",
       "2021-03-12    10.789336\n",
       "2021-03-13    10.633535\n",
       "2021-03-14    10.349572\n",
       "2021-03-15    10.420182\n",
       "2021-03-16    10.448373\n",
       "2021-03-17    10.503870\n",
       "Freq: D, Name: predicted_mean, dtype: float64"
      ]
     },
     "execution_count": 80,
     "metadata": {},
     "output_type": "execute_result"
    }
   ],
   "source": [
    "final_res.forecast(steps=10)"
   ]
  },
  {
   "cell_type": "code",
   "execution_count": 82,
   "metadata": {},
   "outputs": [
    {
     "data": {
      "text/html": [
       "<div>\n",
       "<style scoped>\n",
       "    .dataframe tbody tr th:only-of-type {\n",
       "        vertical-align: middle;\n",
       "    }\n",
       "\n",
       "    .dataframe tbody tr th {\n",
       "        vertical-align: top;\n",
       "    }\n",
       "\n",
       "    .dataframe thead th {\n",
       "        text-align: right;\n",
       "    }\n",
       "</style>\n",
       "<table border=\"1\" class=\"dataframe\">\n",
       "  <thead>\n",
       "    <tr style=\"text-align: right;\">\n",
       "      <th></th>\n",
       "      <th>predicted_mean</th>\n",
       "    </tr>\n",
       "  </thead>\n",
       "  <tbody>\n",
       "    <tr>\n",
       "      <th>2021-03-08</th>\n",
       "      <td>44616.0</td>\n",
       "    </tr>\n",
       "    <tr>\n",
       "      <th>2021-03-09</th>\n",
       "      <td>45646.0</td>\n",
       "    </tr>\n",
       "    <tr>\n",
       "      <th>2021-03-10</th>\n",
       "      <td>49217.0</td>\n",
       "    </tr>\n",
       "    <tr>\n",
       "      <th>2021-03-11</th>\n",
       "      <td>49723.0</td>\n",
       "    </tr>\n",
       "    <tr>\n",
       "      <th>2021-03-12</th>\n",
       "      <td>48500.0</td>\n",
       "    </tr>\n",
       "    <tr>\n",
       "      <th>2021-03-13</th>\n",
       "      <td>41503.0</td>\n",
       "    </tr>\n",
       "    <tr>\n",
       "      <th>2021-03-14</th>\n",
       "      <td>31243.0</td>\n",
       "    </tr>\n",
       "    <tr>\n",
       "      <th>2021-03-15</th>\n",
       "      <td>33529.0</td>\n",
       "    </tr>\n",
       "    <tr>\n",
       "      <th>2021-03-16</th>\n",
       "      <td>34487.0</td>\n",
       "    </tr>\n",
       "    <tr>\n",
       "      <th>2021-03-17</th>\n",
       "      <td>36455.0</td>\n",
       "    </tr>\n",
       "  </tbody>\n",
       "</table>\n",
       "</div>"
      ],
      "text/plain": [
       "            predicted_mean\n",
       "2021-03-08         44616.0\n",
       "2021-03-09         45646.0\n",
       "2021-03-10         49217.0\n",
       "2021-03-11         49723.0\n",
       "2021-03-12         48500.0\n",
       "2021-03-13         41503.0\n",
       "2021-03-14         31243.0\n",
       "2021-03-15         33529.0\n",
       "2021-03-16         34487.0\n",
       "2021-03-17         36455.0"
      ]
     },
     "execution_count": 82,
     "metadata": {},
     "output_type": "execute_result"
    }
   ],
   "source": [
    "next_ten_days_prediction_df = pd.DataFrame(round(np.expm1(final_res.forecast(steps=10))))\n",
    "next_ten_days_prediction_df"
   ]
  },
  {
   "cell_type": "code",
   "execution_count": 83,
   "metadata": {},
   "outputs": [
    {
     "data": {
      "text/plain": [
       "'2021-03-08'"
      ]
     },
     "execution_count": 83,
     "metadata": {},
     "output_type": "execute_result"
    }
   ],
   "source": [
    "today = dt.date.today().strftime(\"%Y-%m-%d\")\n",
    "today"
   ]
  },
  {
   "cell_type": "code",
   "execution_count": null,
   "metadata": {},
   "outputs": [],
   "source": []
  },
  {
   "cell_type": "code",
   "execution_count": 84,
   "metadata": {},
   "outputs": [],
   "source": [
    "next_ten_days_prediction_df.to_csv(f\"../data/{today}_ten_day_prediction.csv\", index_label=\"date\")"
   ]
  },
  {
   "cell_type": "code",
   "execution_count": 97,
   "metadata": {},
   "outputs": [],
   "source": [
    "next_ten_days_prediction_df.reset_index(inplace=True)\n",
    "next_ten_days_prediction_df.rename(columns={\"index\": \"date\"}, inplace=True)\n"
   ]
  },
  {
   "cell_type": "markdown",
   "metadata": {},
   "source": [
    "# Upload 10-Day Predictions to AWS RDS"
   ]
  },
  {
   "cell_type": "code",
   "execution_count": 98,
   "metadata": {},
   "outputs": [],
   "source": [
    "# Config Variables, and SQLalchemy\n",
    "from config import endpoint, username, password\n",
    "from sqlalchemy import create_engine\n",
    "\n",
    "engine = create_engine(f'postgresql://uscovid:{password}@{endpoint}/us_covid_db')\n",
    "connection = engine.connect()"
   ]
  },
  {
   "cell_type": "code",
   "execution_count": 99,
   "metadata": {},
   "outputs": [
    {
     "data": {
      "text/plain": [
       "<sqlalchemy.engine.result.ResultProxy at 0x2022c4ed988>"
      ]
     },
     "execution_count": 99,
     "metadata": {},
     "output_type": "execute_result"
    }
   ],
   "source": [
    "next_ten_days_prediction_df.to_sql('ten_day_prediction', index=False, if_exists='replace', con=connection)\n",
    "engine.execute('ALTER TABLE ten_day_prediction ADD PRIMARY KEY (date);')"
   ]
  },
  {
   "cell_type": "code",
   "execution_count": null,
   "metadata": {},
   "outputs": [],
   "source": []
  }
 ],
 "metadata": {
  "kernelspec": {
   "display_name": "Python 3",
   "language": "python",
   "name": "python3"
  },
  "language_info": {
   "codemirror_mode": {
    "name": "ipython",
    "version": 3
   },
   "file_extension": ".py",
   "mimetype": "text/x-python",
   "name": "python",
   "nbconvert_exporter": "python",
   "pygments_lexer": "ipython3",
   "version": "3.7.8"
  }
 },
 "nbformat": 4,
 "nbformat_minor": 4
}
