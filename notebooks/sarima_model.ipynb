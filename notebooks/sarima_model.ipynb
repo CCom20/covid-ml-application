{
 "cells": [
  {
   "cell_type": "code",
   "execution_count": 1,
   "metadata": {},
   "outputs": [],
   "source": [
    "# Articles\n",
    "# https://towardsdatascience.com/machine-learning-part-19-time-series-and-autoregressive-integrated-moving-average-model-arima-c1005347b0d7\n",
    "# https://machinelearningmastery.com/arima-for-time-series-forecasting-with-python/\n",
    "# https://towardsdatascience.com/time-series-forecasting-with-a-sarima-model-db051b7ae459\n",
    "# https://www.machinelearningplus.com/time-series/time-series-analysis-python/"
   ]
  },
  {
   "cell_type": "code",
   "execution_count": 2,
   "metadata": {},
   "outputs": [],
   "source": [
    "import numpy as np\n",
    "import pandas as pd\n",
    "import matplotlib.pyplot as plt\n",
    "import statsmodels.tsa\n",
    "from statsmodels.tsa.stattools import adfuller\n",
    "from statsmodels.tsa.arima_model import ARIMA\n",
    "import statsmodels.api as sm\n",
    "import datetime as dt\n",
    "from pandas.plotting import autocorrelation_plot\n",
    "from statsmodels.graphics.tsaplots import plot_acf, plot_pacf"
   ]
  },
  {
   "cell_type": "code",
   "execution_count": 3,
   "metadata": {},
   "outputs": [],
   "source": [
    "data = pd.read_csv(\"../data/state-daily-stats.csv\")\n",
    "data.drop(columns={\"Unnamed: 0\"}, inplace=True)"
   ]
  },
  {
   "cell_type": "code",
   "execution_count": 4,
   "metadata": {},
   "outputs": [],
   "source": [
    "for index, row in data.iterrows():\n",
    "    date = dt.datetime.strptime(row[\"date\"], \"%Y-%d-%m\")\n",
    "    date2 = dt.datetime.strftime(date, \"%m-%d-%Y\")\n",
    "    data.at[index, \"date\"] = date2"
   ]
  },
  {
   "cell_type": "code",
   "execution_count": 5,
   "metadata": {},
   "outputs": [],
   "source": [
    "data[\"date\"] = pd.to_datetime(data[\"date\"])\n",
    "daily_new_cases = pd.DataFrame(data[[\"date\",\"daily_new_cases\"]])"
   ]
  },
  {
   "cell_type": "code",
   "execution_count": 6,
   "metadata": {},
   "outputs": [
    {
     "data": {
      "text/html": [
       "<div>\n",
       "<style scoped>\n",
       "    .dataframe tbody tr th:only-of-type {\n",
       "        vertical-align: middle;\n",
       "    }\n",
       "\n",
       "    .dataframe tbody tr th {\n",
       "        vertical-align: top;\n",
       "    }\n",
       "\n",
       "    .dataframe thead th {\n",
       "        text-align: right;\n",
       "    }\n",
       "</style>\n",
       "<table border=\"1\" class=\"dataframe\">\n",
       "  <thead>\n",
       "    <tr style=\"text-align: right;\">\n",
       "      <th></th>\n",
       "      <th>date</th>\n",
       "      <th>daily_new_cases</th>\n",
       "    </tr>\n",
       "  </thead>\n",
       "  <tbody>\n",
       "    <tr>\n",
       "      <th>0</th>\n",
       "      <td>2020-01-21</td>\n",
       "      <td>1</td>\n",
       "    </tr>\n",
       "    <tr>\n",
       "      <th>1</th>\n",
       "      <td>2020-01-22</td>\n",
       "      <td>0</td>\n",
       "    </tr>\n",
       "    <tr>\n",
       "      <th>2</th>\n",
       "      <td>2020-01-23</td>\n",
       "      <td>0</td>\n",
       "    </tr>\n",
       "    <tr>\n",
       "      <th>3</th>\n",
       "      <td>2020-01-24</td>\n",
       "      <td>1</td>\n",
       "    </tr>\n",
       "    <tr>\n",
       "      <th>4</th>\n",
       "      <td>2020-01-25</td>\n",
       "      <td>1</td>\n",
       "    </tr>\n",
       "    <tr>\n",
       "      <th>...</th>\n",
       "      <td>...</td>\n",
       "      <td>...</td>\n",
       "    </tr>\n",
       "    <tr>\n",
       "      <th>406</th>\n",
       "      <td>2021-03-02</td>\n",
       "      <td>57789</td>\n",
       "    </tr>\n",
       "    <tr>\n",
       "      <th>407</th>\n",
       "      <td>2021-03-03</td>\n",
       "      <td>66714</td>\n",
       "    </tr>\n",
       "    <tr>\n",
       "      <th>408</th>\n",
       "      <td>2021-03-04</td>\n",
       "      <td>67415</td>\n",
       "    </tr>\n",
       "    <tr>\n",
       "      <th>409</th>\n",
       "      <td>2021-03-05</td>\n",
       "      <td>65682</td>\n",
       "    </tr>\n",
       "    <tr>\n",
       "      <th>410</th>\n",
       "      <td>2021-03-06</td>\n",
       "      <td>56606</td>\n",
       "    </tr>\n",
       "  </tbody>\n",
       "</table>\n",
       "<p>411 rows × 2 columns</p>\n",
       "</div>"
      ],
      "text/plain": [
       "          date  daily_new_cases\n",
       "0   2020-01-21                1\n",
       "1   2020-01-22                0\n",
       "2   2020-01-23                0\n",
       "3   2020-01-24                1\n",
       "4   2020-01-25                1\n",
       "..         ...              ...\n",
       "406 2021-03-02            57789\n",
       "407 2021-03-03            66714\n",
       "408 2021-03-04            67415\n",
       "409 2021-03-05            65682\n",
       "410 2021-03-06            56606\n",
       "\n",
       "[411 rows x 2 columns]"
      ]
     },
     "execution_count": 6,
     "metadata": {},
     "output_type": "execute_result"
    }
   ],
   "source": [
    "daily_new_cases"
   ]
  },
  {
   "cell_type": "code",
   "execution_count": 7,
   "metadata": {},
   "outputs": [
    {
     "name": "stderr",
     "output_type": "stream",
     "text": [
      "C:\\Users\\coled\\anaconda3\\envs\\PythonData\\lib\\site-packages\\pandas\\core\\indexing.py:1763: SettingWithCopyWarning: \n",
      "A value is trying to be set on a copy of a slice from a DataFrame.\n",
      "Try using .loc[row_indexer,col_indexer] = value instead\n",
      "\n",
      "See the caveats in the documentation: https://pandas.pydata.org/pandas-docs/stable/user_guide/indexing.html#returning-a-view-versus-a-copy\n",
      "  isetter(loc, value)\n"
     ]
    }
   ],
   "source": [
    "daily_new_cases = daily_new_cases[daily_new_cases[\"date\"] >= dt.datetime(2020,3,1)]\n",
    "for index, row in daily_new_cases.iterrows():\n",
    "    date = row[\"date\"]\n",
    "    new_date = dt.datetime.strftime(date, \"%m-%d-%Y\")\n",
    "    daily_new_cases.at[index, \"date\"] = new_date"
   ]
  },
  {
   "cell_type": "code",
   "execution_count": 8,
   "metadata": {},
   "outputs": [
    {
     "data": {
      "text/html": [
       "<div>\n",
       "<style scoped>\n",
       "    .dataframe tbody tr th:only-of-type {\n",
       "        vertical-align: middle;\n",
       "    }\n",
       "\n",
       "    .dataframe tbody tr th {\n",
       "        vertical-align: top;\n",
       "    }\n",
       "\n",
       "    .dataframe thead th {\n",
       "        text-align: right;\n",
       "    }\n",
       "</style>\n",
       "<table border=\"1\" class=\"dataframe\">\n",
       "  <thead>\n",
       "    <tr style=\"text-align: right;\">\n",
       "      <th></th>\n",
       "      <th>date</th>\n",
       "      <th>daily_new_cases</th>\n",
       "    </tr>\n",
       "  </thead>\n",
       "  <tbody>\n",
       "    <tr>\n",
       "      <th>40</th>\n",
       "      <td>03-01-2020</td>\n",
       "      <td>18</td>\n",
       "    </tr>\n",
       "    <tr>\n",
       "      <th>41</th>\n",
       "      <td>03-02-2020</td>\n",
       "      <td>16</td>\n",
       "    </tr>\n",
       "    <tr>\n",
       "      <th>42</th>\n",
       "      <td>03-03-2020</td>\n",
       "      <td>21</td>\n",
       "    </tr>\n",
       "    <tr>\n",
       "      <th>43</th>\n",
       "      <td>03-04-2020</td>\n",
       "      <td>36</td>\n",
       "    </tr>\n",
       "    <tr>\n",
       "      <th>44</th>\n",
       "      <td>03-05-2020</td>\n",
       "      <td>67</td>\n",
       "    </tr>\n",
       "    <tr>\n",
       "      <th>...</th>\n",
       "      <td>...</td>\n",
       "      <td>...</td>\n",
       "    </tr>\n",
       "    <tr>\n",
       "      <th>406</th>\n",
       "      <td>03-02-2021</td>\n",
       "      <td>57789</td>\n",
       "    </tr>\n",
       "    <tr>\n",
       "      <th>407</th>\n",
       "      <td>03-03-2021</td>\n",
       "      <td>66714</td>\n",
       "    </tr>\n",
       "    <tr>\n",
       "      <th>408</th>\n",
       "      <td>03-04-2021</td>\n",
       "      <td>67415</td>\n",
       "    </tr>\n",
       "    <tr>\n",
       "      <th>409</th>\n",
       "      <td>03-05-2021</td>\n",
       "      <td>65682</td>\n",
       "    </tr>\n",
       "    <tr>\n",
       "      <th>410</th>\n",
       "      <td>03-06-2021</td>\n",
       "      <td>56606</td>\n",
       "    </tr>\n",
       "  </tbody>\n",
       "</table>\n",
       "<p>371 rows × 2 columns</p>\n",
       "</div>"
      ],
      "text/plain": [
       "           date  daily_new_cases\n",
       "40   03-01-2020               18\n",
       "41   03-02-2020               16\n",
       "42   03-03-2020               21\n",
       "43   03-04-2020               36\n",
       "44   03-05-2020               67\n",
       "..          ...              ...\n",
       "406  03-02-2021            57789\n",
       "407  03-03-2021            66714\n",
       "408  03-04-2021            67415\n",
       "409  03-05-2021            65682\n",
       "410  03-06-2021            56606\n",
       "\n",
       "[371 rows x 2 columns]"
      ]
     },
     "execution_count": 8,
     "metadata": {},
     "output_type": "execute_result"
    }
   ],
   "source": [
    "daily_new_cases"
   ]
  },
  {
   "cell_type": "code",
   "execution_count": 9,
   "metadata": {},
   "outputs": [],
   "source": [
    "daily_new_cases.set_index(\"date\", inplace=True)"
   ]
  },
  {
   "cell_type": "code",
   "execution_count": 10,
   "metadata": {},
   "outputs": [
    {
     "data": {
      "text/plain": [
       "<AxesSubplot:xlabel='Lag', ylabel='Autocorrelation'>"
      ]
     },
     "execution_count": 10,
     "metadata": {},
     "output_type": "execute_result"
    },
    {
     "data": {
      "image/png": "[encoded data removed]",
      "text/plain": [
       "<Figure size 432x288 with 1 Axes>"
      ]
     },
     "metadata": {
      "needs_background": "light"
     },
     "output_type": "display_data"
    }
   ],
   "source": [
    "autocorrelation_plot(daily_new_cases)"
   ]
  },
  {
   "cell_type": "code",
   "execution_count": 11,
   "metadata": {},
   "outputs": [],
   "source": [
    "test_df = np.log(daily_new_cases)\n",
    "test_df.fillna(0, inplace=True)"
   ]
  },
  {
   "cell_type": "code",
   "execution_count": 12,
   "metadata": {},
   "outputs": [
    {
     "data": {
      "image/png": "[encoded data removed]",
      "text/plain": [
       "<Figure size 432x288 with 1 Axes>"
      ]
     },
     "metadata": {
      "needs_background": "light"
     },
     "output_type": "display_data"
    },
    {
     "data": {
      "image/png": "[encoded data removed]",
      "text/plain": [
       "<Figure size 432x288 with 1 Axes>"
      ]
     },
     "metadata": {
      "needs_background": "light"
     },
     "output_type": "display_data"
    }
   ],
   "source": [
    "ACF = plot_acf(test_df)\n",
    "PACF = plot_pacf(test_df)"
   ]
  },
  {
   "cell_type": "code",
   "execution_count": 13,
   "metadata": {},
   "outputs": [
    {
     "name": "stdout",
     "output_type": "stream",
     "text": [
      "ADF Statistic: -3.3284240313071094\n",
      "p-value: 0.013654753190020665\n"
     ]
    }
   ],
   "source": [
    "result = adfuller(test_df, autolag='AIC')\n",
    "print(f'ADF Statistic: {result[0]}')\n",
    "print(f'p-value: {result[1]}')"
   ]
  },
  {
   "cell_type": "code",
   "execution_count": 14,
   "metadata": {},
   "outputs": [],
   "source": [
    "training = test_df[:250]\n",
    "testing = test_df[250:]"
   ]
  },
  {
   "cell_type": "code",
   "execution_count": 16,
   "metadata": {},
   "outputs": [
    {
     "data": {
      "text/html": [
       "<div>\n",
       "<style scoped>\n",
       "    .dataframe tbody tr th:only-of-type {\n",
       "        vertical-align: middle;\n",
       "    }\n",
       "\n",
       "    .dataframe tbody tr th {\n",
       "        vertical-align: top;\n",
       "    }\n",
       "\n",
       "    .dataframe thead th {\n",
       "        text-align: right;\n",
       "    }\n",
       "</style>\n",
       "<table border=\"1\" class=\"dataframe\">\n",
       "  <thead>\n",
       "    <tr style=\"text-align: right;\">\n",
       "      <th></th>\n",
       "      <th>daily_new_cases</th>\n",
       "    </tr>\n",
       "    <tr>\n",
       "      <th>date</th>\n",
       "      <th></th>\n",
       "    </tr>\n",
       "  </thead>\n",
       "  <tbody>\n",
       "    <tr>\n",
       "      <th>11-06-2020</th>\n",
       "      <td>11.796773</td>\n",
       "    </tr>\n",
       "    <tr>\n",
       "      <th>11-07-2020</th>\n",
       "      <td>11.743497</td>\n",
       "    </tr>\n",
       "    <tr>\n",
       "      <th>11-08-2020</th>\n",
       "      <td>11.546515</td>\n",
       "    </tr>\n",
       "    <tr>\n",
       "      <th>11-09-2020</th>\n",
       "      <td>11.778676</td>\n",
       "    </tr>\n",
       "    <tr>\n",
       "      <th>11-10-2020</th>\n",
       "      <td>11.847610</td>\n",
       "    </tr>\n",
       "    <tr>\n",
       "      <th>...</th>\n",
       "      <td>...</td>\n",
       "    </tr>\n",
       "    <tr>\n",
       "      <th>03-02-2021</th>\n",
       "      <td>10.964554</td>\n",
       "    </tr>\n",
       "    <tr>\n",
       "      <th>03-03-2021</th>\n",
       "      <td>11.108170</td>\n",
       "    </tr>\n",
       "    <tr>\n",
       "      <th>03-04-2021</th>\n",
       "      <td>11.118623</td>\n",
       "    </tr>\n",
       "    <tr>\n",
       "      <th>03-05-2021</th>\n",
       "      <td>11.092580</td>\n",
       "    </tr>\n",
       "    <tr>\n",
       "      <th>03-06-2021</th>\n",
       "      <td>10.943870</td>\n",
       "    </tr>\n",
       "  </tbody>\n",
       "</table>\n",
       "<p>121 rows × 1 columns</p>\n",
       "</div>"
      ],
      "text/plain": [
       "            daily_new_cases\n",
       "date                       \n",
       "11-06-2020        11.796773\n",
       "11-07-2020        11.743497\n",
       "11-08-2020        11.546515\n",
       "11-09-2020        11.778676\n",
       "11-10-2020        11.847610\n",
       "...                     ...\n",
       "03-02-2021        10.964554\n",
       "03-03-2021        11.108170\n",
       "03-04-2021        11.118623\n",
       "03-05-2021        11.092580\n",
       "03-06-2021        10.943870\n",
       "\n",
       "[121 rows x 1 columns]"
      ]
     },
     "execution_count": 16,
     "metadata": {},
     "output_type": "execute_result"
    }
   ],
   "source": [
    "testing"
   ]
  },
  {
   "cell_type": "code",
   "execution_count": null,
   "metadata": {},
   "outputs": [],
   "source": [
    "import warnings\n",
    "warnings.filterwarnings(\"ignore\") # specify to ignore warning messages\n",
    "\n",
    "model = ARIMA(training, order=(1,1,2))\n",
    "model_fit = model.fit(disp=0)\n",
    "print(model_fit.summary())"
   ]
  },
  {
   "cell_type": "code",
   "execution_count": null,
   "metadata": {},
   "outputs": [],
   "source": [
    "residuals = pd.DataFrame(model_fit.resid)\n",
    "residuals.plot(title=\"Residuals\")\n",
    "plt.show()"
   ]
  },
  {
   "cell_type": "code",
   "execution_count": null,
   "metadata": {},
   "outputs": [],
   "source": [
    "model_fit.plot_predict()\n",
    "plt.show()"
   ]
  },
  {
   "cell_type": "code",
   "execution_count": null,
   "metadata": {},
   "outputs": [],
   "source": [
    "model_1_pred = model_fit.predict(start=\"2020-11-06\") "
   ]
  },
  {
   "cell_type": "code",
   "execution_count": null,
   "metadata": {},
   "outputs": [],
   "source": [
    "for x in model_1_pred:\n",
    "    print(x)"
   ]
  },
  {
   "cell_type": "markdown",
   "metadata": {},
   "source": [
    "### ARIMA / SARMIA Testing"
   ]
  },
  {
   "cell_type": "code",
   "execution_count": null,
   "metadata": {},
   "outputs": [],
   "source": [
    "import pmdarima as pm"
   ]
  },
  {
   "cell_type": "code",
   "execution_count": null,
   "metadata": {},
   "outputs": [],
   "source": [
    "amodel = pm.auto_arima(training, start_p=1, start_q=1,\n",
    "                      test='adf',       # use adftest to find optimal 'd'\n",
    "                      max_p=3, max_q=3, # maximum p and q\n",
    "                      m=7,              # frequency of series\n",
    "                      d=None,           # let model determine 'd'\n",
    "                      seasonal=False,   # No Seasonality\n",
    "                      start_P=0, \n",
    "                      D=0, \n",
    "                      trace=True,\n",
    "                      error_action='ignore',  \n",
    "                      suppress_warnings=True, \n",
    "                      stepwise=True)\n",
    "\n",
    "print(amodel.summary())"
   ]
  },
  {
   "cell_type": "code",
   "execution_count": null,
   "metadata": {},
   "outputs": [],
   "source": [
    "amodel.plot_diagnostics(figsize=(20,5))\n",
    "plt.show()"
   ]
  },
  {
   "cell_type": "code",
   "execution_count": null,
   "metadata": {},
   "outputs": [],
   "source": [
    "n_periods = 119\n",
    "arima_predictions = amodel.predict(n_periods=n_periods)"
   ]
  },
  {
   "cell_type": "code",
   "execution_count": null,
   "metadata": {},
   "outputs": [],
   "source": [
    "arima = []\n",
    "for x in arima_predictions:\n",
    "    p = np.expm1(x)\n",
    "    arima.append(round(p))\n",
    "    \n",
    "arima"
   ]
  },
  {
   "cell_type": "code",
   "execution_count": null,
   "metadata": {},
   "outputs": [],
   "source": [
    "arima_df = pd.DataFrame(arima)\n",
    "arima_df.rename(columns={0: \"arima_model\"}, inplace=True)"
   ]
  },
  {
   "cell_type": "code",
   "execution_count": null,
   "metadata": {},
   "outputs": [],
   "source": [
    "testing"
   ]
  },
  {
   "cell_type": "code",
   "execution_count": null,
   "metadata": {},
   "outputs": [],
   "source": [
    "arima_analysis = testing.reset_index()\n",
    "\n",
    "for index, row in arima_analysis.iterrows():\n",
    "    x = row[1]\n",
    "    arima_analysis.at[index, \"original_daily\"] = np.expm1(x)"
   ]
  },
  {
   "cell_type": "code",
   "execution_count": null,
   "metadata": {},
   "outputs": [],
   "source": [
    "arima_analysis = pd.merge(arima_analysis, arima_df, left_index=True, right_index=True)\n",
    "arima_analysis.set_index(\"date\", inplace=True)\n",
    "arima_analysis.drop(columns=\"daily_new_cases\", inplace=True)"
   ]
  },
  {
   "cell_type": "code",
   "execution_count": null,
   "metadata": {},
   "outputs": [],
   "source": [
    "arima_analysis.plot()"
   ]
  },
  {
   "cell_type": "code",
   "execution_count": null,
   "metadata": {},
   "outputs": [],
   "source": [
    "arima_analysis.plot(figsize=(20, 7))"
   ]
  },
  {
   "cell_type": "markdown",
   "metadata": {},
   "source": [
    "## SARIMA Model: Grid Search"
   ]
  },
  {
   "cell_type": "code",
   "execution_count": null,
   "metadata": {
    "scrolled": false
   },
   "outputs": [],
   "source": [
    "# Seasonal - fit stepwise auto-ARIMA\n",
    "smodel = pm.auto_arima(training, start_p=1, start_q=1,\n",
    "                         test='adf',\n",
    "                         max_p=3, max_q=3, m=7,\n",
    "                         start_P=0, seasonal=True,\n",
    "                         d=None, D=1, trace=True,\n",
    "                         error_action='ignore',  \n",
    "                         suppress_warnings=True, \n",
    "                         stepwise=True)\n",
    "\n",
    "smodel.summary()"
   ]
  },
  {
   "cell_type": "code",
   "execution_count": null,
   "metadata": {},
   "outputs": [],
   "source": [
    "n_periods = 120\n",
    "predictions_seasonal = smodel.predict(n_periods=n_periods)"
   ]
  },
  {
   "cell_type": "code",
   "execution_count": null,
   "metadata": {},
   "outputs": [],
   "source": [
    "pd.DataFrame(predictions_seasonal).plot()"
   ]
  },
  {
   "cell_type": "code",
   "execution_count": null,
   "metadata": {},
   "outputs": [],
   "source": [
    "arima_analysis"
   ]
  },
  {
   "cell_type": "code",
   "execution_count": null,
   "metadata": {},
   "outputs": [],
   "source": []
  },
  {
   "cell_type": "code",
   "execution_count": null,
   "metadata": {},
   "outputs": [],
   "source": []
  },
  {
   "cell_type": "code",
   "execution_count": null,
   "metadata": {},
   "outputs": [],
   "source": [
    "predictions_list = []\n",
    "\n",
    "for x in predictions_seasonal:\n",
    "    prediction = np.expm1(x)\n",
    "    predictions_list.append(round(prediction))"
   ]
  },
  {
   "cell_type": "code",
   "execution_count": null,
   "metadata": {},
   "outputs": [],
   "source": [
    "sarima_model = pd.DataFrame(predictions_list)\n",
    "sarima_model.rename(columns={0:\"sarima_model\"}, inplace=True)"
   ]
  },
  {
   "cell_type": "code",
   "execution_count": null,
   "metadata": {},
   "outputs": [],
   "source": [
    "sarima_model"
   ]
  },
  {
   "cell_type": "code",
   "execution_count": null,
   "metadata": {},
   "outputs": [],
   "source": [
    "arima_analysis.reset_index(inplace=True)"
   ]
  },
  {
   "cell_type": "code",
   "execution_count": null,
   "metadata": {},
   "outputs": [],
   "source": [
    "model_analyses = pd.merge(arima_analysis, sarima_model, left_index=True, right_index=True)\n",
    "model_analyses.drop(columns={\"index\"}, inplace=True)"
   ]
  },
  {
   "cell_type": "code",
   "execution_count": null,
   "metadata": {},
   "outputs": [],
   "source": [
    "model_analyses[:30].plot()"
   ]
  },
  {
   "cell_type": "markdown",
   "metadata": {},
   "source": [
    "# Finalized Model Below - DO NOT DELET"
   ]
  },
  {
   "cell_type": "markdown",
   "metadata": {},
   "source": [
    "**Fit model to all data**"
   ]
  },
  {
   "cell_type": "code",
   "execution_count": 25,
   "metadata": {},
   "outputs": [
    {
     "data": {
      "text/html": [
       "<div>\n",
       "<style scoped>\n",
       "    .dataframe tbody tr th:only-of-type {\n",
       "        vertical-align: middle;\n",
       "    }\n",
       "\n",
       "    .dataframe tbody tr th {\n",
       "        vertical-align: top;\n",
       "    }\n",
       "\n",
       "    .dataframe thead th {\n",
       "        text-align: right;\n",
       "    }\n",
       "</style>\n",
       "<table border=\"1\" class=\"dataframe\">\n",
       "  <thead>\n",
       "    <tr style=\"text-align: right;\">\n",
       "      <th></th>\n",
       "      <th>daily_new_cases</th>\n",
       "    </tr>\n",
       "    <tr>\n",
       "      <th>date</th>\n",
       "      <th></th>\n",
       "    </tr>\n",
       "  </thead>\n",
       "  <tbody>\n",
       "    <tr>\n",
       "      <th>03-01-2020</th>\n",
       "      <td>2.890372</td>\n",
       "    </tr>\n",
       "    <tr>\n",
       "      <th>03-02-2020</th>\n",
       "      <td>2.772589</td>\n",
       "    </tr>\n",
       "    <tr>\n",
       "      <th>03-03-2020</th>\n",
       "      <td>3.044522</td>\n",
       "    </tr>\n",
       "    <tr>\n",
       "      <th>03-04-2020</th>\n",
       "      <td>3.583519</td>\n",
       "    </tr>\n",
       "    <tr>\n",
       "      <th>03-05-2020</th>\n",
       "      <td>4.204693</td>\n",
       "    </tr>\n",
       "    <tr>\n",
       "      <th>...</th>\n",
       "      <td>...</td>\n",
       "    </tr>\n",
       "    <tr>\n",
       "      <th>11-01-2020</th>\n",
       "      <td>11.214452</td>\n",
       "    </tr>\n",
       "    <tr>\n",
       "      <th>11-02-2020</th>\n",
       "      <td>11.451188</td>\n",
       "    </tr>\n",
       "    <tr>\n",
       "      <th>11-03-2020</th>\n",
       "      <td>11.434055</td>\n",
       "    </tr>\n",
       "    <tr>\n",
       "      <th>11-04-2020</th>\n",
       "      <td>11.590627</td>\n",
       "    </tr>\n",
       "    <tr>\n",
       "      <th>11-05-2020</th>\n",
       "      <td>11.706294</td>\n",
       "    </tr>\n",
       "  </tbody>\n",
       "</table>\n",
       "<p>250 rows × 1 columns</p>\n",
       "</div>"
      ],
      "text/plain": [
       "            daily_new_cases\n",
       "date                       \n",
       "03-01-2020         2.890372\n",
       "03-02-2020         2.772589\n",
       "03-03-2020         3.044522\n",
       "03-04-2020         3.583519\n",
       "03-05-2020         4.204693\n",
       "...                     ...\n",
       "11-01-2020        11.214452\n",
       "11-02-2020        11.451188\n",
       "11-03-2020        11.434055\n",
       "11-04-2020        11.590627\n",
       "11-05-2020        11.706294\n",
       "\n",
       "[250 rows x 1 columns]"
      ]
     },
     "execution_count": 25,
     "metadata": {},
     "output_type": "execute_result"
    }
   ],
   "source": [
    "# Take the log of all the data to make it stationary\n",
    "training "
   ]
  },
  {
   "cell_type": "code",
   "execution_count": 26,
   "metadata": {},
   "outputs": [
    {
     "name": "stderr",
     "output_type": "stream",
     "text": [
      "C:\\Users\\coled\\anaconda3\\envs\\PythonData\\lib\\site-packages\\statsmodels\\tsa\\base\\tsa_model.py:527: ValueWarning: No frequency information was provided, so inferred frequency D will be used.\n",
      "  % freq, ValueWarning)\n",
      "C:\\Users\\coled\\anaconda3\\envs\\PythonData\\lib\\site-packages\\statsmodels\\tsa\\base\\tsa_model.py:527: ValueWarning: No frequency information was provided, so inferred frequency D will be used.\n",
      "  % freq, ValueWarning)\n"
     ]
    },
    {
     "name": "stdout",
     "output_type": "stream",
     "text": [
      "                                       SARIMAX Results                                        \n",
      "==============================================================================================\n",
      "Dep. Variable:                        daily_new_cases   No. Observations:                  250\n",
      "Model:             SARIMAX(1, 1, 1)x(1, 1, [1, 2], 7)   Log Likelihood                 145.051\n",
      "Date:                                Sun, 07 Mar 2021   AIC                           -276.102\n",
      "Time:                                        18:04:26   BIC                           -251.680\n",
      "Sample:                                    03-01-2020   HQIC                          -266.264\n",
      "                                         - 11-05-2020                                         \n",
      "Covariance Type:                                  opg                                         \n",
      "==============================================================================\n",
      "                 coef    std err          z      P>|z|      [0.025      0.975]\n",
      "------------------------------------------------------------------------------\n",
      "intercept     -0.0168      0.011     -1.577      0.115      -0.038       0.004\n",
      "ar.L1         -0.4036      0.339     -1.189      0.234      -1.069       0.262\n",
      "ma.L1          0.2651      0.356      0.745      0.456      -0.432       0.962\n",
      "ar.S.L7       -0.8530      0.133     -6.407      0.000      -1.114      -0.592\n",
      "ma.S.L7        0.1500      0.161      0.932      0.351      -0.165       0.465\n",
      "ma.S.L14      -0.4312      0.128     -3.381      0.001      -0.681      -0.181\n",
      "sigma2         0.0173      0.001     15.121      0.000       0.015       0.020\n",
      "===================================================================================\n",
      "Ljung-Box (L1) (Q):                   0.09   Jarque-Bera (JB):                70.80\n",
      "Prob(Q):                              0.76   Prob(JB):                         0.00\n",
      "Heteroskedasticity (H):               0.69   Skew:                            -0.12\n",
      "Prob(H) (two-sided):                  0.10   Kurtosis:                         5.64\n",
      "===================================================================================\n",
      "\n",
      "Warnings:\n",
      "[1] Covariance matrix calculated using the outer product of gradients (complex-step).\n"
     ]
    },
    {
     "name": "stderr",
     "output_type": "stream",
     "text": [
      "C:\\Users\\coled\\anaconda3\\envs\\PythonData\\lib\\site-packages\\statsmodels\\base\\model.py:568: ConvergenceWarning: Maximum Likelihood optimization failed to converge. Check mle_retvals\n",
      "  ConvergenceWarning)\n"
     ]
    }
   ],
   "source": [
    "# Fit model\n",
    "mod = sm.tsa.statespace.SARIMAX(training, trend='c', order=(1,1,1), seasonal_order=(1, 1, 2, 7))\n",
    "res = mod.fit(disp=False)\n",
    "print(res.summary())"
   ]
  },
  {
   "cell_type": "code",
   "execution_count": 28,
   "metadata": {},
   "outputs": [
    {
     "data": {
      "text/html": [
       "<div>\n",
       "<style scoped>\n",
       "    .dataframe tbody tr th:only-of-type {\n",
       "        vertical-align: middle;\n",
       "    }\n",
       "\n",
       "    .dataframe tbody tr th {\n",
       "        vertical-align: top;\n",
       "    }\n",
       "\n",
       "    .dataframe thead th {\n",
       "        text-align: right;\n",
       "    }\n",
       "</style>\n",
       "<table border=\"1\" class=\"dataframe\">\n",
       "  <thead>\n",
       "    <tr style=\"text-align: right;\">\n",
       "      <th></th>\n",
       "      <th>daily_new_cases</th>\n",
       "    </tr>\n",
       "    <tr>\n",
       "      <th>date</th>\n",
       "      <th></th>\n",
       "    </tr>\n",
       "  </thead>\n",
       "  <tbody>\n",
       "    <tr>\n",
       "      <th>03-01-2020</th>\n",
       "      <td>2.890372</td>\n",
       "    </tr>\n",
       "    <tr>\n",
       "      <th>03-02-2020</th>\n",
       "      <td>2.772589</td>\n",
       "    </tr>\n",
       "    <tr>\n",
       "      <th>03-03-2020</th>\n",
       "      <td>3.044522</td>\n",
       "    </tr>\n",
       "    <tr>\n",
       "      <th>03-04-2020</th>\n",
       "      <td>3.583519</td>\n",
       "    </tr>\n",
       "    <tr>\n",
       "      <th>03-05-2020</th>\n",
       "      <td>4.204693</td>\n",
       "    </tr>\n",
       "    <tr>\n",
       "      <th>...</th>\n",
       "      <td>...</td>\n",
       "    </tr>\n",
       "    <tr>\n",
       "      <th>11-01-2020</th>\n",
       "      <td>11.214452</td>\n",
       "    </tr>\n",
       "    <tr>\n",
       "      <th>11-02-2020</th>\n",
       "      <td>11.451188</td>\n",
       "    </tr>\n",
       "    <tr>\n",
       "      <th>11-03-2020</th>\n",
       "      <td>11.434055</td>\n",
       "    </tr>\n",
       "    <tr>\n",
       "      <th>11-04-2020</th>\n",
       "      <td>11.590627</td>\n",
       "    </tr>\n",
       "    <tr>\n",
       "      <th>11-05-2020</th>\n",
       "      <td>11.706294</td>\n",
       "    </tr>\n",
       "  </tbody>\n",
       "</table>\n",
       "<p>250 rows × 1 columns</p>\n",
       "</div>"
      ],
      "text/plain": [
       "            daily_new_cases\n",
       "date                       \n",
       "03-01-2020         2.890372\n",
       "03-02-2020         2.772589\n",
       "03-03-2020         3.044522\n",
       "03-04-2020         3.583519\n",
       "03-05-2020         4.204693\n",
       "...                     ...\n",
       "11-01-2020        11.214452\n",
       "11-02-2020        11.451188\n",
       "11-03-2020        11.434055\n",
       "11-04-2020        11.590627\n",
       "11-05-2020        11.706294\n",
       "\n",
       "[250 rows x 1 columns]"
      ]
     },
     "execution_count": 28,
     "metadata": {},
     "output_type": "execute_result"
    }
   ],
   "source": [
    "training"
   ]
  },
  {
   "cell_type": "code",
   "execution_count": 29,
   "metadata": {},
   "outputs": [],
   "source": [
    "# # SARIMAX(1, 1, 2)x(1, 1, 2, 7)\n",
    "# mod = sm.tsa.statespace.SARIMAX(testing, trend='c', order=(1,1,1), seasonal_order=(1, 1, 2, 7))\n",
    "# res = mod.fit(disp=False)\n",
    "# print(res.summary())"
   ]
  },
  {
   "cell_type": "code",
   "execution_count": 30,
   "metadata": {},
   "outputs": [],
   "source": [
    "SARIMA_predictions = res.forecast(steps=10)\n",
    "SARIMA_new = pd.DataFrame(SARIMA_predictions)"
   ]
  },
  {
   "cell_type": "code",
   "execution_count": 31,
   "metadata": {},
   "outputs": [],
   "source": [
    "SARIMA_new\n",
    "for index, row in SARIMA_new.iterrows():\n",
    "    sarima_p = round(np.expm1(row[\"predicted_mean\"]))\n",
    "    SARIMA_new.at[index, \"sarima_model_new\"] = sarima_p"
   ]
  },
  {
   "cell_type": "code",
   "execution_count": 32,
   "metadata": {},
   "outputs": [
    {
     "data": {
      "text/html": [
       "<div>\n",
       "<style scoped>\n",
       "    .dataframe tbody tr th:only-of-type {\n",
       "        vertical-align: middle;\n",
       "    }\n",
       "\n",
       "    .dataframe tbody tr th {\n",
       "        vertical-align: top;\n",
       "    }\n",
       "\n",
       "    .dataframe thead th {\n",
       "        text-align: right;\n",
       "    }\n",
       "</style>\n",
       "<table border=\"1\" class=\"dataframe\">\n",
       "  <thead>\n",
       "    <tr style=\"text-align: right;\">\n",
       "      <th></th>\n",
       "      <th>predicted_mean</th>\n",
       "      <th>sarima_model_new</th>\n",
       "    </tr>\n",
       "  </thead>\n",
       "  <tbody>\n",
       "    <tr>\n",
       "      <th>2020-11-06</th>\n",
       "      <td>11.795380</td>\n",
       "      <td>132637.0</td>\n",
       "    </tr>\n",
       "    <tr>\n",
       "      <th>2020-11-07</th>\n",
       "      <td>11.635491</td>\n",
       "      <td>113038.0</td>\n",
       "    </tr>\n",
       "    <tr>\n",
       "      <th>2020-11-08</th>\n",
       "      <td>11.433248</td>\n",
       "      <td>92340.0</td>\n",
       "    </tr>\n",
       "    <tr>\n",
       "      <th>2020-11-09</th>\n",
       "      <td>11.609240</td>\n",
       "      <td>110110.0</td>\n",
       "    </tr>\n",
       "    <tr>\n",
       "      <th>2020-11-10</th>\n",
       "      <td>11.613486</td>\n",
       "      <td>110578.0</td>\n",
       "    </tr>\n",
       "    <tr>\n",
       "      <th>2020-11-11</th>\n",
       "      <td>11.691096</td>\n",
       "      <td>119502.0</td>\n",
       "    </tr>\n",
       "    <tr>\n",
       "      <th>2020-11-12</th>\n",
       "      <td>11.786473</td>\n",
       "      <td>131461.0</td>\n",
       "    </tr>\n",
       "    <tr>\n",
       "      <th>2020-11-13</th>\n",
       "      <td>11.864352</td>\n",
       "      <td>142108.0</td>\n",
       "    </tr>\n",
       "    <tr>\n",
       "      <th>2020-11-14</th>\n",
       "      <td>11.673311</td>\n",
       "      <td>117395.0</td>\n",
       "    </tr>\n",
       "    <tr>\n",
       "      <th>2020-11-15</th>\n",
       "      <td>11.486036</td>\n",
       "      <td>97346.0</td>\n",
       "    </tr>\n",
       "  </tbody>\n",
       "</table>\n",
       "</div>"
      ],
      "text/plain": [
       "            predicted_mean  sarima_model_new\n",
       "2020-11-06       11.795380          132637.0\n",
       "2020-11-07       11.635491          113038.0\n",
       "2020-11-08       11.433248           92340.0\n",
       "2020-11-09       11.609240          110110.0\n",
       "2020-11-10       11.613486          110578.0\n",
       "2020-11-11       11.691096          119502.0\n",
       "2020-11-12       11.786473          131461.0\n",
       "2020-11-13       11.864352          142108.0\n",
       "2020-11-14       11.673311          117395.0\n",
       "2020-11-15       11.486036           97346.0"
      ]
     },
     "execution_count": 32,
     "metadata": {},
     "output_type": "execute_result"
    }
   ],
   "source": [
    "SARIMA_new"
   ]
  },
  {
   "cell_type": "code",
   "execution_count": 33,
   "metadata": {},
   "outputs": [],
   "source": [
    "observed = daily_new_cases[-121:]"
   ]
  },
  {
   "cell_type": "code",
   "execution_count": 34,
   "metadata": {},
   "outputs": [
    {
     "data": {
      "text/html": [
       "<div>\n",
       "<style scoped>\n",
       "    .dataframe tbody tr th:only-of-type {\n",
       "        vertical-align: middle;\n",
       "    }\n",
       "\n",
       "    .dataframe tbody tr th {\n",
       "        vertical-align: top;\n",
       "    }\n",
       "\n",
       "    .dataframe thead th {\n",
       "        text-align: right;\n",
       "    }\n",
       "</style>\n",
       "<table border=\"1\" class=\"dataframe\">\n",
       "  <thead>\n",
       "    <tr style=\"text-align: right;\">\n",
       "      <th></th>\n",
       "      <th>daily_new_cases</th>\n",
       "    </tr>\n",
       "    <tr>\n",
       "      <th>date</th>\n",
       "      <th></th>\n",
       "    </tr>\n",
       "  </thead>\n",
       "  <tbody>\n",
       "    <tr>\n",
       "      <th>11-06-2020</th>\n",
       "      <td>132823</td>\n",
       "    </tr>\n",
       "    <tr>\n",
       "      <th>11-07-2020</th>\n",
       "      <td>125932</td>\n",
       "    </tr>\n",
       "    <tr>\n",
       "      <th>11-08-2020</th>\n",
       "      <td>103416</td>\n",
       "    </tr>\n",
       "    <tr>\n",
       "      <th>11-09-2020</th>\n",
       "      <td>130441</td>\n",
       "    </tr>\n",
       "    <tr>\n",
       "      <th>11-10-2020</th>\n",
       "      <td>139750</td>\n",
       "    </tr>\n",
       "    <tr>\n",
       "      <th>...</th>\n",
       "      <td>...</td>\n",
       "    </tr>\n",
       "    <tr>\n",
       "      <th>03-02-2021</th>\n",
       "      <td>57789</td>\n",
       "    </tr>\n",
       "    <tr>\n",
       "      <th>03-03-2021</th>\n",
       "      <td>66714</td>\n",
       "    </tr>\n",
       "    <tr>\n",
       "      <th>03-04-2021</th>\n",
       "      <td>67415</td>\n",
       "    </tr>\n",
       "    <tr>\n",
       "      <th>03-05-2021</th>\n",
       "      <td>65682</td>\n",
       "    </tr>\n",
       "    <tr>\n",
       "      <th>03-06-2021</th>\n",
       "      <td>56606</td>\n",
       "    </tr>\n",
       "  </tbody>\n",
       "</table>\n",
       "<p>121 rows × 1 columns</p>\n",
       "</div>"
      ],
      "text/plain": [
       "            daily_new_cases\n",
       "date                       \n",
       "11-06-2020           132823\n",
       "11-07-2020           125932\n",
       "11-08-2020           103416\n",
       "11-09-2020           130441\n",
       "11-10-2020           139750\n",
       "...                     ...\n",
       "03-02-2021            57789\n",
       "03-03-2021            66714\n",
       "03-04-2021            67415\n",
       "03-05-2021            65682\n",
       "03-06-2021            56606\n",
       "\n",
       "[121 rows x 1 columns]"
      ]
     },
     "execution_count": 34,
     "metadata": {},
     "output_type": "execute_result"
    }
   ],
   "source": [
    "observed"
   ]
  },
  {
   "cell_type": "code",
   "execution_count": 35,
   "metadata": {},
   "outputs": [],
   "source": [
    "SARIMA_new.drop(columns={\"predicted_mean\"}, inplace=True)"
   ]
  },
  {
   "cell_type": "code",
   "execution_count": 36,
   "metadata": {},
   "outputs": [
    {
     "data": {
      "text/html": [
       "<div>\n",
       "<style scoped>\n",
       "    .dataframe tbody tr th:only-of-type {\n",
       "        vertical-align: middle;\n",
       "    }\n",
       "\n",
       "    .dataframe tbody tr th {\n",
       "        vertical-align: top;\n",
       "    }\n",
       "\n",
       "    .dataframe thead th {\n",
       "        text-align: right;\n",
       "    }\n",
       "</style>\n",
       "<table border=\"1\" class=\"dataframe\">\n",
       "  <thead>\n",
       "    <tr style=\"text-align: right;\">\n",
       "      <th></th>\n",
       "      <th>sarima_model_new</th>\n",
       "    </tr>\n",
       "  </thead>\n",
       "  <tbody>\n",
       "    <tr>\n",
       "      <th>2020-11-06</th>\n",
       "      <td>132637.0</td>\n",
       "    </tr>\n",
       "    <tr>\n",
       "      <th>2020-11-07</th>\n",
       "      <td>113038.0</td>\n",
       "    </tr>\n",
       "    <tr>\n",
       "      <th>2020-11-08</th>\n",
       "      <td>92340.0</td>\n",
       "    </tr>\n",
       "    <tr>\n",
       "      <th>2020-11-09</th>\n",
       "      <td>110110.0</td>\n",
       "    </tr>\n",
       "    <tr>\n",
       "      <th>2020-11-10</th>\n",
       "      <td>110578.0</td>\n",
       "    </tr>\n",
       "    <tr>\n",
       "      <th>2020-11-11</th>\n",
       "      <td>119502.0</td>\n",
       "    </tr>\n",
       "    <tr>\n",
       "      <th>2020-11-12</th>\n",
       "      <td>131461.0</td>\n",
       "    </tr>\n",
       "    <tr>\n",
       "      <th>2020-11-13</th>\n",
       "      <td>142108.0</td>\n",
       "    </tr>\n",
       "    <tr>\n",
       "      <th>2020-11-14</th>\n",
       "      <td>117395.0</td>\n",
       "    </tr>\n",
       "    <tr>\n",
       "      <th>2020-11-15</th>\n",
       "      <td>97346.0</td>\n",
       "    </tr>\n",
       "  </tbody>\n",
       "</table>\n",
       "</div>"
      ],
      "text/plain": [
       "            sarima_model_new\n",
       "2020-11-06          132637.0\n",
       "2020-11-07          113038.0\n",
       "2020-11-08           92340.0\n",
       "2020-11-09          110110.0\n",
       "2020-11-10          110578.0\n",
       "2020-11-11          119502.0\n",
       "2020-11-12          131461.0\n",
       "2020-11-13          142108.0\n",
       "2020-11-14          117395.0\n",
       "2020-11-15           97346.0"
      ]
     },
     "execution_count": 36,
     "metadata": {},
     "output_type": "execute_result"
    }
   ],
   "source": [
    "SARIMA_new"
   ]
  },
  {
   "cell_type": "code",
   "execution_count": 37,
   "metadata": {},
   "outputs": [
    {
     "data": {
      "text/plain": [
       "<AxesSubplot:>"
      ]
     },
     "execution_count": 37,
     "metadata": {},
     "output_type": "execute_result"
    },
    {
     "data": {
      "image/png": "[encoded data removed]",
      "text/plain": [
       "<Figure size 432x288 with 1 Axes>"
      ]
     },
     "metadata": {
      "needs_background": "light"
     },
     "output_type": "display_data"
    }
   ],
   "source": [
    "pd.merge(observed, SARIMA_new, left_index=True, right_index=True ).plot()"
   ]
  },
  {
   "cell_type": "code",
   "execution_count": 38,
   "metadata": {},
   "outputs": [
    {
     "data": {
      "text/html": [
       "<div>\n",
       "<style scoped>\n",
       "    .dataframe tbody tr th:only-of-type {\n",
       "        vertical-align: middle;\n",
       "    }\n",
       "\n",
       "    .dataframe tbody tr th {\n",
       "        vertical-align: top;\n",
       "    }\n",
       "\n",
       "    .dataframe thead th {\n",
       "        text-align: right;\n",
       "    }\n",
       "</style>\n",
       "<table border=\"1\" class=\"dataframe\">\n",
       "  <thead>\n",
       "    <tr style=\"text-align: right;\">\n",
       "      <th></th>\n",
       "      <th>daily_new_cases</th>\n",
       "    </tr>\n",
       "    <tr>\n",
       "      <th>date</th>\n",
       "      <th></th>\n",
       "    </tr>\n",
       "  </thead>\n",
       "  <tbody>\n",
       "    <tr>\n",
       "      <th>11-06-2020</th>\n",
       "      <td>132823</td>\n",
       "    </tr>\n",
       "    <tr>\n",
       "      <th>11-07-2020</th>\n",
       "      <td>125932</td>\n",
       "    </tr>\n",
       "    <tr>\n",
       "      <th>11-08-2020</th>\n",
       "      <td>103416</td>\n",
       "    </tr>\n",
       "    <tr>\n",
       "      <th>11-09-2020</th>\n",
       "      <td>130441</td>\n",
       "    </tr>\n",
       "    <tr>\n",
       "      <th>11-10-2020</th>\n",
       "      <td>139750</td>\n",
       "    </tr>\n",
       "    <tr>\n",
       "      <th>11-11-2020</th>\n",
       "      <td>142885</td>\n",
       "    </tr>\n",
       "    <tr>\n",
       "      <th>11-12-2020</th>\n",
       "      <td>163640</td>\n",
       "    </tr>\n",
       "    <tr>\n",
       "      <th>11-13-2020</th>\n",
       "      <td>181497</td>\n",
       "    </tr>\n",
       "    <tr>\n",
       "      <th>11-14-2020</th>\n",
       "      <td>159033</td>\n",
       "    </tr>\n",
       "    <tr>\n",
       "      <th>11-15-2020</th>\n",
       "      <td>135187</td>\n",
       "    </tr>\n",
       "  </tbody>\n",
       "</table>\n",
       "</div>"
      ],
      "text/plain": [
       "            daily_new_cases\n",
       "date                       \n",
       "11-06-2020           132823\n",
       "11-07-2020           125932\n",
       "11-08-2020           103416\n",
       "11-09-2020           130441\n",
       "11-10-2020           139750\n",
       "11-11-2020           142885\n",
       "11-12-2020           163640\n",
       "11-13-2020           181497\n",
       "11-14-2020           159033\n",
       "11-15-2020           135187"
      ]
     },
     "execution_count": 38,
     "metadata": {},
     "output_type": "execute_result"
    }
   ],
   "source": [
    "ten_day_observed = observed[:10]\n",
    "ten_day_observed"
   ]
  },
  {
   "cell_type": "code",
   "execution_count": 39,
   "metadata": {},
   "outputs": [
    {
     "data": {
      "text/html": [
       "<div>\n",
       "<style scoped>\n",
       "    .dataframe tbody tr th:only-of-type {\n",
       "        vertical-align: middle;\n",
       "    }\n",
       "\n",
       "    .dataframe tbody tr th {\n",
       "        vertical-align: top;\n",
       "    }\n",
       "\n",
       "    .dataframe thead th {\n",
       "        text-align: right;\n",
       "    }\n",
       "</style>\n",
       "<table border=\"1\" class=\"dataframe\">\n",
       "  <thead>\n",
       "    <tr style=\"text-align: right;\">\n",
       "      <th></th>\n",
       "      <th>sarima_model_new</th>\n",
       "    </tr>\n",
       "  </thead>\n",
       "  <tbody>\n",
       "    <tr>\n",
       "      <th>2020-11-06</th>\n",
       "      <td>132637.0</td>\n",
       "    </tr>\n",
       "    <tr>\n",
       "      <th>2020-11-07</th>\n",
       "      <td>113038.0</td>\n",
       "    </tr>\n",
       "    <tr>\n",
       "      <th>2020-11-08</th>\n",
       "      <td>92340.0</td>\n",
       "    </tr>\n",
       "    <tr>\n",
       "      <th>2020-11-09</th>\n",
       "      <td>110110.0</td>\n",
       "    </tr>\n",
       "    <tr>\n",
       "      <th>2020-11-10</th>\n",
       "      <td>110578.0</td>\n",
       "    </tr>\n",
       "    <tr>\n",
       "      <th>2020-11-11</th>\n",
       "      <td>119502.0</td>\n",
       "    </tr>\n",
       "    <tr>\n",
       "      <th>2020-11-12</th>\n",
       "      <td>131461.0</td>\n",
       "    </tr>\n",
       "    <tr>\n",
       "      <th>2020-11-13</th>\n",
       "      <td>142108.0</td>\n",
       "    </tr>\n",
       "    <tr>\n",
       "      <th>2020-11-14</th>\n",
       "      <td>117395.0</td>\n",
       "    </tr>\n",
       "    <tr>\n",
       "      <th>2020-11-15</th>\n",
       "      <td>97346.0</td>\n",
       "    </tr>\n",
       "  </tbody>\n",
       "</table>\n",
       "</div>"
      ],
      "text/plain": [
       "            sarima_model_new\n",
       "2020-11-06          132637.0\n",
       "2020-11-07          113038.0\n",
       "2020-11-08           92340.0\n",
       "2020-11-09          110110.0\n",
       "2020-11-10          110578.0\n",
       "2020-11-11          119502.0\n",
       "2020-11-12          131461.0\n",
       "2020-11-13          142108.0\n",
       "2020-11-14          117395.0\n",
       "2020-11-15           97346.0"
      ]
     },
     "execution_count": 39,
     "metadata": {},
     "output_type": "execute_result"
    }
   ],
   "source": [
    "first_ten_sarima = SARIMA_new[:10]\n",
    "first_ten_sarima"
   ]
  },
  {
   "cell_type": "code",
   "execution_count": 40,
   "metadata": {},
   "outputs": [
    {
     "data": {
      "text/plain": [
       "<AxesSubplot:>"
      ]
     },
     "execution_count": 40,
     "metadata": {},
     "output_type": "execute_result"
    },
    {
     "data": {
      "image/png": "[encoded data removed]",
      "text/plain": [
       "<Figure size 432x288 with 1 Axes>"
      ]
     },
     "metadata": {
      "needs_background": "light"
     },
     "output_type": "display_data"
    }
   ],
   "source": [
    "pd.merge(ten_day_observed, first_ten_sarima, left_index=True, right_index=True).plot()"
   ]
  },
  {
   "cell_type": "code",
   "execution_count": 41,
   "metadata": {},
   "outputs": [],
   "source": [
    "log_daily_new_cases = np.log(daily_new_cases)"
   ]
  },
  {
   "cell_type": "code",
   "execution_count": 42,
   "metadata": {},
   "outputs": [
    {
     "data": {
      "text/html": [
       "<div>\n",
       "<style scoped>\n",
       "    .dataframe tbody tr th:only-of-type {\n",
       "        vertical-align: middle;\n",
       "    }\n",
       "\n",
       "    .dataframe tbody tr th {\n",
       "        vertical-align: top;\n",
       "    }\n",
       "\n",
       "    .dataframe thead th {\n",
       "        text-align: right;\n",
       "    }\n",
       "</style>\n",
       "<table border=\"1\" class=\"dataframe\">\n",
       "  <thead>\n",
       "    <tr style=\"text-align: right;\">\n",
       "      <th></th>\n",
       "      <th>daily_new_cases</th>\n",
       "    </tr>\n",
       "    <tr>\n",
       "      <th>date</th>\n",
       "      <th></th>\n",
       "    </tr>\n",
       "  </thead>\n",
       "  <tbody>\n",
       "    <tr>\n",
       "      <th>03-01-2020</th>\n",
       "      <td>2.890372</td>\n",
       "    </tr>\n",
       "    <tr>\n",
       "      <th>03-02-2020</th>\n",
       "      <td>2.772589</td>\n",
       "    </tr>\n",
       "    <tr>\n",
       "      <th>03-03-2020</th>\n",
       "      <td>3.044522</td>\n",
       "    </tr>\n",
       "    <tr>\n",
       "      <th>03-04-2020</th>\n",
       "      <td>3.583519</td>\n",
       "    </tr>\n",
       "    <tr>\n",
       "      <th>03-05-2020</th>\n",
       "      <td>4.204693</td>\n",
       "    </tr>\n",
       "    <tr>\n",
       "      <th>...</th>\n",
       "      <td>...</td>\n",
       "    </tr>\n",
       "    <tr>\n",
       "      <th>03-02-2021</th>\n",
       "      <td>10.964554</td>\n",
       "    </tr>\n",
       "    <tr>\n",
       "      <th>03-03-2021</th>\n",
       "      <td>11.108170</td>\n",
       "    </tr>\n",
       "    <tr>\n",
       "      <th>03-04-2021</th>\n",
       "      <td>11.118623</td>\n",
       "    </tr>\n",
       "    <tr>\n",
       "      <th>03-05-2021</th>\n",
       "      <td>11.092580</td>\n",
       "    </tr>\n",
       "    <tr>\n",
       "      <th>03-06-2021</th>\n",
       "      <td>10.943870</td>\n",
       "    </tr>\n",
       "  </tbody>\n",
       "</table>\n",
       "<p>371 rows × 1 columns</p>\n",
       "</div>"
      ],
      "text/plain": [
       "            daily_new_cases\n",
       "date                       \n",
       "03-01-2020         2.890372\n",
       "03-02-2020         2.772589\n",
       "03-03-2020         3.044522\n",
       "03-04-2020         3.583519\n",
       "03-05-2020         4.204693\n",
       "...                     ...\n",
       "03-02-2021        10.964554\n",
       "03-03-2021        11.108170\n",
       "03-04-2021        11.118623\n",
       "03-05-2021        11.092580\n",
       "03-06-2021        10.943870\n",
       "\n",
       "[371 rows x 1 columns]"
      ]
     },
     "execution_count": 42,
     "metadata": {},
     "output_type": "execute_result"
    }
   ],
   "source": [
    "log_daily_new_cases"
   ]
  },
  {
   "cell_type": "code",
   "execution_count": 48,
   "metadata": {},
   "outputs": [
    {
     "name": "stderr",
     "output_type": "stream",
     "text": [
      "C:\\Users\\coled\\anaconda3\\envs\\PythonData\\lib\\site-packages\\statsmodels\\tsa\\base\\tsa_model.py:527: ValueWarning: No frequency information was provided, so inferred frequency D will be used.\n",
      "  % freq, ValueWarning)\n",
      "C:\\Users\\coled\\anaconda3\\envs\\PythonData\\lib\\site-packages\\statsmodels\\tsa\\base\\tsa_model.py:527: ValueWarning: No frequency information was provided, so inferred frequency D will be used.\n",
      "  % freq, ValueWarning)\n"
     ]
    },
    {
     "name": "stdout",
     "output_type": "stream",
     "text": [
      "                                       SARIMAX Results                                        \n",
      "==============================================================================================\n",
      "Dep. Variable:                        daily_new_cases   No. Observations:                  250\n",
      "Model:             SARIMAX(1, 1, 1)x(1, 1, [1, 2], 7)   Log Likelihood                 145.051\n",
      "Date:                                Sun, 07 Mar 2021   AIC                           -276.102\n",
      "Time:                                        18:10:01   BIC                           -251.680\n",
      "Sample:                                    03-01-2020   HQIC                          -266.264\n",
      "                                         - 11-05-2020                                         \n",
      "Covariance Type:                                  opg                                         \n",
      "==============================================================================\n",
      "                 coef    std err          z      P>|z|      [0.025      0.975]\n",
      "------------------------------------------------------------------------------\n",
      "intercept     -0.0168      0.011     -1.577      0.115      -0.038       0.004\n",
      "ar.L1         -0.4036      0.339     -1.189      0.234      -1.069       0.262\n",
      "ma.L1          0.2651      0.356      0.745      0.456      -0.432       0.962\n",
      "ar.S.L7       -0.8530      0.133     -6.407      0.000      -1.114      -0.592\n",
      "ma.S.L7        0.1500      0.161      0.932      0.351      -0.165       0.465\n",
      "ma.S.L14      -0.4312      0.128     -3.381      0.001      -0.681      -0.181\n",
      "sigma2         0.0173      0.001     15.121      0.000       0.015       0.020\n",
      "===================================================================================\n",
      "Ljung-Box (L1) (Q):                   0.09   Jarque-Bera (JB):                70.80\n",
      "Prob(Q):                              0.76   Prob(JB):                         0.00\n",
      "Heteroskedasticity (H):               0.69   Skew:                            -0.12\n",
      "Prob(H) (two-sided):                  0.10   Kurtosis:                         5.64\n",
      "===================================================================================\n",
      "\n",
      "Warnings:\n",
      "[1] Covariance matrix calculated using the outer product of gradients (complex-step).\n"
     ]
    },
    {
     "name": "stderr",
     "output_type": "stream",
     "text": [
      "C:\\Users\\coled\\anaconda3\\envs\\PythonData\\lib\\site-packages\\statsmodels\\base\\model.py:568: ConvergenceWarning: Maximum Likelihood optimization failed to converge. Check mle_retvals\n",
      "  ConvergenceWarning)\n"
     ]
    }
   ],
   "source": [
    "# # SARIMAX(1, 1, 2)x(1, 1, 2, 7)\n",
    "final_mod = sm.tsa.statespace.SARIMAX(log_daily_new_cases, trend='c', order=(1,1,1), seasonal_order=(1, 1, 2, 7))\n",
    "final_res = final_mod.fit(disp=False)\n",
    "print(res.summary())"
   ]
  },
  {
   "cell_type": "code",
   "execution_count": 49,
   "metadata": {},
   "outputs": [
    {
     "data": {
      "text/plain": [
       "2021-03-07    10.701466\n",
       "2021-03-08    10.765168\n",
       "2021-03-09    10.799076\n",
       "2021-03-10    10.866094\n",
       "2021-03-11    10.879217\n",
       "2021-03-12    10.853179\n",
       "2021-03-13    10.695271\n",
       "2021-03-14    10.449313\n",
       "2021-03-15    10.498899\n",
       "2021-03-16    10.535021\n",
       "Freq: D, Name: predicted_mean, dtype: float64"
      ]
     },
     "execution_count": 49,
     "metadata": {},
     "output_type": "execute_result"
    }
   ],
   "source": [
    "final_res.forecast(steps=10)"
   ]
  },
  {
   "cell_type": "code",
   "execution_count": 51,
   "metadata": {},
   "outputs": [
    {
     "data": {
      "text/plain": [
       "<AxesSubplot:>"
      ]
     },
     "execution_count": 51,
     "metadata": {},
     "output_type": "execute_result"
    },
    {
     "data": {
      "image/png": "[encoded data removed]",
      "text/plain": [
       "<Figure size 432x288 with 1 Axes>"
      ]
     },
     "metadata": {
      "needs_background": "light"
     },
     "output_type": "display_data"
    }
   ],
   "source": [
    "next_ten_days_prediction_df = pd.DataFrame(round(np.expm1(final_res.forecast(steps=10))))\n",
    "next_ten_days_prediction_df.plot()"
   ]
  },
  {
   "cell_type": "code",
   "execution_count": 52,
   "metadata": {},
   "outputs": [
    {
     "data": {
      "text/plain": [
       "'2021-03-07'"
      ]
     },
     "execution_count": 52,
     "metadata": {},
     "output_type": "execute_result"
    }
   ],
   "source": [
    "today = dt.date.today().strftime(\"%Y-%m-%d\")\n",
    "today"
   ]
  },
  {
   "cell_type": "code",
   "execution_count": null,
   "metadata": {},
   "outputs": [],
   "source": []
  },
  {
   "cell_type": "code",
   "execution_count": 53,
   "metadata": {},
   "outputs": [],
   "source": [
    "next_ten_days_prediction_df.to_csv(f\"../data/{today}_ten_day_prediction.csv\", index_label=\"date\")"
   ]
  },
  {
   "cell_type": "code",
   "execution_count": 54,
   "metadata": {},
   "outputs": [
    {
     "data": {
      "text/html": [
       "<div>\n",
       "<style scoped>\n",
       "    .dataframe tbody tr th:only-of-type {\n",
       "        vertical-align: middle;\n",
       "    }\n",
       "\n",
       "    .dataframe tbody tr th {\n",
       "        vertical-align: top;\n",
       "    }\n",
       "\n",
       "    .dataframe thead th {\n",
       "        text-align: right;\n",
       "    }\n",
       "</style>\n",
       "<table border=\"1\" class=\"dataframe\">\n",
       "  <thead>\n",
       "    <tr style=\"text-align: right;\">\n",
       "      <th></th>\n",
       "      <th>predicted_mean</th>\n",
       "    </tr>\n",
       "  </thead>\n",
       "  <tbody>\n",
       "    <tr>\n",
       "      <th>2021-03-07</th>\n",
       "      <td>44420.0</td>\n",
       "    </tr>\n",
       "    <tr>\n",
       "      <th>2021-03-08</th>\n",
       "      <td>47342.0</td>\n",
       "    </tr>\n",
       "    <tr>\n",
       "      <th>2021-03-09</th>\n",
       "      <td>48975.0</td>\n",
       "    </tr>\n",
       "    <tr>\n",
       "      <th>2021-03-10</th>\n",
       "      <td>52369.0</td>\n",
       "    </tr>\n",
       "    <tr>\n",
       "      <th>2021-03-11</th>\n",
       "      <td>53061.0</td>\n",
       "    </tr>\n",
       "    <tr>\n",
       "      <th>2021-03-12</th>\n",
       "      <td>51697.0</td>\n",
       "    </tr>\n",
       "    <tr>\n",
       "      <th>2021-03-13</th>\n",
       "      <td>44146.0</td>\n",
       "    </tr>\n",
       "    <tr>\n",
       "      <th>2021-03-14</th>\n",
       "      <td>34520.0</td>\n",
       "    </tr>\n",
       "    <tr>\n",
       "      <th>2021-03-15</th>\n",
       "      <td>36275.0</td>\n",
       "    </tr>\n",
       "    <tr>\n",
       "      <th>2021-03-16</th>\n",
       "      <td>37609.0</td>\n",
       "    </tr>\n",
       "  </tbody>\n",
       "</table>\n",
       "</div>"
      ],
      "text/plain": [
       "            predicted_mean\n",
       "2021-03-07         44420.0\n",
       "2021-03-08         47342.0\n",
       "2021-03-09         48975.0\n",
       "2021-03-10         52369.0\n",
       "2021-03-11         53061.0\n",
       "2021-03-12         51697.0\n",
       "2021-03-13         44146.0\n",
       "2021-03-14         34520.0\n",
       "2021-03-15         36275.0\n",
       "2021-03-16         37609.0"
      ]
     },
     "execution_count": 54,
     "metadata": {},
     "output_type": "execute_result"
    }
   ],
   "source": [
    "next_ten_days_prediction_df"
   ]
  },
  {
   "cell_type": "code",
   "execution_count": 55,
   "metadata": {},
   "outputs": [],
   "source": [
    "check = pd.read_csv(\"../data/state-daily-stats.csv\", parse_dates=['date'])"
   ]
  },
  {
   "cell_type": "code",
   "execution_count": 56,
   "metadata": {},
   "outputs": [],
   "source": [
    "check = check.loc[check[\"date\"] == \"2021-06-03\"]"
   ]
  },
  {
   "cell_type": "code",
   "execution_count": 57,
   "metadata": {},
   "outputs": [
    {
     "data": {
      "text/html": [
       "<div>\n",
       "<style scoped>\n",
       "    .dataframe tbody tr th:only-of-type {\n",
       "        vertical-align: middle;\n",
       "    }\n",
       "\n",
       "    .dataframe tbody tr th {\n",
       "        vertical-align: top;\n",
       "    }\n",
       "\n",
       "    .dataframe thead th {\n",
       "        text-align: right;\n",
       "    }\n",
       "</style>\n",
       "<table border=\"1\" class=\"dataframe\">\n",
       "  <thead>\n",
       "    <tr style=\"text-align: right;\">\n",
       "      <th></th>\n",
       "      <th>Unnamed: 0</th>\n",
       "      <th>date</th>\n",
       "      <th>fips</th>\n",
       "      <th>cases</th>\n",
       "      <th>deaths</th>\n",
       "      <th>daily_new_cases</th>\n",
       "      <th>daily_new_deaths</th>\n",
       "      <th>3_month_immunity_est</th>\n",
       "      <th>6_month_immunity_est</th>\n",
       "    </tr>\n",
       "  </thead>\n",
       "  <tbody>\n",
       "    <tr>\n",
       "      <th>410</th>\n",
       "      <td>410</td>\n",
       "      <td>2021-06-03</td>\n",
       "      <td>1762</td>\n",
       "      <td>28993824</td>\n",
       "      <td>523970</td>\n",
       "      <td>56606</td>\n",
       "      <td>1459</td>\n",
       "      <td>16039328.0</td>\n",
       "      <td>23062894.0</td>\n",
       "    </tr>\n",
       "  </tbody>\n",
       "</table>\n",
       "</div>"
      ],
      "text/plain": [
       "     Unnamed: 0        date  fips     cases  deaths  daily_new_cases  \\\n",
       "410         410  2021-06-03  1762  28993824  523970            56606   \n",
       "\n",
       "     daily_new_deaths  3_month_immunity_est  6_month_immunity_est  \n",
       "410              1459            16039328.0            23062894.0  "
      ]
     },
     "execution_count": 57,
     "metadata": {},
     "output_type": "execute_result"
    }
   ],
   "source": [
    "check"
   ]
  },
  {
   "cell_type": "code",
   "execution_count": null,
   "metadata": {},
   "outputs": [],
   "source": []
  }
 ],
 "metadata": {
  "kernelspec": {
   "display_name": "Python 3",
   "language": "python",
   "name": "python3"
  },
  "language_info": {
   "codemirror_mode": {
    "name": "ipython",
    "version": 3
   },
   "file_extension": ".py",
   "mimetype": "text/x-python",
   "name": "python",
   "nbconvert_exporter": "python",
   "pygments_lexer": "ipython3",
   "version": "3.7.8"
  }
 },
 "nbformat": 4,
 "nbformat_minor": 4
}
