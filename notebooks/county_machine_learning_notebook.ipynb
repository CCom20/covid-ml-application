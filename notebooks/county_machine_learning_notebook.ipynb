{
 "cells": [
  {
   "cell_type": "code",
   "execution_count": 1,
   "metadata": {},
   "outputs": [],
   "source": [
    "import pandas as pd\n",
    "import numpy as np\n",
    "import csv\n",
    "import os\n",
    "import matplotlib.pyplot as plt\n",
    "from sklearn.preprocessing import LabelEncoder\n",
    "import tensorflow.keras\n",
    "from keras.utils import to_categorical"
   ]
  },
  {
   "cell_type": "markdown",
   "metadata": {},
   "source": [
    "## Voting results based on 2016 Data from MIT\n",
    "MIT Election Data and Science Lab, 2018, \"County Presidential Election Returns 2000-2016\", https://doi.org/10.7910/DVN/VOQCHQ, Harvard Dataverse, V6, UNF:6:ZZe1xuZ5H2l4NUiSRcRf8Q== [fileUNF]"
   ]
  },
  {
   "cell_type": "code",
   "execution_count": 110,
   "metadata": {},
   "outputs": [],
   "source": [
    "pres_results = pd.read_csv(\"../data/presidential_results_by_county_2000-2016.csv\")"
   ]
  },
  {
   "cell_type": "code",
   "execution_count": 111,
   "metadata": {},
   "outputs": [],
   "source": [
    "cleaned_results = pres_results[pres_results[\"year\"] == 2016].dropna()"
   ]
  },
  {
   "cell_type": "code",
   "execution_count": 215,
   "metadata": {},
   "outputs": [],
   "source": [
    "test = cleaned_results[[\"state\", \"county\", \"party\", \"candidatevotes\"]]"
   ]
  },
  {
   "cell_type": "code",
   "execution_count": 216,
   "metadata": {},
   "outputs": [],
   "source": [
    "test = test.groupby([\"state\", \"county\"]).agg({'candidatevotes':'max', 'party': 'count'})"
   ]
  },
  {
   "cell_type": "code",
   "execution_count": 217,
   "metadata": {},
   "outputs": [],
   "source": [
    "test.drop(\"party\", axis=1, inplace=True)"
   ]
  },
  {
   "cell_type": "code",
   "execution_count": 218,
   "metadata": {},
   "outputs": [
    {
     "data": {
      "text/html": [
       "<div>\n",
       "<style scoped>\n",
       "    .dataframe tbody tr th:only-of-type {\n",
       "        vertical-align: middle;\n",
       "    }\n",
       "\n",
       "    .dataframe tbody tr th {\n",
       "        vertical-align: top;\n",
       "    }\n",
       "\n",
       "    .dataframe thead th {\n",
       "        text-align: right;\n",
       "    }\n",
       "</style>\n",
       "<table border=\"1\" class=\"dataframe\">\n",
       "  <thead>\n",
       "    <tr style=\"text-align: right;\">\n",
       "      <th></th>\n",
       "      <th></th>\n",
       "      <th>candidatevotes</th>\n",
       "    </tr>\n",
       "    <tr>\n",
       "      <th>state</th>\n",
       "      <th>county</th>\n",
       "      <th></th>\n",
       "    </tr>\n",
       "  </thead>\n",
       "  <tbody>\n",
       "    <tr>\n",
       "      <th rowspan=\"5\" valign=\"top\">Alabama</th>\n",
       "      <th>Autauga</th>\n",
       "      <td>18172.0</td>\n",
       "    </tr>\n",
       "    <tr>\n",
       "      <th>Baldwin</th>\n",
       "      <td>72883.0</td>\n",
       "    </tr>\n",
       "    <tr>\n",
       "      <th>Barbour</th>\n",
       "      <td>5454.0</td>\n",
       "    </tr>\n",
       "    <tr>\n",
       "      <th>Bibb</th>\n",
       "      <td>6738.0</td>\n",
       "    </tr>\n",
       "    <tr>\n",
       "      <th>Blount</th>\n",
       "      <td>22859.0</td>\n",
       "    </tr>\n",
       "    <tr>\n",
       "      <th>...</th>\n",
       "      <th>...</th>\n",
       "      <td>...</td>\n",
       "    </tr>\n",
       "    <tr>\n",
       "      <th rowspan=\"5\" valign=\"top\">Wyoming</th>\n",
       "      <th>Sweetwater</th>\n",
       "      <td>12154.0</td>\n",
       "    </tr>\n",
       "    <tr>\n",
       "      <th>Teton</th>\n",
       "      <td>7314.0</td>\n",
       "    </tr>\n",
       "    <tr>\n",
       "      <th>Uinta</th>\n",
       "      <td>6154.0</td>\n",
       "    </tr>\n",
       "    <tr>\n",
       "      <th>Washakie</th>\n",
       "      <td>2911.0</td>\n",
       "    </tr>\n",
       "    <tr>\n",
       "      <th>Weston</th>\n",
       "      <td>3033.0</td>\n",
       "    </tr>\n",
       "  </tbody>\n",
       "</table>\n",
       "<p>3149 rows × 1 columns</p>\n",
       "</div>"
      ],
      "text/plain": [
       "                    candidatevotes\n",
       "state   county                    \n",
       "Alabama Autauga            18172.0\n",
       "        Baldwin            72883.0\n",
       "        Barbour             5454.0\n",
       "        Bibb                6738.0\n",
       "        Blount             22859.0\n",
       "...                            ...\n",
       "Wyoming Sweetwater         12154.0\n",
       "        Teton               7314.0\n",
       "        Uinta               6154.0\n",
       "        Washakie            2911.0\n",
       "        Weston              3033.0\n",
       "\n",
       "[3149 rows x 1 columns]"
      ]
     },
     "execution_count": 218,
     "metadata": {},
     "output_type": "execute_result"
    }
   ],
   "source": [
    "test"
   ]
  },
  {
   "cell_type": "code",
   "execution_count": 233,
   "metadata": {},
   "outputs": [],
   "source": [
    "party_votes = cleaned_results[[\"party\", \"candidatevotes\"]]"
   ]
  },
  {
   "cell_type": "code",
   "execution_count": 234,
   "metadata": {},
   "outputs": [],
   "source": [
    "party_final = test.merge(cleaned_results, how=\"inner\", on=\"candidatevotes\").drop_duplicates()"
   ]
  },
  {
   "cell_type": "code",
   "execution_count": 235,
   "metadata": {},
   "outputs": [],
   "source": [
    "party_final.reset_index(inplace=True, drop=True)"
   ]
  },
  {
   "cell_type": "code",
   "execution_count": 236,
   "metadata": {},
   "outputs": [],
   "source": [
    "party_final.drop(columns={\"year\", \"FIPS\", \"office\", \"candidate\", \"totalvotes\", \"version\", \"candidatevotes\", \"state_po\"}, inplace=True)"
   ]
  },
  {
   "cell_type": "code",
   "execution_count": 237,
   "metadata": {},
   "outputs": [],
   "source": [
    "data = pd.read_csv(\"../data/county-cases-latest-master.csv\")\n",
    "data.drop(columns={\"Unnamed: 0\"}, inplace=True)"
   ]
  },
  {
   "cell_type": "code",
   "execution_count": 238,
   "metadata": {},
   "outputs": [
    {
     "data": {
      "text/plain": [
       "Index(['date', 'state', 'county', 'fips', 'cases', 'deaths', 'code',\n",
       "       '2019_population_est', 'poverty_est_all_ages',\n",
       "       'median_household_income', 'less_than_high_school_diploma_2015-19',\n",
       "       'high_school_diploma_only_2015-19',\n",
       "       'some_college_or_associate_ degree_2015-19',\n",
       "       'bachelor_degree_or_higher_2015-19'],\n",
       "      dtype='object')"
      ]
     },
     "execution_count": 238,
     "metadata": {},
     "output_type": "execute_result"
    }
   ],
   "source": [
    "data.columns"
   ]
  },
  {
   "cell_type": "code",
   "execution_count": 240,
   "metadata": {},
   "outputs": [],
   "source": [
    "analysis_df = data.merge(party_final, left_on=[\"state\", \"county\"], right_on=[\"state\", \"county\"]).drop_duplicates()"
   ]
  },
  {
   "cell_type": "code",
   "execution_count": 242,
   "metadata": {},
   "outputs": [],
   "source": [
    "analysis_df.drop(columns={\"date\", \"fips\",}, inplace=True)"
   ]
  },
  {
   "cell_type": "code",
   "execution_count": 244,
   "metadata": {},
   "outputs": [],
   "source": [
    "analysis_df = analysis_df[[\"state\", \"county\", \"party\", \"cases\", \"deaths\", \"median_household_income\", \"2019_population_est\"]]"
   ]
  },
  {
   "cell_type": "code",
   "execution_count": 247,
   "metadata": {},
   "outputs": [],
   "source": [
    "analysis_df = pd.get_dummies(analysis_df, columns=[\"party\"])"
   ]
  },
  {
   "cell_type": "code",
   "execution_count": 251,
   "metadata": {},
   "outputs": [],
   "source": [
    "analysis_df.drop(columns={\"party_republican\"}, inplace=True)"
   ]
  },
  {
   "cell_type": "code",
   "execution_count": 252,
   "metadata": {},
   "outputs": [
    {
     "data": {
      "text/html": [
       "<div>\n",
       "<style scoped>\n",
       "    .dataframe tbody tr th:only-of-type {\n",
       "        vertical-align: middle;\n",
       "    }\n",
       "\n",
       "    .dataframe tbody tr th {\n",
       "        vertical-align: top;\n",
       "    }\n",
       "\n",
       "    .dataframe thead th {\n",
       "        text-align: right;\n",
       "    }\n",
       "</style>\n",
       "<table border=\"1\" class=\"dataframe\">\n",
       "  <thead>\n",
       "    <tr style=\"text-align: right;\">\n",
       "      <th></th>\n",
       "      <th>state</th>\n",
       "      <th>county</th>\n",
       "      <th>cases</th>\n",
       "      <th>deaths</th>\n",
       "      <th>median_household_income</th>\n",
       "      <th>2019_population_est</th>\n",
       "      <th>party_democrat</th>\n",
       "    </tr>\n",
       "  </thead>\n",
       "  <tbody>\n",
       "    <tr>\n",
       "      <th>0</th>\n",
       "      <td>Alabama</td>\n",
       "      <td>Autauga</td>\n",
       "      <td>6364.0</td>\n",
       "      <td>92.0</td>\n",
       "      <td>58233.0</td>\n",
       "      <td>55869.0</td>\n",
       "      <td>0</td>\n",
       "    </tr>\n",
       "    <tr>\n",
       "      <th>1</th>\n",
       "      <td>Alabama</td>\n",
       "      <td>Baldwin</td>\n",
       "      <td>19942.0</td>\n",
       "      <td>289.0</td>\n",
       "      <td>59871.0</td>\n",
       "      <td>223234.0</td>\n",
       "      <td>0</td>\n",
       "    </tr>\n",
       "    <tr>\n",
       "      <th>2</th>\n",
       "      <td>Alabama</td>\n",
       "      <td>Barbour</td>\n",
       "      <td>2143.0</td>\n",
       "      <td>51.0</td>\n",
       "      <td>35972.0</td>\n",
       "      <td>24686.0</td>\n",
       "      <td>0</td>\n",
       "    </tr>\n",
       "    <tr>\n",
       "      <th>3</th>\n",
       "      <td>Alabama</td>\n",
       "      <td>Bibb</td>\n",
       "      <td>2464.0</td>\n",
       "      <td>58.0</td>\n",
       "      <td>47918.0</td>\n",
       "      <td>22394.0</td>\n",
       "      <td>0</td>\n",
       "    </tr>\n",
       "    <tr>\n",
       "      <th>4</th>\n",
       "      <td>Alabama</td>\n",
       "      <td>Blount</td>\n",
       "      <td>6256.0</td>\n",
       "      <td>128.0</td>\n",
       "      <td>52902.0</td>\n",
       "      <td>57826.0</td>\n",
       "      <td>0</td>\n",
       "    </tr>\n",
       "    <tr>\n",
       "      <th>...</th>\n",
       "      <td>...</td>\n",
       "      <td>...</td>\n",
       "      <td>...</td>\n",
       "      <td>...</td>\n",
       "      <td>...</td>\n",
       "      <td>...</td>\n",
       "      <td>...</td>\n",
       "    </tr>\n",
       "    <tr>\n",
       "      <th>3464</th>\n",
       "      <td>Wyoming</td>\n",
       "      <td>Teton</td>\n",
       "      <td>3397.0</td>\n",
       "      <td>9.0</td>\n",
       "      <td>98837.0</td>\n",
       "      <td>23464.0</td>\n",
       "      <td>1</td>\n",
       "    </tr>\n",
       "    <tr>\n",
       "      <th>3465</th>\n",
       "      <td>Wyoming</td>\n",
       "      <td>Uinta</td>\n",
       "      <td>2076.0</td>\n",
       "      <td>12.0</td>\n",
       "      <td>70756.0</td>\n",
       "      <td>20226.0</td>\n",
       "      <td>1</td>\n",
       "    </tr>\n",
       "    <tr>\n",
       "      <th>3466</th>\n",
       "      <td>Wyoming</td>\n",
       "      <td>Uinta</td>\n",
       "      <td>2076.0</td>\n",
       "      <td>12.0</td>\n",
       "      <td>70756.0</td>\n",
       "      <td>20226.0</td>\n",
       "      <td>0</td>\n",
       "    </tr>\n",
       "    <tr>\n",
       "      <th>3467</th>\n",
       "      <td>Wyoming</td>\n",
       "      <td>Washakie</td>\n",
       "      <td>887.0</td>\n",
       "      <td>26.0</td>\n",
       "      <td>55122.0</td>\n",
       "      <td>7805.0</td>\n",
       "      <td>0</td>\n",
       "    </tr>\n",
       "    <tr>\n",
       "      <th>3468</th>\n",
       "      <td>Wyoming</td>\n",
       "      <td>Weston</td>\n",
       "      <td>623.0</td>\n",
       "      <td>5.0</td>\n",
       "      <td>59410.0</td>\n",
       "      <td>6927.0</td>\n",
       "      <td>0</td>\n",
       "    </tr>\n",
       "  </tbody>\n",
       "</table>\n",
       "<p>3460 rows × 7 columns</p>\n",
       "</div>"
      ],
      "text/plain": [
       "        state    county    cases  deaths  median_household_income  \\\n",
       "0     Alabama   Autauga   6364.0    92.0                  58233.0   \n",
       "1     Alabama   Baldwin  19942.0   289.0                  59871.0   \n",
       "2     Alabama   Barbour   2143.0    51.0                  35972.0   \n",
       "3     Alabama      Bibb   2464.0    58.0                  47918.0   \n",
       "4     Alabama    Blount   6256.0   128.0                  52902.0   \n",
       "...       ...       ...      ...     ...                      ...   \n",
       "3464  Wyoming     Teton   3397.0     9.0                  98837.0   \n",
       "3465  Wyoming     Uinta   2076.0    12.0                  70756.0   \n",
       "3466  Wyoming     Uinta   2076.0    12.0                  70756.0   \n",
       "3467  Wyoming  Washakie    887.0    26.0                  55122.0   \n",
       "3468  Wyoming    Weston    623.0     5.0                  59410.0   \n",
       "\n",
       "      2019_population_est  party_democrat  \n",
       "0                 55869.0               0  \n",
       "1                223234.0               0  \n",
       "2                 24686.0               0  \n",
       "3                 22394.0               0  \n",
       "4                 57826.0               0  \n",
       "...                   ...             ...  \n",
       "3464              23464.0               1  \n",
       "3465              20226.0               1  \n",
       "3466              20226.0               0  \n",
       "3467               7805.0               0  \n",
       "3468               6927.0               0  \n",
       "\n",
       "[3460 rows x 7 columns]"
      ]
     },
     "execution_count": 252,
     "metadata": {},
     "output_type": "execute_result"
    }
   ],
   "source": [
    "analysis_df"
   ]
  },
  {
   "cell_type": "markdown",
   "metadata": {},
   "source": [
    "# Training  / Testing Model"
   ]
  },
  {
   "cell_type": "code",
   "execution_count": 259,
   "metadata": {},
   "outputs": [
    {
     "data": {
      "text/plain": [
       "(3460, 3)"
      ]
     },
     "execution_count": 259,
     "metadata": {},
     "output_type": "execute_result"
    }
   ],
   "source": [
    "# PLot each of these factors agains coivd, what trends factor by factor\n",
    "# Python grid plot\n",
    "# Possibly just remove some ind. variables w/ high correlation to each other. \n",
    "X = analysis_df.iloc[:, 4:]\n",
    "X.shape"
   ]
  },
  {
   "cell_type": "code",
   "execution_count": 260,
   "metadata": {},
   "outputs": [
    {
     "data": {
      "text/plain": [
       "(3460, 1)"
      ]
     },
     "execution_count": 260,
     "metadata": {},
     "output_type": "execute_result"
    }
   ],
   "source": [
    "y = analysis_df[\"cases\"].values.reshape(-1, 1)\n",
    "y.shape"
   ]
  },
  {
   "cell_type": "code",
   "execution_count": 263,
   "metadata": {},
   "outputs": [],
   "source": [
    "from sklearn.model_selection import train_test_split\n",
    "\n",
    "X_train, X_test, y_train, y_test = train_test_split(X, y, random_state=42)"
   ]
  },
  {
   "cell_type": "code",
   "execution_count": 264,
   "metadata": {},
   "outputs": [
    {
     "name": "stdout",
     "output_type": "stream",
     "text": [
      "Training Score: 0.6370047059047098\n",
      "Testing Score: 0.570606458650952\n"
     ]
    }
   ],
   "source": [
    "from sklearn.linear_model import LinearRegression\n",
    "model = LinearRegression()\n",
    "\n",
    "model.fit(X_train, y_train)\n",
    "training_score = model.score(X_train, y_train)\n",
    "testing_score = model.score(X_test, y_test)\n",
    "\n",
    "print(f\"Training Score: {training_score}\")\n",
    "print(f\"Testing Score: {testing_score}\")"
   ]
  },
  {
   "cell_type": "code",
   "execution_count": null,
   "metadata": {},
   "outputs": [],
   "source": [
    "census_county_data = pd.read_csv(\"../data/census-bureau-population-by-county.csv\")\n",
    "state_keys = pd.read_csv(\"../data/state-names-codes.csv\")\n",
    "state_keys.rename(columns={\"State\": \"state\"}, inplace=True)"
   ]
  },
  {
   "cell_type": "code",
   "execution_count": null,
   "metadata": {},
   "outputs": [],
   "source": [
    "census_county_data[\"county\"] = census_county_data[\"county\"].str.rstrip()\n",
    "census_county_data = census_county_data.merge(state_keys, how=\"inner\", on=\"state\")\n",
    "census_county_data.rename(columns={\"Code\": \"code\"}, inplace=True)"
   ]
  },
  {
   "cell_type": "code",
   "execution_count": null,
   "metadata": {},
   "outputs": [],
   "source": [
    "poverty_income_data = pd.read_csv(\"../data/poverty-and-median-household-income-data-by-us-county-2019.csv\")\n",
    "poverty_income_data = poverty_income_data.rename(columns={\"Postal Code\": \"code\"})\n",
    "poverty_income_data = poverty_income_data[[\"code\", \"county\", \"Poverty Estimate, All Ages\", \"Median Household Income\"]]"
   ]
  },
  {
   "cell_type": "code",
   "execution_count": null,
   "metadata": {},
   "outputs": [],
   "source": [
    "master = poverty_income_data.merge(census_county_data, how=\"inner\", left_on=[\"code\", \"county\"], right_on=[\"code\", \"county\"])\n",
    "master = master[[\"code\", \"county\", \"Poverty Estimate, All Ages\", \"Median Household Income\", \"state\", \"2019_population_est\"]]"
   ]
  },
  {
   "cell_type": "code",
   "execution_count": null,
   "metadata": {},
   "outputs": [],
   "source": [
    "latest_state_data = pd.read_csv(\"../data/county-cases-latest-master.csv\")\n",
    "latest_state_data.drop(\"Unnamed: 0\", axis=1, inplace=True)"
   ]
  },
  {
   "cell_type": "code",
   "execution_count": null,
   "metadata": {},
   "outputs": [],
   "source": [
    "education = pd.read_csv(\"../data/county-level-education-stats-2015-2019.csv\")\n",
    "education.rename(columns={\"state\": \"code\"}, inplace=True)\n",
    "education[\"county\"] = education[\"county\"].str.rstrip()"
   ]
  },
  {
   "cell_type": "code",
   "execution_count": null,
   "metadata": {},
   "outputs": [],
   "source": [
    "master = master.merge(education, how=\"inner\", left_on=[\"code\", \"county\"], right_on=[\"code\", \"county\"])\n",
    "master.rename(columns={\"Poverty Estimate, All Ages\": \"poverty_est_all_ages\", \"Median Household Income\": \"median_household_income\"}, inplace=True)"
   ]
  },
  {
   "cell_type": "code",
   "execution_count": null,
   "metadata": {},
   "outputs": [],
   "source": [
    "missing = master[~master.county.isin(latest_state_data.county)]\n",
    "missing = missing[~(missing['county'].isin(state_keys.state))]\n",
    "missing = pd.get_dummies(missing)"
   ]
  },
  {
   "cell_type": "code",
   "execution_count": null,
   "metadata": {},
   "outputs": [],
   "source": [
    "missing"
   ]
  },
  {
   "cell_type": "code",
   "execution_count": null,
   "metadata": {},
   "outputs": [],
   "source": [
    "# predict_missing = missing[[\"2019_population_est\", \"poverty_est_all_ages\", \"median_household_income\", \"less_than_high_school_diploma_2015-19\", \"high_school_diploma_only_2015-19\", \"some_college_or_associate_ degree_2015-19\", \"bachelor_degree_or_higher_2015-19\"]]"
   ]
  },
  {
   "cell_type": "code",
   "execution_count": null,
   "metadata": {},
   "outputs": [],
   "source": [
    "# predict_missing"
   ]
  },
  {
   "cell_type": "code",
   "execution_count": null,
   "metadata": {},
   "outputs": [],
   "source": []
  },
  {
   "cell_type": "code",
   "execution_count": null,
   "metadata": {},
   "outputs": [],
   "source": [
    "predict_counties = model.predict(missing)\n",
    "predict_counties"
   ]
  },
  {
   "cell_type": "code",
   "execution_count": null,
   "metadata": {},
   "outputs": [],
   "source": [
    "county_predictions_df = pd.DataFrame(predict_counties)\n",
    "county_predictions_df.rename(columns={0: \"cases\"}, inplace=True)"
   ]
  },
  {
   "cell_type": "code",
   "execution_count": null,
   "metadata": {},
   "outputs": [],
   "source": [
    "missing.reset_index(inplace=True)"
   ]
  },
  {
   "cell_type": "code",
   "execution_count": null,
   "metadata": {
    "scrolled": true
   },
   "outputs": [],
   "source": [
    "missing_results = missing.merge(county_predictions_df, how=\"inner\", left_index=True, right_index=True)"
   ]
  },
  {
   "cell_type": "code",
   "execution_count": null,
   "metadata": {},
   "outputs": [],
   "source": [
    "missing_results = missing_results[[\"code\", \"county\", \"2019_population_est\", \"cases\"]]"
   ]
  },
  {
   "cell_type": "code",
   "execution_count": null,
   "metadata": {},
   "outputs": [],
   "source": [
    "missing_results"
   ]
  },
  {
   "cell_type": "code",
   "execution_count": null,
   "metadata": {},
   "outputs": [],
   "source": [
    "data_X = data[\"median_household_income\"].values.reshape(-1,1)\n",
    "data_y = data[\"cases\"].values.reshape(-1,1)"
   ]
  },
  {
   "cell_type": "code",
   "execution_count": null,
   "metadata": {},
   "outputs": [],
   "source": [
    "data_X.shape\n",
    "data_y.shape"
   ]
  },
  {
   "cell_type": "code",
   "execution_count": null,
   "metadata": {},
   "outputs": [],
   "source": [
    "from sklearn.linear_model import LinearRegression\n",
    "model = LinearRegression()\n",
    "\n",
    "model.fit(data_X, data_y)"
   ]
  },
  {
   "cell_type": "code",
   "execution_count": null,
   "metadata": {},
   "outputs": [],
   "source": [
    "results = model.predict(predict_missing)"
   ]
  },
  {
   "cell_type": "code",
   "execution_count": null,
   "metadata": {},
   "outputs": [],
   "source": [
    "pd.DataFrame(results)"
   ]
  },
  {
   "cell_type": "code",
   "execution_count": null,
   "metadata": {},
   "outputs": [],
   "source": []
  }
 ],
 "metadata": {
  "kernelspec": {
   "display_name": "Python 3",
   "language": "python",
   "name": "python3"
  },
  "language_info": {
   "codemirror_mode": {
    "name": "ipython",
    "version": 3
   },
   "file_extension": ".py",
   "mimetype": "text/x-python",
   "name": "python",
   "nbconvert_exporter": "python",
   "pygments_lexer": "ipython3",
   "version": "3.7.8"
  }
 },
 "nbformat": 4,
 "nbformat_minor": 4
}
